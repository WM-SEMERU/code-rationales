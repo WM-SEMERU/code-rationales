{
 "cells": [
  {
   "cell_type": "markdown",
   "metadata": {},
   "source": [
    "# Local Aggregations Module"
   ]
  },
  {
   "cell_type": "code",
   "execution_count": 49,
   "metadata": {},
   "outputs": [],
   "source": [
    "def param_default():\n",
    "    return {\n",
    "        'model_name' : '/workspaces/code-rationales/data/codeparrot-small/checkpoints/checkpoint-29000', \n",
    "        'cache_dir': '/workspaces/code-rationales/datax/df_cache_dir',\n",
    "        'delimiter_sequence': ''\n",
    "    }\n",
    "prompts = [\n",
    "        \"\"\"def multiply(alejo,testing):\n",
    "    return pow(alejo,testing)\"\"\"\n",
    "]"
   ]
  },
  {
   "cell_type": "code",
   "execution_count": 50,
   "metadata": {},
   "outputs": [],
   "source": [
    "params = param_default()"
   ]
  },
  {
   "cell_type": "markdown",
   "metadata": {},
   "source": [
    "## CORE"
   ]
  },
  {
   "cell_type": "markdown",
   "metadata": {},
   "source": [
    "### Imports"
   ]
  },
  {
   "cell_type": "code",
   "execution_count": 51,
   "metadata": {},
   "outputs": [],
   "source": [
    "from pathlib import Path\n",
    "import csv\n",
    "import seaborn as sns; sns.set_theme()\n",
    "import matplotlib.pyplot as plt\n",
    "import pandas as pd\n",
    "import numpy as np\n",
    "import functools\n",
    "import json\n",
    "import nltk\n",
    "\n",
    "pd.options.display.float_format = '{:.2f}'.format"
   ]
  },
  {
   "cell_type": "code",
   "execution_count": 52,
   "metadata": {},
   "outputs": [],
   "source": [
    "from code_rationales.loader import download_grammars\n",
    "from tree_sitter import Language, Parser\n",
    "import code_rationales"
   ]
  },
  {
   "cell_type": "code",
   "execution_count": 53,
   "metadata": {},
   "outputs": [],
   "source": [
    "from transformers import AutoConfig, AutoModelForCausalLM, AutoTokenizer\n",
    "from datasets import load_dataset, load_from_disk\n",
    "import torch"
   ]
  },
  {
   "cell_type": "code",
   "execution_count": 54,
   "metadata": {},
   "outputs": [],
   "source": [
    "import warnings\n",
    "import importlib\n",
    "from matplotlib import colors\n",
    "import os"
   ]
  },
  {
   "cell_type": "code",
   "execution_count": 55,
   "metadata": {},
   "outputs": [],
   "source": [
    "import sys\n",
    "sys.path.insert(1, '/workspaces/code-rationales/sequential-rationales/huggingface')\n",
    "from rationalization import rationalize_lm"
   ]
  },
  {
   "cell_type": "code",
   "execution_count": 56,
   "metadata": {},
   "outputs": [],
   "source": [
    "device = \"cuda:0\" if torch.cuda.is_available() else \"cpu\""
   ]
  },
  {
   "cell_type": "markdown",
   "metadata": {},
   "source": [
    "### Setup"
   ]
  },
  {
   "cell_type": "code",
   "execution_count": 57,
   "metadata": {},
   "outputs": [
    {
     "name": "stderr",
     "output_type": "stream",
     "text": [
      "[nltk_data] Downloading package punkt to /root/nltk_data...\n",
      "[nltk_data]   Package punkt is already up-to-date!\n",
      "[nltk_data] Downloading package averaged_perceptron_tagger to\n",
      "[nltk_data]     /root/nltk_data...\n",
      "[nltk_data]   Package averaged_perceptron_tagger is already up-to-\n",
      "[nltk_data]       date!\n",
      "[nltk_data] Downloading package tagsets to /root/nltk_data...\n",
      "[nltk_data]   Package tagsets is already up-to-date!\n"
     ]
    },
    {
     "data": {
      "text/plain": [
       "True"
      ]
     },
     "execution_count": 57,
     "metadata": {},
     "output_type": "execute_result"
    }
   ],
   "source": [
    "nltk.download('punkt')\n",
    "nltk.download('averaged_perceptron_tagger')\n",
    "nltk.download('tagsets')"
   ]
  },
  {
   "cell_type": "markdown",
   "metadata": {},
   "source": [
    "### Taxonomies"
   ]
  },
  {
   "cell_type": "code",
   "execution_count": 58,
   "metadata": {},
   "outputs": [],
   "source": [
    "#Programming Language Taxonomy\n",
    "def pl_taxonomy_python() -> dict:\n",
    "    return {\n",
    "  \"punctuation\": ['{', '}', '[', ']', '(', ')','\\\"', ',', '.', '...', ';', ':'], \n",
    "  \"exceptions\": ['raise_statement','catch', 'try', 'finally', 'throw', 'throws', 'except'],\n",
    "  \"oop\": ['def','class','instanceof','interface','private','protected','public','abstract','extends','package','this','implements','import','new','super'],\n",
    "  \"asserts\": ['assert'],\n",
    "  \"types\": ['tuple','set','list','pair','subscript','type','none','dictionary','integer','native','static','synchronized','transient','volatile','void','final','enum','byte','char','float','boolean','double','int','long','short','strictfp'],\n",
    "  \"conditionals\": ['else', 'if', 'switch', 'case', 'default'],\n",
    "  \"loops\": ['break', 'do', 'for', 'while', 'continue'],\n",
    "  \"operators\": ['as','yield','is','@','in','and','or','not','**','slice','%','+','<','>','=','+','-','*','/','%','++','--','!','==','!=','>=','<=','&&','||','?',':','~','<<','>>','>>>','&','^','|','//'],\n",
    "  \"indentation\": ['\\n','\\t'],\n",
    "  \"bool\": ['true', 'false'], \n",
    "  \"functional\":['lambda','lambda_parameters'],\n",
    "  \"with\" : ['with','with_item','with_statement','with_clause'], \n",
    "  \"return\" :['return'],\n",
    "  \"structural\" : ['attribute', 'argument_list','parenthesized_expression','pattern_list','class_definition','function_definition','block'],\n",
    "  \"statements\" : ['return_statement','break_statement','assignment','while_statement','expression_statement','assert_statement'],\n",
    "  \"expression\": ['call','exec','async','ellipsis','unary_operator','binary_operator','as_pattern_target','boolean_operator','as_pattern','comparison_operator','conditional_expression','named_expression','not_operator','primary_expression','as_pattern'],\n",
    "  \"errors\": [\"ERROR\"],\n",
    "  \"identifier\":[\"identifier\"],  \n",
    "  \"comment\":[\"comment\"],\n",
    "  \"string\": ['string','interpolation','string_content','string_end','string_start','escape_sequence'], \n",
    "  \"unknown\": []\n",
    "}"
   ]
  },
  {
   "cell_type": "code",
   "execution_count": 59,
   "metadata": {},
   "outputs": [],
   "source": [
    "def nl_pos_taxonomy() -> dict: return {\n",
    "    \"nl_verb\" : ['VBN', 'VBG', 'VBZ', 'VBP', 'VBD', 'VB'],\n",
    "    \"nl_noun\" : ['NN', 'NNPS', 'NNS', 'NNP'],\n",
    "    \"nl_pronoun\" : ['WP', 'PRP', 'PRP$', 'WP','WP$'], \n",
    "    \"nl_adverb\" : ['RBS','RBR', 'RB', 'WRB'], \n",
    "    \"nl_adjetive\" : ['JJR', 'JJS', 'JJ'], \n",
    "    \"nl_determier\" : ['DT','WDT','PDT'], \n",
    "    \"nl_preposition\" : ['IN', 'TO'],\n",
    "    \"nl_particle\" : ['RP'],\n",
    "    \"nl_modal\" : ['MD'],\n",
    "    \"nl_conjunction\" : ['CC'],\n",
    "    \"nl_cardinal\" : ['CD'],\n",
    "    \"nl_list\": ['LS'],\n",
    "    \"nl_other\" : ['FW', 'EX', 'SYM' , 'UH', 'POS', \"''\", '--',':', '(', ')', '.', ',', '``', '$']\n",
    "}"
   ]
  },
  {
   "cell_type": "markdown",
   "metadata": {},
   "source": [
    "### AST Mapping"
   ]
  },
  {
   "cell_type": "code",
   "execution_count": 60,
   "metadata": {},
   "outputs": [],
   "source": [
    "def unroll_node_types(\n",
    "    nested_node_types: dict  # node_types from tree-sitter\n",
    ") -> list: # list of node types\n",
    "    def iterate_and_unroll_dict(nested_node_types: dict, all_node_types: set):\n",
    "        for key, value in nested_node_types.items():\n",
    "            if key == 'type' and type(value) == str:\n",
    "                all_node_types.add(value)\n",
    "            if type(value) == dict:\n",
    "                iterate_and_unroll_dict(value, all_node_types)\n",
    "            if type(value) == list:\n",
    "                for element in value:\n",
    "                    iterate_and_unroll_dict(element, all_node_types) \n",
    "    all_node_types = set()\n",
    "    for dictionary in nested_node_types:\n",
    "        iterate_and_unroll_dict(dictionary, all_node_types)\n",
    "    all_node_types.add('ERROR')\n",
    "    return list(all_node_types)"
   ]
  },
  {
   "cell_type": "code",
   "execution_count": 61,
   "metadata": {},
   "outputs": [],
   "source": [
    "def create_parser(lang: str):\n",
    "    # Grab the node types from the tree-sitter language\n",
    "    language = Language(f\"{code_rationales.__path__[0]}/grammars/tree-sitter-languages.so\", lang)\n",
    "    node_path = f\"{code_rationales.__path__[0]}/grammars/tree-sitter-{lang}/src/node-types.json\"\n",
    "    with open(node_path) as f:\n",
    "            node_types = json.load(f)\n",
    "    node_types = unroll_node_types(node_types)\n",
    "    # Create a parser for the language\n",
    "    parser = Parser()\n",
    "    parser.set_language(language)\n",
    "    return parser, node_types"
   ]
  },
  {
   "cell_type": "code",
   "execution_count": 62,
   "metadata": {},
   "outputs": [],
   "source": [
    "def traverse(\n",
    "    node,       # tree-sitter node\n",
    ") -> None:\n",
    "    \"\"\"Traverse in a recursive way, a tree-sitter node and append results to a list.\"\"\"\n",
    "    results = []\n",
    "    def traverse_tree(node, results):\n",
    "        if node.type == 'string':\n",
    "            results.append(node)\n",
    "            return\n",
    "        for n in node.children:\n",
    "            traverse_tree(n, results)\n",
    "        if not node.children:\n",
    "            results.append(node)\n",
    "    traverse_tree(node, results)\n",
    "    return results"
   ]
  },
  {
   "cell_type": "code",
   "execution_count": 63,
   "metadata": {},
   "outputs": [],
   "source": [
    "def convert_to_offset(\n",
    "    point,              #point to convert\n",
    "    lines: list         #list of lines in the source code\n",
    "    ):\n",
    "        \"\"\"Convert the point to an offset\"\"\"\n",
    "        row, column = point\n",
    "        chars_in_rows = sum(map(len, lines[:row])) + row\n",
    "        chars_in_columns = len(lines[row][:column])\n",
    "        offset = chars_in_rows + chars_in_columns\n",
    "        return offset"
   ]
  },
  {
   "cell_type": "code",
   "execution_count": 64,
   "metadata": {},
   "outputs": [],
   "source": [
    "def get_node_span(node, lines):\n",
    "    \"\"\"Get the span position of the node in the code string\"\"\"\n",
    "    start_span = convert_to_offset(node.start_point, lines)\n",
    "    end_span = convert_to_offset(node.end_point, lines)\n",
    "    return start_span, end_span\n",
    "    "
   ]
  },
  {
   "cell_type": "code",
   "execution_count": 65,
   "metadata": {},
   "outputs": [],
   "source": [
    "def is_token_span_in_node_span(tok_span, node_span):\n",
    "    return (node_span[0] <= tok_span[0] and tok_span[1] <= node_span[1]) or (node_span[0]-1 <= tok_span[0] and tok_span[1] <= node_span[1])"
   ]
  },
  {
   "cell_type": "code",
   "execution_count": 66,
   "metadata": {},
   "outputs": [],
   "source": [
    "def get_token_type(\n",
    "    tok_span: tuple, # (start, end) position of a token in tokenizer\n",
    "    nodes: list,     # list of tree-sitter nodes\n",
    "    lines: list,     # list of lines in the code\n",
    ") -> tuple: # (parent_type, token_type) of the token\n",
    "    \"\"\"Get the parent AST type and token AST type of a token.\"\"\"\n",
    "    node_spans = [get_node_span(node, lines) for node in nodes]\n",
    "    for i, span in enumerate(node_spans):\n",
    "        if is_token_span_in_node_span(tok_span, span):\n",
    "            return nodes[i].parent.type, nodes[i].type"
   ]
  },
  {
   "cell_type": "code",
   "execution_count": 67,
   "metadata": {},
   "outputs": [],
   "source": [
    "def get_token_nodes(\n",
    "    tok_span: tuple, # (start, end) position of a token in tokenizer\n",
    "    node,            # tree-sitter node\n",
    "    lines: list,     # list of lines in the code\n",
    ") -> list: \n",
    "    \"\"\"Get all AST types for the given token span\"\"\"\n",
    "    results = []\n",
    "    def traverse_and_get_types(tok_span, node, lines, results) -> None:\n",
    "        node_span = get_node_span(node, lines)\n",
    "        if is_token_span_in_node_span(tok_span, node_span):\n",
    "            results.append(node)\n",
    "        for n in node.children:\n",
    "            traverse_and_get_types(tok_span, n, lines, results)\n",
    "    traverse_and_get_types(tok_span, node, lines, results)\n",
    "    return results"
   ]
  },
  {
   "cell_type": "code",
   "execution_count": 68,
   "metadata": {},
   "outputs": [],
   "source": [
    "def get_nodes_by_type(\n",
    "    node, \n",
    "    node_types: list\n",
    ") -> list :\n",
    "    def traverse_and_search(node, node_types, results):\n",
    "        if node.type in node_types:\n",
    "            results.append(node)\n",
    "        for n in node.children:\n",
    "            traverse_and_search(n, node_types ,results)\n",
    "    results = []\n",
    "    traverse_and_search(node, node_types, results)\n",
    "    return results"
   ]
  },
  {
   "cell_type": "markdown",
   "metadata": {},
   "source": [
    "### Taxonomy Mapping"
   ]
  },
  {
   "cell_type": "code",
   "execution_count": 69,
   "metadata": {},
   "outputs": [],
   "source": [
    "def clean_results(global_results):\n",
    "    def clean_dictonary(result_dict):\n",
    "        clean_dict = result_dict.copy()\n",
    "        for key, value in result_dict.items():\n",
    "            if not value or not value['values']: \n",
    "                clean_dict.pop(key)\n",
    "        return clean_dict\n",
    "    for key, value in global_results.items():\n",
    "        global_results[key] = clean_dictonary(value)\n",
    "    return global_results"
   ]
  },
  {
   "cell_type": "code",
   "execution_count": 70,
   "metadata": {},
   "outputs": [],
   "source": [
    "def search_category_by_token(taxonomy_dict: dict, token_type: str):\n",
    "    for key, value in taxonomy_dict.items():\n",
    "        if token_type in value:\n",
    "            return key\n",
    "    return 'unknown'"
   ]
  },
  {
   "cell_type": "code",
   "execution_count": 71,
   "metadata": {},
   "outputs": [],
   "source": [
    "def map_to_taxonomy(taxonomy_dict: dict, result_dict: dict):\n",
    "    result_dict = result_dict.copy()\n",
    "    mappings = {token: {category : {'values': [], 'rationales': []} for category in taxonomy_dict.keys()} for token in result_dict.keys()}\n",
    "    for target_token, value in result_dict.items():\n",
    "        for source_token, props in value.items():\n",
    "            mappings[target_token][search_category_by_token(taxonomy_dict, source_token)]['values'].append(props['values'])\n",
    "            mappings[target_token][search_category_by_token(taxonomy_dict, source_token)]['rationales'].append(props['rationales'])\n",
    "    return clean_results(mappings)"
   ]
  },
  {
   "cell_type": "code",
   "execution_count": 72,
   "metadata": {},
   "outputs": [],
   "source": [
    "def map_local_results_to_taxonomy(taxonomy_dict:dict, local_results: dict):\n",
    "    return dict(zip(local_results.keys(), map(lambda aggegrations: map_to_taxonomy(taxonomy_dict, aggegrations), local_results.values())))"
   ]
  },
  {
   "cell_type": "markdown",
   "metadata": {},
   "source": [
    "### Model Sampling Generation"
   ]
  },
  {
   "cell_type": "code",
   "execution_count": 73,
   "metadata": {},
   "outputs": [],
   "source": [
    "def df_sampled_generation(\n",
    "        df_sampled_code, \n",
    "        model,\n",
    "        tokenizer,\n",
    "        number_samples_generation = 1,\n",
    "        max_gen_tok = 100, \n",
    "        top_k = 0\n",
    "    ):\n",
    "    dict_generated_code = {i: [] for i in range(number_samples_generation)}\n",
    "    for idx_prompt, prompt in enumerate(df_sampled_code['prompt']):\n",
    "        input = tokenizer([prompt], return_tensors=\"pt\")\n",
    "        input.to(model.device)\n",
    "        outputs = model.generate(**input, do_sample=True,\n",
    "                                 max_length=len(df_sampled_code['input_ids'][idx_prompt]), ##Force rationalization\n",
    "                                 top_k=top_k, \n",
    "                                 num_return_sequences=number_samples_generation, \n",
    "                                 pad_token_id=tokenizer.eos_token_id)\n",
    "        for index, output in enumerate(outputs):\n",
    "            dict_generated_code[index].append(output.tolist())\n",
    "    df_temp = pd.DataFrame().from_dict(data=dict_generated_code) # DataFrame from Generation\n",
    "    df_temp = pd.concat([df_sampled_code.reset_index(), df_temp ], axis=1) #Index before concating\n",
    "    return df_temp"
   ]
  },
  {
   "cell_type": "markdown",
   "metadata": {},
   "source": [
    "### Running Rationales"
   ]
  },
  {
   "cell_type": "code",
   "execution_count": 74,
   "metadata": {},
   "outputs": [],
   "source": [
    "#If the model is not fine-tuned or compatible, it will rise an error\n",
    "#This function works for one tensor of source token and one tensor of target tokens\n",
    "def rationalize_model(model, tokenizer, input_ids, max_token_size: int, verbose=True):\n",
    "    torch.cuda.empty_cache() #Cleaning Cache\n",
    "    all_rationales, log = rationalize_lm(\n",
    "        model = model,\n",
    "        input_ids = input_ids[:max_token_size],\n",
    "        tokenizer = tokenizer,\n",
    "        verbose = verbose,\n",
    "        max_steps=1024 #Max number of steps for greedy rationalization\n",
    "    )\n",
    "    return all_rationales, log "
   ]
  },
  {
   "cell_type": "code",
   "execution_count": 75,
   "metadata": {},
   "outputs": [],
   "source": [
    "def run_multiple_rational(\n",
    "    model,\n",
    "    tokenizer, \n",
    "    arr_target_tokens, \n",
    "    seq_id, #mapping sequence id\n",
    "    max_token_size,\n",
    "    verbose=True\n",
    "):\n",
    "    arr_log = []\n",
    "    for index, val in enumerate(arr_target_tokens):\n",
    "        all_rationales, log = rationalize_model(\n",
    "            model=model, \n",
    "            tokenizer=tokenizer, \n",
    "            input_ids=val,\n",
    "            max_token_size=max_token_size,\n",
    "            verbose=False\n",
    "        )\n",
    "        arr_log.append(log)\n",
    "    arr_code_rationales = [ log['rationalization'] for log in arr_log ] #extracting just rationalizations\n",
    "    arr_from_sentence = [ list(np.full( len(val), seq_id[arr_i] )) #arr_i maps to the real sequence id\n",
    "                            for arr_i, val in enumerate(arr_code_rationales)]\n",
    "    arr_code_rationales = sum( arr_code_rationales, [] ) #flatting\n",
    "    arr_from_sentence = sum( arr_from_sentence, [] ) #flatting\n",
    "    return arr_code_rationales, arr_from_sentence"
   ]
  },
  {
   "cell_type": "code",
   "execution_count": 76,
   "metadata": {},
   "outputs": [],
   "source": [
    "def pandas_rationales( arr_code_rationales, arr_from_sentence ):\n",
    "    #Creating pandas_1 {p_rationale}\n",
    "    rational = lambda list_log,typeset: [ (dict_tok['added_token_text'],round(dict_tok['true_token_prob'],6)) for dict_tok in list_log if dict_tok['from']==typeset]\n",
    "    log = lambda log_row: [(log_dict['added_token_text'],log_dict['true_token_prob']) for log_dict in log_row] #Typeset\n",
    "\n",
    "    log_position = lambda log_row: [log_dict['added_token_position'] for log_dict in log_row] #Position of the Rationale\n",
    "    log_prediction = lambda log_row: [log_dict['true_token_prob'] for log_dict in log_row] #Rationale Prob\n",
    "\n",
    "    p_rationale = pd.DataFrame()\n",
    "\n",
    "    p_rationale['goal_token'] = [dict_token['goal_word'] for dict_token in arr_code_rationales]\n",
    "    p_rationale['from_seq_id'] = arr_from_sentence\n",
    "\n",
    "    p_rationale['typesets_tgt'] = [ log(log_row) for log_row in [dict_token['log'] for dict_token in arr_code_rationales]]\n",
    "    \n",
    "    p_rationale['rationale_pos_tgt'] = [ log_position(log_row) for log_row in [dict_token['log'] for dict_token in arr_code_rationales]]\n",
    "    p_rationale['rationale_prob_tgt'] = [ log_prediction(log_row) for log_row in [dict_token['log'] for dict_token in arr_code_rationales]]\n",
    "\n",
    "\n",
    "    return p_rationale"
   ]
  },
  {
   "cell_type": "code",
   "execution_count": 77,
   "metadata": {},
   "outputs": [],
   "source": [
    "#Running Rationalization\n",
    "def run_code_rational( \n",
    "        df_generated_input,\n",
    "        tensor_size, #Control the size of the experiment, \n",
    "        model,\n",
    "        tokenizer,\n",
    "        experiment = '5',\n",
    "        batch_size = 100, \n",
    "        max_token_size = 44,\n",
    "        verbose = True \n",
    "    ):\n",
    "\n",
    "    arr_rationals = []\n",
    "    arr_from_seq = []\n",
    "\n",
    "    for i in range( 0 , tensor_size , batch_size ):\n",
    "        print('************************' + str(i) + '************************')\n",
    "        t_generated_input = df_generated_input[experiment].values[i:i+batch_size]\n",
    "        t_generated_input = [ torch.tensor(s).to(model.device) for s in t_generated_input]\n",
    "\n",
    "        t_arr_rationals,t_arr_from_seq = run_multiple_rational(\n",
    "            model = model,\n",
    "            tokenizer = tokenizer,\n",
    "            arr_target_tokens =  t_generated_input, \n",
    "            seq_id = list(range(i,i+batch_size)),\n",
    "            max_token_size = len(t_generated_input[0]),\n",
    "            verbose = verbose\n",
    "        )\n",
    "\n",
    "        arr_rationals = arr_rationals + t_arr_rationals\n",
    "        arr_from_seq = arr_from_seq + t_arr_from_seq\n",
    "\n",
    "        torch.cuda.empty_cache() #Cleaning Cache\n",
    "        \n",
    "    print(\"Experiment Finished: \" + str(experiment))\n",
    "    return pandas_rationales( arr_rationals, arr_from_seq )"
   ]
  },
  {
   "cell_type": "code",
   "execution_count": 78,
   "metadata": {},
   "outputs": [],
   "source": [
    "def run_code_rational_all_set(exp, df_generated_input, model, tokenizer, tensor_n = 100, BATCH = 10): #When Tensor_n and batch differs then 'from_seq_id' is lost\n",
    "    torch.cuda.empty_cache() #Cleaning Cache\n",
    "    EXP = exp\n",
    "    test_arr_rationals = run_code_rational( \n",
    "            df_generated_input,\n",
    "            tensor_n,\n",
    "            model, \n",
    "            tokenizer,\n",
    "            experiment = EXP,\n",
    "            batch_size = BATCH,\n",
    "            verbose = False \n",
    "        )\n",
    "    #Saving process\n",
    "    return test_arr_rationals\n"
   ]
  },
  {
   "cell_type": "markdown",
   "metadata": {},
   "source": [
    "### Rationales Tagging"
   ]
  },
  {
   "cell_type": "code",
   "execution_count": 79,
   "metadata": {},
   "outputs": [],
   "source": [
    "calculate_right_span = lambda start_idx, end_idx, initial_token, df : len(initial_token + ''.join(map(str, df.loc[start_idx:end_idx, 'goal_token'].tolist())))\n",
    "calculate_span = lambda right_span, token : (right_span-len(str(token)), right_span)"
   ]
  },
  {
   "cell_type": "code",
   "execution_count": 80,
   "metadata": {},
   "outputs": [],
   "source": [
    "def add_auxiliary_columns_to_experiment_result(df, delimiter_sequence: str):\n",
    "    df['rational_pos'] = df['index'] + 1\n",
    "    initial_token = df['typesets_tgt'][0][0][0]\n",
    "    ### TOKEN TYPE COLUMN\n",
    "    token_type_column = ['src'] * len(df)\n",
    "    sequence = initial_token\n",
    "    for idx, goal_token in enumerate(df['goal_token']):\n",
    "        if delimiter_sequence not in sequence:\n",
    "            token_type_column[idx] = 'nl'\n",
    "            sequence+=goal_token\n",
    "    df['token_type'] = token_type_column\n",
    "    ### TOKEN SPAN COLUMN - CHECK FOR DATASETS\n",
    "    src_initial_token_idx = df[df['token_type']== 'src'].first_valid_index()\n",
    "    df['span'] = [None] * len(df[:src_initial_token_idx]) + [calculate_span(calculate_right_span(src_initial_token_idx, index, initial_token, df), token) for index, token in df[src_initial_token_idx:]['goal_token'].items()]\n"
   ]
  },
  {
   "cell_type": "code",
   "execution_count": 81,
   "metadata": {},
   "outputs": [],
   "source": [
    "def fill_nl_tags_in_experiment_result(df, nl_ast_types, nl_pos_types, parser):\n",
    "    initial_token = df['typesets_tgt'][0][0][0] if df[df['token_type'] == 'src'].first_valid_index() == 0 else ''\n",
    "    ##### POS TAGS FOR NL PART\n",
    "    target_nl = initial_token + ''.join(df[df['token_type'] == 'nl']['goal_token'].map(lambda value: str(value)))\n",
    "    pos_tags = nltk.pos_tag(nltk.word_tokenize(target_nl))\n",
    "    for idx in range(df[df['token_type']== 'src'].first_valid_index()):\n",
    "        nl_tags = list(map(lambda tag: tag[1] if tag[1] in nl_pos_types else None, filter(lambda tag: tag[0] in str(df['goal_token'][idx]), pos_tags)))\n",
    "        if nl_tags: df.at[idx, 'tags'] = df['tags'][idx] + [nl_tags[-1]]\n",
    "    ##### POS TAGS FOR CODE PART\n",
    "    target_code = initial_token + ''.join(df[df['token_type'] == 'src']['goal_token'].map(lambda value: str(value)))\n",
    "    nl_target_nodes = get_nodes_by_type(parser.parse(bytes(target_code, 'utf8')).root_node, nl_ast_types)\n",
    "    for token_idx in range(df[df['token_type'] == 'src'].first_valid_index(), len(df['span'])):\n",
    "                for nl_target_node in nl_target_nodes:\n",
    "                    if is_token_span_in_node_span(df['span'][token_idx], get_node_span(nl_target_node, target_code.split(\"\\n\"))) and \\\n",
    "                            (str(df['goal_token'][token_idx]) in nl_target_node.text.decode('utf-8') or nl_target_node.text.decode('utf-8') in str(df['goal_token'][token_idx])):\n",
    "                            tagged_token_list = list(filter(lambda tagged_token: str(tagged_token[0]).replace(' ','') in str(df['goal_token'][token_idx]).replace(' ','') or str(df['goal_token'][token_idx]).replace(' ','') in str(tagged_token[0]).replace(' ',''), \\\n",
    "                                                        nltk.pos_tag( nltk.word_tokenize(nl_target_node.text.decode('utf-8')))))\n",
    "                            if len(tagged_token_list)>0 and tagged_token_list[0][1] in nl_pos_types and tagged_token_list[0][1] not in df['tags'][token_idx]: df.at[token_idx, 'tags'] = df['tags'][token_idx] + [tagged_token_list[0][1]]"
   ]
  },
  {
   "cell_type": "code",
   "execution_count": 82,
   "metadata": {},
   "outputs": [],
   "source": [
    "def fill_ast_tags_in_experiment_result(df, parser):\n",
    "    initial_token = df['typesets_tgt'][0][0][0] if df[df['token_type'] == 'src'].first_valid_index() == 0 else ''\n",
    "    target_code = initial_token + ''.join(df[df['token_type'] == 'src']['goal_token'].map(lambda value: str(value)))\n",
    "    src_initial_token_idx = df[df['token_type'] == 'src'].first_valid_index()\n",
    "    target_ast = parser.parse(bytes(target_code, 'utf8')).root_node\n",
    "    for token_idx in range(src_initial_token_idx, len(df)):\n",
    "        df.at[token_idx, 'tags'] = df['tags'][token_idx] + list(map(lambda node: node.type, get_token_nodes(df['span'][token_idx], target_ast, target_code.split(\"\\n\"))))"
   ]
  },
  {
   "cell_type": "code",
   "execution_count": 83,
   "metadata": {},
   "outputs": [],
   "source": [
    "def tag_rationals(experiment_results: list, nl_ast_types: list, nl_pos_types: list, delimiter_sequence: str, parser):\n",
    "    experiments = {}\n",
    "    for exp_idx, df_experiment in enumerate(experiment_results):\n",
    "        experiment_results = []\n",
    "        experiment_rational_results = [df_experiment[(df_experiment['from_seq_id'] == sample_idx) | \\\n",
    "                                                     (df_experiment['from_seq_id'] == str(sample_idx))].reset_index() \\\n",
    "                                                    for sample_idx in range(len(prompts))]\n",
    "        print('*'*10 +'Tagging rationals for exp: ' +str(exp_idx) + '*'*10)\n",
    "        for experiment_rational_result in experiment_rational_results:\n",
    "            add_auxiliary_columns_to_experiment_result(experiment_rational_result, delimiter_sequence)\n",
    "            experiment_rational_result['tags'] = [[]]*len(experiment_rational_result)\n",
    "            fill_nl_tags_in_experiment_result(experiment_rational_result, nl_ast_types, nl_pos_types, parser)\n",
    "            fill_ast_tags_in_experiment_result(experiment_rational_result, parser)\n",
    "            experiment_results.append(experiment_rational_result)\n",
    "        experiments[exp_idx] = experiment_results\n",
    "    return experiments\n",
    "            "
   ]
  },
  {
   "cell_type": "markdown",
   "metadata": {},
   "source": [
    "### Rationales Aggregation"
   ]
  },
  {
   "cell_type": "code",
   "execution_count": 84,
   "metadata": {},
   "outputs": [],
   "source": [
    "def aggregate_rationals(global_tagged_results: dict, ast_node_types: list, nl_pos_types: list, number_samples: int):\n",
    "    aggregation_results = {sample_id: None  for sample_id in range(number_samples)}\n",
    "    for exp_idx, experiment_results in global_tagged_results.items():\n",
    "        print('*'*10 +'Aggregrating rationals for exp: ' +str(exp_idx) + '*'*10)\n",
    "        for experiment_result in experiment_results:\n",
    "            sample_results = {str(pos+1)+'['+str(token)+']' : {node_type : {'values': [], 'rationales': []} for node_type in ast_node_types + nl_pos_types} for pos, token in enumerate(experiment_result['goal_token'].tolist())}\n",
    "            for target_idx, target_token in enumerate(experiment_result['goal_token'].tolist()):\n",
    "                for rational_idx, rational_pos in enumerate(experiment_result['rationale_pos_tgt'][target_idx]):\n",
    "                    if rational_pos > 0: #initial token is ignored IMPORTANT\n",
    "                        for rational_tag in experiment_result['tags'][experiment_result[experiment_result['rational_pos']==rational_pos].index[0]]: \n",
    "                            if rational_tag:\n",
    "                                try:\n",
    "                                    sample_results[str(target_idx+1)+'['+str(target_token)+']'][rational_tag]['values'].append(experiment_result['rationale_prob_tgt'][target_idx][rational_idx])\n",
    "                                    sample_results[str(target_idx+1)+'['+str(target_token)+']'][rational_tag]['rationales'].append(str(experiment_result[experiment_result['rational_pos']==rational_pos].index[0])+'['+str(experiment_result['goal_token'][experiment_result[experiment_result['rational_pos']==rational_pos].index[0]])+']')\n",
    "                                except Exception as e:\n",
    "                                    print('An Error Occurred')\n",
    "            aggregation_results[experiment_result['from_seq_id'].unique()[0]] = clean_results(sample_results)\n",
    "    return aggregation_results"
   ]
  },
  {
   "cell_type": "markdown",
   "metadata": {},
   "source": [
    "## LOCAL EXPERIMENT"
   ]
  },
  {
   "cell_type": "markdown",
   "metadata": {},
   "source": [
    "### Parsing"
   ]
  },
  {
   "cell_type": "code",
   "execution_count": 85,
   "metadata": {},
   "outputs": [],
   "source": [
    "### Define parser\n",
    "parser, node_types = create_parser('python')\n",
    "### Defines pos tags \n",
    "pos_types = list(nltk.data.load('help/tagsets/upenn_tagset.pickle'))"
   ]
  },
  {
   "cell_type": "markdown",
   "metadata": {},
   "source": [
    "### Model, Tokenizer Loading"
   ]
  },
  {
   "cell_type": "code",
   "execution_count": 86,
   "metadata": {},
   "outputs": [
    {
     "data": {
      "text/plain": [
       "GPT2LMHeadModel(\n",
       "  (transformer): GPT2Model(\n",
       "    (wte): Embedding(32768, 768)\n",
       "    (wpe): Embedding(1024, 768)\n",
       "    (drop): Dropout(p=0.1, inplace=False)\n",
       "    (h): ModuleList(\n",
       "      (0): GPT2Block(\n",
       "        (ln_1): LayerNorm((768,), eps=1e-05, elementwise_affine=True)\n",
       "        (attn): GPT2Attention(\n",
       "          (c_attn): Conv1D()\n",
       "          (c_proj): Conv1D()\n",
       "          (attn_dropout): Dropout(p=0.1, inplace=False)\n",
       "          (resid_dropout): Dropout(p=0.1, inplace=False)\n",
       "        )\n",
       "        (ln_2): LayerNorm((768,), eps=1e-05, elementwise_affine=True)\n",
       "        (mlp): GPT2MLP(\n",
       "          (c_fc): Conv1D()\n",
       "          (c_proj): Conv1D()\n",
       "          (dropout): Dropout(p=0.1, inplace=False)\n",
       "        )\n",
       "      )\n",
       "      (1): GPT2Block(\n",
       "        (ln_1): LayerNorm((768,), eps=1e-05, elementwise_affine=True)\n",
       "        (attn): GPT2Attention(\n",
       "          (c_attn): Conv1D()\n",
       "          (c_proj): Conv1D()\n",
       "          (attn_dropout): Dropout(p=0.1, inplace=False)\n",
       "          (resid_dropout): Dropout(p=0.1, inplace=False)\n",
       "        )\n",
       "        (ln_2): LayerNorm((768,), eps=1e-05, elementwise_affine=True)\n",
       "        (mlp): GPT2MLP(\n",
       "          (c_fc): Conv1D()\n",
       "          (c_proj): Conv1D()\n",
       "          (dropout): Dropout(p=0.1, inplace=False)\n",
       "        )\n",
       "      )\n",
       "      (2): GPT2Block(\n",
       "        (ln_1): LayerNorm((768,), eps=1e-05, elementwise_affine=True)\n",
       "        (attn): GPT2Attention(\n",
       "          (c_attn): Conv1D()\n",
       "          (c_proj): Conv1D()\n",
       "          (attn_dropout): Dropout(p=0.1, inplace=False)\n",
       "          (resid_dropout): Dropout(p=0.1, inplace=False)\n",
       "        )\n",
       "        (ln_2): LayerNorm((768,), eps=1e-05, elementwise_affine=True)\n",
       "        (mlp): GPT2MLP(\n",
       "          (c_fc): Conv1D()\n",
       "          (c_proj): Conv1D()\n",
       "          (dropout): Dropout(p=0.1, inplace=False)\n",
       "        )\n",
       "      )\n",
       "      (3): GPT2Block(\n",
       "        (ln_1): LayerNorm((768,), eps=1e-05, elementwise_affine=True)\n",
       "        (attn): GPT2Attention(\n",
       "          (c_attn): Conv1D()\n",
       "          (c_proj): Conv1D()\n",
       "          (attn_dropout): Dropout(p=0.1, inplace=False)\n",
       "          (resid_dropout): Dropout(p=0.1, inplace=False)\n",
       "        )\n",
       "        (ln_2): LayerNorm((768,), eps=1e-05, elementwise_affine=True)\n",
       "        (mlp): GPT2MLP(\n",
       "          (c_fc): Conv1D()\n",
       "          (c_proj): Conv1D()\n",
       "          (dropout): Dropout(p=0.1, inplace=False)\n",
       "        )\n",
       "      )\n",
       "      (4): GPT2Block(\n",
       "        (ln_1): LayerNorm((768,), eps=1e-05, elementwise_affine=True)\n",
       "        (attn): GPT2Attention(\n",
       "          (c_attn): Conv1D()\n",
       "          (c_proj): Conv1D()\n",
       "          (attn_dropout): Dropout(p=0.1, inplace=False)\n",
       "          (resid_dropout): Dropout(p=0.1, inplace=False)\n",
       "        )\n",
       "        (ln_2): LayerNorm((768,), eps=1e-05, elementwise_affine=True)\n",
       "        (mlp): GPT2MLP(\n",
       "          (c_fc): Conv1D()\n",
       "          (c_proj): Conv1D()\n",
       "          (dropout): Dropout(p=0.1, inplace=False)\n",
       "        )\n",
       "      )\n",
       "      (5): GPT2Block(\n",
       "        (ln_1): LayerNorm((768,), eps=1e-05, elementwise_affine=True)\n",
       "        (attn): GPT2Attention(\n",
       "          (c_attn): Conv1D()\n",
       "          (c_proj): Conv1D()\n",
       "          (attn_dropout): Dropout(p=0.1, inplace=False)\n",
       "          (resid_dropout): Dropout(p=0.1, inplace=False)\n",
       "        )\n",
       "        (ln_2): LayerNorm((768,), eps=1e-05, elementwise_affine=True)\n",
       "        (mlp): GPT2MLP(\n",
       "          (c_fc): Conv1D()\n",
       "          (c_proj): Conv1D()\n",
       "          (dropout): Dropout(p=0.1, inplace=False)\n",
       "        )\n",
       "      )\n",
       "      (6): GPT2Block(\n",
       "        (ln_1): LayerNorm((768,), eps=1e-05, elementwise_affine=True)\n",
       "        (attn): GPT2Attention(\n",
       "          (c_attn): Conv1D()\n",
       "          (c_proj): Conv1D()\n",
       "          (attn_dropout): Dropout(p=0.1, inplace=False)\n",
       "          (resid_dropout): Dropout(p=0.1, inplace=False)\n",
       "        )\n",
       "        (ln_2): LayerNorm((768,), eps=1e-05, elementwise_affine=True)\n",
       "        (mlp): GPT2MLP(\n",
       "          (c_fc): Conv1D()\n",
       "          (c_proj): Conv1D()\n",
       "          (dropout): Dropout(p=0.1, inplace=False)\n",
       "        )\n",
       "      )\n",
       "      (7): GPT2Block(\n",
       "        (ln_1): LayerNorm((768,), eps=1e-05, elementwise_affine=True)\n",
       "        (attn): GPT2Attention(\n",
       "          (c_attn): Conv1D()\n",
       "          (c_proj): Conv1D()\n",
       "          (attn_dropout): Dropout(p=0.1, inplace=False)\n",
       "          (resid_dropout): Dropout(p=0.1, inplace=False)\n",
       "        )\n",
       "        (ln_2): LayerNorm((768,), eps=1e-05, elementwise_affine=True)\n",
       "        (mlp): GPT2MLP(\n",
       "          (c_fc): Conv1D()\n",
       "          (c_proj): Conv1D()\n",
       "          (dropout): Dropout(p=0.1, inplace=False)\n",
       "        )\n",
       "      )\n",
       "      (8): GPT2Block(\n",
       "        (ln_1): LayerNorm((768,), eps=1e-05, elementwise_affine=True)\n",
       "        (attn): GPT2Attention(\n",
       "          (c_attn): Conv1D()\n",
       "          (c_proj): Conv1D()\n",
       "          (attn_dropout): Dropout(p=0.1, inplace=False)\n",
       "          (resid_dropout): Dropout(p=0.1, inplace=False)\n",
       "        )\n",
       "        (ln_2): LayerNorm((768,), eps=1e-05, elementwise_affine=True)\n",
       "        (mlp): GPT2MLP(\n",
       "          (c_fc): Conv1D()\n",
       "          (c_proj): Conv1D()\n",
       "          (dropout): Dropout(p=0.1, inplace=False)\n",
       "        )\n",
       "      )\n",
       "      (9): GPT2Block(\n",
       "        (ln_1): LayerNorm((768,), eps=1e-05, elementwise_affine=True)\n",
       "        (attn): GPT2Attention(\n",
       "          (c_attn): Conv1D()\n",
       "          (c_proj): Conv1D()\n",
       "          (attn_dropout): Dropout(p=0.1, inplace=False)\n",
       "          (resid_dropout): Dropout(p=0.1, inplace=False)\n",
       "        )\n",
       "        (ln_2): LayerNorm((768,), eps=1e-05, elementwise_affine=True)\n",
       "        (mlp): GPT2MLP(\n",
       "          (c_fc): Conv1D()\n",
       "          (c_proj): Conv1D()\n",
       "          (dropout): Dropout(p=0.1, inplace=False)\n",
       "        )\n",
       "      )\n",
       "      (10): GPT2Block(\n",
       "        (ln_1): LayerNorm((768,), eps=1e-05, elementwise_affine=True)\n",
       "        (attn): GPT2Attention(\n",
       "          (c_attn): Conv1D()\n",
       "          (c_proj): Conv1D()\n",
       "          (attn_dropout): Dropout(p=0.1, inplace=False)\n",
       "          (resid_dropout): Dropout(p=0.1, inplace=False)\n",
       "        )\n",
       "        (ln_2): LayerNorm((768,), eps=1e-05, elementwise_affine=True)\n",
       "        (mlp): GPT2MLP(\n",
       "          (c_fc): Conv1D()\n",
       "          (c_proj): Conv1D()\n",
       "          (dropout): Dropout(p=0.1, inplace=False)\n",
       "        )\n",
       "      )\n",
       "      (11): GPT2Block(\n",
       "        (ln_1): LayerNorm((768,), eps=1e-05, elementwise_affine=True)\n",
       "        (attn): GPT2Attention(\n",
       "          (c_attn): Conv1D()\n",
       "          (c_proj): Conv1D()\n",
       "          (attn_dropout): Dropout(p=0.1, inplace=False)\n",
       "          (resid_dropout): Dropout(p=0.1, inplace=False)\n",
       "        )\n",
       "        (ln_2): LayerNorm((768,), eps=1e-05, elementwise_affine=True)\n",
       "        (mlp): GPT2MLP(\n",
       "          (c_fc): Conv1D()\n",
       "          (c_proj): Conv1D()\n",
       "          (dropout): Dropout(p=0.1, inplace=False)\n",
       "        )\n",
       "      )\n",
       "    )\n",
       "    (ln_f): LayerNorm((768,), eps=1e-05, elementwise_affine=True)\n",
       "  )\n",
       "  (lm_head): Linear(in_features=768, out_features=32768, bias=False)\n",
       ")"
      ]
     },
     "execution_count": 86,
     "metadata": {},
     "output_type": "execute_result"
    }
   ],
   "source": [
    "model = AutoModelForCausalLM.from_pretrained(params['model_name'], cache_dir=params['cache_dir'])\n",
    "tokenizer = AutoTokenizer.from_pretrained(params['model_name'])\n",
    "model.to(device)\n",
    "model.eval()"
   ]
  },
  {
   "cell_type": "markdown",
   "metadata": {},
   "source": [
    "### Local Dataset Creation"
   ]
  },
  {
   "cell_type": "code",
   "execution_count": 87,
   "metadata": {},
   "outputs": [],
   "source": [
    "df_sampled_code = pd.DataFrame(prompts, columns=['prompt'])\n",
    "df_sampled_code['input_ids'] = tokenizer(df_sampled_code['prompt'].tolist())['input_ids']"
   ]
  },
  {
   "cell_type": "markdown",
   "metadata": {},
   "source": [
    "### Execute"
   ]
  },
  {
   "cell_type": "code",
   "execution_count": 88,
   "metadata": {},
   "outputs": [
    {
     "name": "stderr",
     "output_type": "stream",
     "text": [
      "Input length of input_ids is 17, but ``max_length`` is set to 17.This can lead to unexpected behavior. You should consider increasing ``config.max_length`` or ``max_length``.\n"
     ]
    }
   ],
   "source": [
    "### SAMPLING GENERATION \n",
    "df_generated_input = df_sampled_generation(\n",
    "    df_sampled_code=df_sampled_code, \n",
    "    model=model,\n",
    "    tokenizer=tokenizer, \n",
    "    number_samples_generation=1,\n",
    "    max_gen_tok=0)"
   ]
  },
  {
   "cell_type": "code",
   "execution_count": 89,
   "metadata": {},
   "outputs": [
    {
     "name": "stdout",
     "output_type": "stream",
     "text": [
      "************************0************************\n",
      "Experiment Finished: 0\n"
     ]
    }
   ],
   "source": [
    "### GET RATIONALES\n",
    "experiment_results = []\n",
    "for i in df_generated_input.columns[3:]: #Only Generated Sequences \n",
    "    experiment_result = run_code_rational_all_set(df_generated_input=df_generated_input, exp=i, tensor_n=df_generated_input.shape[0],model=model, tokenizer=tokenizer, BATCH=10)\n",
    "    experiment_result['exp'] = i\n",
    "    experiment_results.append(experiment_result)\n",
    "df_experiment_results = pd.concat(experiment_results)"
   ]
  },
  {
   "cell_type": "code",
   "execution_count": 96,
   "metadata": {},
   "outputs": [
    {
     "name": "stdout",
     "output_type": "stream",
     "text": [
      "**********Tagging rationals for exp: 0**********\n"
     ]
    },
    {
     "ename": "KeyboardInterrupt",
     "evalue": "",
     "output_type": "error",
     "traceback": [
      "\u001b[0;31m---------------------------------------------------------------------------\u001b[0m",
      "\u001b[0;31mKeyboardInterrupt\u001b[0m                         Traceback (most recent call last)",
      "\u001b[1;32m/workspaces/code-rationales/experimental_notebooks/5_local_aggregations.ipynb Cell 58\u001b[0m in \u001b[0;36m3\n\u001b[1;32m      <a href='vscode-notebook-cell://dev-container%2B7b22686f737450617468223a222f736372617463682f7376656c6173636f64696d6174652f636f64652d726174696f6e616c6573222c226c6f63616c446f636b6572223a66616c73652c2273657474696e6773223a7b22686f7374223a227373683a2f2f2845585029227d2c22636f6e66696746696c65223a7b22246d6964223a312c2270617468223a222f736372617463682f7376656c6173636f64696d6174652f636f64652d726174696f6e616c65732f2e646576636f6e7461696e65722f646576636f6e7461696e65722e6a736f6e222c22736368656d65223a227673636f64652d66696c65486f7374227d7d/workspaces/code-rationales/experimental_notebooks/5_local_aggregations.ipynb#Y111sdnNjb2RlLXJlbW90ZQ%3D%3D?line=0'>1</a>\u001b[0m \u001b[39m###TAG EXPERIMENTS RESULTS - TAKES TIME\u001b[39;00m\n\u001b[1;32m      <a href='vscode-notebook-cell://dev-container%2B7b22686f737450617468223a222f736372617463682f7376656c6173636f64696d6174652f636f64652d726174696f6e616c6573222c226c6f63616c446f636b6572223a66616c73652c2273657474696e6773223a7b22686f7374223a227373683a2f2f2845585029227d2c22636f6e66696746696c65223a7b22246d6964223a312c2270617468223a222f736372617463682f7376656c6173636f64696d6174652f636f64652d726174696f6e616c65732f2e646576636f6e7461696e65722f646576636f6e7461696e65722e6a736f6e222c22736368656d65223a227673636f64652d66696c65486f7374227d7d/workspaces/code-rationales/experimental_notebooks/5_local_aggregations.ipynb#Y111sdnNjb2RlLXJlbW90ZQ%3D%3D?line=1'>2</a>\u001b[0m nl_ast_types \u001b[39m=\u001b[39m [\u001b[39m'\u001b[39m\u001b[39mcomment\u001b[39m\u001b[39m'\u001b[39m,\u001b[39m'\u001b[39m\u001b[39midentifier\u001b[39m\u001b[39m'\u001b[39m,\u001b[39m'\u001b[39m\u001b[39mstring\u001b[39m\u001b[39m'\u001b[39m]\n\u001b[0;32m----> <a href='vscode-notebook-cell://dev-container%2B7b22686f737450617468223a222f736372617463682f7376656c6173636f64696d6174652f636f64652d726174696f6e616c6573222c226c6f63616c446f636b6572223a66616c73652c2273657474696e6773223a7b22686f7374223a227373683a2f2f2845585029227d2c22636f6e66696746696c65223a7b22246d6964223a312c2270617468223a222f736372617463682f7376656c6173636f64696d6174652f636f64652d726174696f6e616c65732f2e646576636f6e7461696e65722f646576636f6e7461696e65722e6a736f6e222c22736368656d65223a227673636f64652d66696c65486f7374227d7d/workspaces/code-rationales/experimental_notebooks/5_local_aggregations.ipynb#Y111sdnNjb2RlLXJlbW90ZQ%3D%3D?line=2'>3</a>\u001b[0m tagged_results \u001b[39m=\u001b[39m tag_rationals([df_experiment_results], nl_ast_types, pos_types, params[\u001b[39m'\u001b[39;49m\u001b[39mdelimiter_sequence\u001b[39;49m\u001b[39m'\u001b[39;49m], parser)\n",
      "\u001b[1;32m/workspaces/code-rationales/experimental_notebooks/5_local_aggregations.ipynb Cell 58\u001b[0m in \u001b[0;36m1\n\u001b[1;32m     <a href='vscode-notebook-cell://dev-container%2B7b22686f737450617468223a222f736372617463682f7376656c6173636f64696d6174652f636f64652d726174696f6e616c6573222c226c6f63616c446f636b6572223a66616c73652c2273657474696e6773223a7b22686f7374223a227373683a2f2f2845585029227d2c22636f6e66696746696c65223a7b22246d6964223a312c2270617468223a222f736372617463682f7376656c6173636f64696d6174652f636f64652d726174696f6e616c65732f2e646576636f6e7461696e65722f646576636f6e7461696e65722e6a736f6e222c22736368656d65223a227673636f64652d66696c65486f7374227d7d/workspaces/code-rationales/experimental_notebooks/5_local_aggregations.ipynb#Y111sdnNjb2RlLXJlbW90ZQ%3D%3D?line=9'>10</a>\u001b[0m add_auxiliary_columns_to_experiment_result(experiment_rational_result, delimiter_sequence)\n\u001b[1;32m     <a href='vscode-notebook-cell://dev-container%2B7b22686f737450617468223a222f736372617463682f7376656c6173636f64696d6174652f636f64652d726174696f6e616c6573222c226c6f63616c446f636b6572223a66616c73652c2273657474696e6773223a7b22686f7374223a227373683a2f2f2845585029227d2c22636f6e66696746696c65223a7b22246d6964223a312c2270617468223a222f736372617463682f7376656c6173636f64696d6174652f636f64652d726174696f6e616c65732f2e646576636f6e7461696e65722f646576636f6e7461696e65722e6a736f6e222c22736368656d65223a227673636f64652d66696c65486f7374227d7d/workspaces/code-rationales/experimental_notebooks/5_local_aggregations.ipynb#Y111sdnNjb2RlLXJlbW90ZQ%3D%3D?line=10'>11</a>\u001b[0m experiment_rational_result[\u001b[39m'\u001b[39m\u001b[39mtags\u001b[39m\u001b[39m'\u001b[39m] \u001b[39m=\u001b[39m [[]]\u001b[39m*\u001b[39m\u001b[39mlen\u001b[39m(experiment_rational_result)\n\u001b[0;32m---> <a href='vscode-notebook-cell://dev-container%2B7b22686f737450617468223a222f736372617463682f7376656c6173636f64696d6174652f636f64652d726174696f6e616c6573222c226c6f63616c446f636b6572223a66616c73652c2273657474696e6773223a7b22686f7374223a227373683a2f2f2845585029227d2c22636f6e66696746696c65223a7b22246d6964223a312c2270617468223a222f736372617463682f7376656c6173636f64696d6174652f636f64652d726174696f6e616c65732f2e646576636f6e7461696e65722f646576636f6e7461696e65722e6a736f6e222c22736368656d65223a227673636f64652d66696c65486f7374227d7d/workspaces/code-rationales/experimental_notebooks/5_local_aggregations.ipynb#Y111sdnNjb2RlLXJlbW90ZQ%3D%3D?line=11'>12</a>\u001b[0m fill_nl_tags_in_experiment_result(experiment_rational_result, nl_ast_types, nl_pos_types, parser)\n\u001b[1;32m     <a href='vscode-notebook-cell://dev-container%2B7b22686f737450617468223a222f736372617463682f7376656c6173636f64696d6174652f636f64652d726174696f6e616c6573222c226c6f63616c446f636b6572223a66616c73652c2273657474696e6773223a7b22686f7374223a227373683a2f2f2845585029227d2c22636f6e66696746696c65223a7b22246d6964223a312c2270617468223a222f736372617463682f7376656c6173636f64696d6174652f636f64652d726174696f6e616c65732f2e646576636f6e7461696e65722f646576636f6e7461696e65722e6a736f6e222c22736368656d65223a227673636f64652d66696c65486f7374227d7d/workspaces/code-rationales/experimental_notebooks/5_local_aggregations.ipynb#Y111sdnNjb2RlLXJlbW90ZQ%3D%3D?line=12'>13</a>\u001b[0m fill_ast_tags_in_experiment_result(experiment_rational_result, parser)\n\u001b[1;32m     <a href='vscode-notebook-cell://dev-container%2B7b22686f737450617468223a222f736372617463682f7376656c6173636f64696d6174652f636f64652d726174696f6e616c6573222c226c6f63616c446f636b6572223a66616c73652c2273657474696e6773223a7b22686f7374223a227373683a2f2f2845585029227d2c22636f6e66696746696c65223a7b22246d6964223a312c2270617468223a222f736372617463682f7376656c6173636f64696d6174652f636f64652d726174696f6e616c65732f2e646576636f6e7461696e65722f646576636f6e7461696e65722e6a736f6e222c22736368656d65223a227673636f64652d66696c65486f7374227d7d/workspaces/code-rationales/experimental_notebooks/5_local_aggregations.ipynb#Y111sdnNjb2RlLXJlbW90ZQ%3D%3D?line=13'>14</a>\u001b[0m experiment_results\u001b[39m.\u001b[39mappend(experiment_rational_result)\n",
      "\u001b[1;32m/workspaces/code-rationales/experimental_notebooks/5_local_aggregations.ipynb Cell 58\u001b[0m in \u001b[0;36m1\n\u001b[1;32m     <a href='vscode-notebook-cell://dev-container%2B7b22686f737450617468223a222f736372617463682f7376656c6173636f64696d6174652f636f64652d726174696f6e616c6573222c226c6f63616c446f636b6572223a66616c73652c2273657474696e6773223a7b22686f7374223a227373683a2f2f2845585029227d2c22636f6e66696746696c65223a7b22246d6964223a312c2270617468223a222f736372617463682f7376656c6173636f64696d6174652f636f64652d726174696f6e616c65732f2e646576636f6e7461696e65722f646576636f6e7461696e65722e6a736f6e222c22736368656d65223a227673636f64652d66696c65486f7374227d7d/workspaces/code-rationales/experimental_notebooks/5_local_aggregations.ipynb#Y111sdnNjb2RlLXJlbW90ZQ%3D%3D?line=9'>10</a>\u001b[0m target_code \u001b[39m=\u001b[39m initial_token \u001b[39m+\u001b[39m \u001b[39m'\u001b[39m\u001b[39m'\u001b[39m\u001b[39m.\u001b[39mjoin(df[df[\u001b[39m'\u001b[39m\u001b[39mtoken_type\u001b[39m\u001b[39m'\u001b[39m] \u001b[39m==\u001b[39m \u001b[39m'\u001b[39m\u001b[39msrc\u001b[39m\u001b[39m'\u001b[39m][\u001b[39m'\u001b[39m\u001b[39mgoal_token\u001b[39m\u001b[39m'\u001b[39m]\u001b[39m.\u001b[39mmap(\u001b[39mlambda\u001b[39;00m value: \u001b[39mstr\u001b[39m(value)))\n\u001b[1;32m     <a href='vscode-notebook-cell://dev-container%2B7b22686f737450617468223a222f736372617463682f7376656c6173636f64696d6174652f636f64652d726174696f6e616c6573222c226c6f63616c446f636b6572223a66616c73652c2273657474696e6773223a7b22686f7374223a227373683a2f2f2845585029227d2c22636f6e66696746696c65223a7b22246d6964223a312c2270617468223a222f736372617463682f7376656c6173636f64696d6174652f636f64652d726174696f6e616c65732f2e646576636f6e7461696e65722f646576636f6e7461696e65722e6a736f6e222c22736368656d65223a227673636f64652d66696c65486f7374227d7d/workspaces/code-rationales/experimental_notebooks/5_local_aggregations.ipynb#Y111sdnNjb2RlLXJlbW90ZQ%3D%3D?line=10'>11</a>\u001b[0m nl_target_nodes \u001b[39m=\u001b[39m get_nodes_by_type(parser\u001b[39m.\u001b[39mparse(\u001b[39mbytes\u001b[39m(target_code, \u001b[39m'\u001b[39m\u001b[39mutf8\u001b[39m\u001b[39m'\u001b[39m))\u001b[39m.\u001b[39mroot_node, nl_ast_types)\n\u001b[0;32m---> <a href='vscode-notebook-cell://dev-container%2B7b22686f737450617468223a222f736372617463682f7376656c6173636f64696d6174652f636f64652d726174696f6e616c6573222c226c6f63616c446f636b6572223a66616c73652c2273657474696e6773223a7b22686f7374223a227373683a2f2f2845585029227d2c22636f6e66696746696c65223a7b22246d6964223a312c2270617468223a222f736372617463682f7376656c6173636f64696d6174652f636f64652d726174696f6e616c65732f2e646576636f6e7461696e65722f646576636f6e7461696e65722e6a736f6e222c22736368656d65223a227673636f64652d66696c65486f7374227d7d/workspaces/code-rationales/experimental_notebooks/5_local_aggregations.ipynb#Y111sdnNjb2RlLXJlbW90ZQ%3D%3D?line=11'>12</a>\u001b[0m \u001b[39mfor\u001b[39;00m token_idx \u001b[39min\u001b[39;00m \u001b[39mrange\u001b[39;49m(df[df[\u001b[39m'\u001b[39m\u001b[39mtoken_type\u001b[39m\u001b[39m'\u001b[39m] \u001b[39m==\u001b[39m \u001b[39m'\u001b[39m\u001b[39msrc\u001b[39m\u001b[39m'\u001b[39m]\u001b[39m.\u001b[39mfirst_valid_index(), \u001b[39mlen\u001b[39m(df[\u001b[39m'\u001b[39m\u001b[39mspan\u001b[39m\u001b[39m'\u001b[39m])):\n\u001b[1;32m     <a href='vscode-notebook-cell://dev-container%2B7b22686f737450617468223a222f736372617463682f7376656c6173636f64696d6174652f636f64652d726174696f6e616c6573222c226c6f63616c446f636b6572223a66616c73652c2273657474696e6773223a7b22686f7374223a227373683a2f2f2845585029227d2c22636f6e66696746696c65223a7b22246d6964223a312c2270617468223a222f736372617463682f7376656c6173636f64696d6174652f636f64652d726174696f6e616c65732f2e646576636f6e7461696e65722f646576636f6e7461696e65722e6a736f6e222c22736368656d65223a227673636f64652d66696c65486f7374227d7d/workspaces/code-rationales/experimental_notebooks/5_local_aggregations.ipynb#Y111sdnNjb2RlLXJlbW90ZQ%3D%3D?line=12'>13</a>\u001b[0m             \u001b[39mfor\u001b[39;00m nl_target_node \u001b[39min\u001b[39;00m nl_target_nodes:\n\u001b[1;32m     <a href='vscode-notebook-cell://dev-container%2B7b22686f737450617468223a222f736372617463682f7376656c6173636f64696d6174652f636f64652d726174696f6e616c6573222c226c6f63616c446f636b6572223a66616c73652c2273657474696e6773223a7b22686f7374223a227373683a2f2f2845585029227d2c22636f6e66696746696c65223a7b22246d6964223a312c2270617468223a222f736372617463682f7376656c6173636f64696d6174652f636f64652d726174696f6e616c65732f2e646576636f6e7461696e65722f646576636f6e7461696e65722e6a736f6e222c22736368656d65223a227673636f64652d66696c65486f7374227d7d/workspaces/code-rationales/experimental_notebooks/5_local_aggregations.ipynb#Y111sdnNjb2RlLXJlbW90ZQ%3D%3D?line=13'>14</a>\u001b[0m                 \u001b[39mif\u001b[39;00m is_token_span_in_node_span(df[\u001b[39m'\u001b[39m\u001b[39mspan\u001b[39m\u001b[39m'\u001b[39m][token_idx], get_node_span(nl_target_node, target_code\u001b[39m.\u001b[39msplit(\u001b[39m\"\u001b[39m\u001b[39m\\n\u001b[39;00m\u001b[39m\"\u001b[39m))) \u001b[39mand\u001b[39;00m \\\n\u001b[1;32m     <a href='vscode-notebook-cell://dev-container%2B7b22686f737450617468223a222f736372617463682f7376656c6173636f64696d6174652f636f64652d726174696f6e616c6573222c226c6f63616c446f636b6572223a66616c73652c2273657474696e6773223a7b22686f7374223a227373683a2f2f2845585029227d2c22636f6e66696746696c65223a7b22246d6964223a312c2270617468223a222f736372617463682f7376656c6173636f64696d6174652f636f64652d726174696f6e616c65732f2e646576636f6e7461696e65722f646576636f6e7461696e65722e6a736f6e222c22736368656d65223a227673636f64652d66696c65486f7374227d7d/workspaces/code-rationales/experimental_notebooks/5_local_aggregations.ipynb#Y111sdnNjb2RlLXJlbW90ZQ%3D%3D?line=14'>15</a>\u001b[0m                         (\u001b[39mstr\u001b[39m(df[\u001b[39m'\u001b[39m\u001b[39mgoal_token\u001b[39m\u001b[39m'\u001b[39m][token_idx]) \u001b[39min\u001b[39;00m nl_target_node\u001b[39m.\u001b[39mtext\u001b[39m.\u001b[39mdecode(\u001b[39m'\u001b[39m\u001b[39mutf-8\u001b[39m\u001b[39m'\u001b[39m) \u001b[39mor\u001b[39;00m nl_target_node\u001b[39m.\u001b[39mtext\u001b[39m.\u001b[39mdecode(\u001b[39m'\u001b[39m\u001b[39mutf-8\u001b[39m\u001b[39m'\u001b[39m) \u001b[39min\u001b[39;00m \u001b[39mstr\u001b[39m(df[\u001b[39m'\u001b[39m\u001b[39mgoal_token\u001b[39m\u001b[39m'\u001b[39m][token_idx])):\n",
      "\u001b[1;32m/workspaces/code-rationales/experimental_notebooks/5_local_aggregations.ipynb Cell 58\u001b[0m in \u001b[0;36m1\n\u001b[1;32m     <a href='vscode-notebook-cell://dev-container%2B7b22686f737450617468223a222f736372617463682f7376656c6173636f64696d6174652f636f64652d726174696f6e616c6573222c226c6f63616c446f636b6572223a66616c73652c2273657474696e6773223a7b22686f7374223a227373683a2f2f2845585029227d2c22636f6e66696746696c65223a7b22246d6964223a312c2270617468223a222f736372617463682f7376656c6173636f64696d6174652f636f64652d726174696f6e616c65732f2e646576636f6e7461696e65722f646576636f6e7461696e65722e6a736f6e222c22736368656d65223a227673636f64652d66696c65486f7374227d7d/workspaces/code-rationales/experimental_notebooks/5_local_aggregations.ipynb#Y111sdnNjb2RlLXJlbW90ZQ%3D%3D?line=9'>10</a>\u001b[0m target_code \u001b[39m=\u001b[39m initial_token \u001b[39m+\u001b[39m \u001b[39m'\u001b[39m\u001b[39m'\u001b[39m\u001b[39m.\u001b[39mjoin(df[df[\u001b[39m'\u001b[39m\u001b[39mtoken_type\u001b[39m\u001b[39m'\u001b[39m] \u001b[39m==\u001b[39m \u001b[39m'\u001b[39m\u001b[39msrc\u001b[39m\u001b[39m'\u001b[39m][\u001b[39m'\u001b[39m\u001b[39mgoal_token\u001b[39m\u001b[39m'\u001b[39m]\u001b[39m.\u001b[39mmap(\u001b[39mlambda\u001b[39;00m value: \u001b[39mstr\u001b[39m(value)))\n\u001b[1;32m     <a href='vscode-notebook-cell://dev-container%2B7b22686f737450617468223a222f736372617463682f7376656c6173636f64696d6174652f636f64652d726174696f6e616c6573222c226c6f63616c446f636b6572223a66616c73652c2273657474696e6773223a7b22686f7374223a227373683a2f2f2845585029227d2c22636f6e66696746696c65223a7b22246d6964223a312c2270617468223a222f736372617463682f7376656c6173636f64696d6174652f636f64652d726174696f6e616c65732f2e646576636f6e7461696e65722f646576636f6e7461696e65722e6a736f6e222c22736368656d65223a227673636f64652d66696c65486f7374227d7d/workspaces/code-rationales/experimental_notebooks/5_local_aggregations.ipynb#Y111sdnNjb2RlLXJlbW90ZQ%3D%3D?line=10'>11</a>\u001b[0m nl_target_nodes \u001b[39m=\u001b[39m get_nodes_by_type(parser\u001b[39m.\u001b[39mparse(\u001b[39mbytes\u001b[39m(target_code, \u001b[39m'\u001b[39m\u001b[39mutf8\u001b[39m\u001b[39m'\u001b[39m))\u001b[39m.\u001b[39mroot_node, nl_ast_types)\n\u001b[0;32m---> <a href='vscode-notebook-cell://dev-container%2B7b22686f737450617468223a222f736372617463682f7376656c6173636f64696d6174652f636f64652d726174696f6e616c6573222c226c6f63616c446f636b6572223a66616c73652c2273657474696e6773223a7b22686f7374223a227373683a2f2f2845585029227d2c22636f6e66696746696c65223a7b22246d6964223a312c2270617468223a222f736372617463682f7376656c6173636f64696d6174652f636f64652d726174696f6e616c65732f2e646576636f6e7461696e65722f646576636f6e7461696e65722e6a736f6e222c22736368656d65223a227673636f64652d66696c65486f7374227d7d/workspaces/code-rationales/experimental_notebooks/5_local_aggregations.ipynb#Y111sdnNjb2RlLXJlbW90ZQ%3D%3D?line=11'>12</a>\u001b[0m \u001b[39mfor\u001b[39;00m token_idx \u001b[39min\u001b[39;00m \u001b[39mrange\u001b[39;49m(df[df[\u001b[39m'\u001b[39m\u001b[39mtoken_type\u001b[39m\u001b[39m'\u001b[39m] \u001b[39m==\u001b[39m \u001b[39m'\u001b[39m\u001b[39msrc\u001b[39m\u001b[39m'\u001b[39m]\u001b[39m.\u001b[39mfirst_valid_index(), \u001b[39mlen\u001b[39m(df[\u001b[39m'\u001b[39m\u001b[39mspan\u001b[39m\u001b[39m'\u001b[39m])):\n\u001b[1;32m     <a href='vscode-notebook-cell://dev-container%2B7b22686f737450617468223a222f736372617463682f7376656c6173636f64696d6174652f636f64652d726174696f6e616c6573222c226c6f63616c446f636b6572223a66616c73652c2273657474696e6773223a7b22686f7374223a227373683a2f2f2845585029227d2c22636f6e66696746696c65223a7b22246d6964223a312c2270617468223a222f736372617463682f7376656c6173636f64696d6174652f636f64652d726174696f6e616c65732f2e646576636f6e7461696e65722f646576636f6e7461696e65722e6a736f6e222c22736368656d65223a227673636f64652d66696c65486f7374227d7d/workspaces/code-rationales/experimental_notebooks/5_local_aggregations.ipynb#Y111sdnNjb2RlLXJlbW90ZQ%3D%3D?line=12'>13</a>\u001b[0m             \u001b[39mfor\u001b[39;00m nl_target_node \u001b[39min\u001b[39;00m nl_target_nodes:\n\u001b[1;32m     <a href='vscode-notebook-cell://dev-container%2B7b22686f737450617468223a222f736372617463682f7376656c6173636f64696d6174652f636f64652d726174696f6e616c6573222c226c6f63616c446f636b6572223a66616c73652c2273657474696e6773223a7b22686f7374223a227373683a2f2f2845585029227d2c22636f6e66696746696c65223a7b22246d6964223a312c2270617468223a222f736372617463682f7376656c6173636f64696d6174652f636f64652d726174696f6e616c65732f2e646576636f6e7461696e65722f646576636f6e7461696e65722e6a736f6e222c22736368656d65223a227673636f64652d66696c65486f7374227d7d/workspaces/code-rationales/experimental_notebooks/5_local_aggregations.ipynb#Y111sdnNjb2RlLXJlbW90ZQ%3D%3D?line=13'>14</a>\u001b[0m                 \u001b[39mif\u001b[39;00m is_token_span_in_node_span(df[\u001b[39m'\u001b[39m\u001b[39mspan\u001b[39m\u001b[39m'\u001b[39m][token_idx], get_node_span(nl_target_node, target_code\u001b[39m.\u001b[39msplit(\u001b[39m\"\u001b[39m\u001b[39m\\n\u001b[39;00m\u001b[39m\"\u001b[39m))) \u001b[39mand\u001b[39;00m \\\n\u001b[1;32m     <a href='vscode-notebook-cell://dev-container%2B7b22686f737450617468223a222f736372617463682f7376656c6173636f64696d6174652f636f64652d726174696f6e616c6573222c226c6f63616c446f636b6572223a66616c73652c2273657474696e6773223a7b22686f7374223a227373683a2f2f2845585029227d2c22636f6e66696746696c65223a7b22246d6964223a312c2270617468223a222f736372617463682f7376656c6173636f64696d6174652f636f64652d726174696f6e616c65732f2e646576636f6e7461696e65722f646576636f6e7461696e65722e6a736f6e222c22736368656d65223a227673636f64652d66696c65486f7374227d7d/workspaces/code-rationales/experimental_notebooks/5_local_aggregations.ipynb#Y111sdnNjb2RlLXJlbW90ZQ%3D%3D?line=14'>15</a>\u001b[0m                         (\u001b[39mstr\u001b[39m(df[\u001b[39m'\u001b[39m\u001b[39mgoal_token\u001b[39m\u001b[39m'\u001b[39m][token_idx]) \u001b[39min\u001b[39;00m nl_target_node\u001b[39m.\u001b[39mtext\u001b[39m.\u001b[39mdecode(\u001b[39m'\u001b[39m\u001b[39mutf-8\u001b[39m\u001b[39m'\u001b[39m) \u001b[39mor\u001b[39;00m nl_target_node\u001b[39m.\u001b[39mtext\u001b[39m.\u001b[39mdecode(\u001b[39m'\u001b[39m\u001b[39mutf-8\u001b[39m\u001b[39m'\u001b[39m) \u001b[39min\u001b[39;00m \u001b[39mstr\u001b[39m(df[\u001b[39m'\u001b[39m\u001b[39mgoal_token\u001b[39m\u001b[39m'\u001b[39m][token_idx])):\n",
      "File \u001b[0;32m_pydevd_bundle/pydevd_cython.pyx:1457\u001b[0m, in \u001b[0;36m_pydevd_bundle.pydevd_cython.SafeCallWrapper.__call__\u001b[0;34m()\u001b[0m\n",
      "File \u001b[0;32m_pydevd_bundle/pydevd_cython.pyx:701\u001b[0m, in \u001b[0;36m_pydevd_bundle.pydevd_cython.PyDBFrame.trace_dispatch\u001b[0;34m()\u001b[0m\n",
      "File \u001b[0;32m_pydevd_bundle/pydevd_cython.pyx:1152\u001b[0m, in \u001b[0;36m_pydevd_bundle.pydevd_cython.PyDBFrame.trace_dispatch\u001b[0;34m()\u001b[0m\n",
      "File \u001b[0;32m_pydevd_bundle/pydevd_cython.pyx:1135\u001b[0m, in \u001b[0;36m_pydevd_bundle.pydevd_cython.PyDBFrame.trace_dispatch\u001b[0;34m()\u001b[0m\n",
      "File \u001b[0;32m_pydevd_bundle/pydevd_cython.pyx:312\u001b[0m, in \u001b[0;36m_pydevd_bundle.pydevd_cython.PyDBFrame.do_wait_suspend\u001b[0;34m()\u001b[0m\n",
      "File \u001b[0;32m/usr/local/lib/python3.8/dist-packages/debugpy/_vendored/pydevd/pydevd.py:2070\u001b[0m, in \u001b[0;36mPyDB.do_wait_suspend\u001b[0;34m(self, thread, frame, event, arg, exception_type)\u001b[0m\n\u001b[1;32m   2067\u001b[0m             from_this_thread\u001b[39m.\u001b[39mappend(frame_custom_thread_id)\n\u001b[1;32m   2069\u001b[0m     \u001b[39mwith\u001b[39;00m \u001b[39mself\u001b[39m\u001b[39m.\u001b[39m_threads_suspended_single_notification\u001b[39m.\u001b[39mnotify_thread_suspended(thread_id, thread, stop_reason):\n\u001b[0;32m-> 2070\u001b[0m         keep_suspended \u001b[39m=\u001b[39m \u001b[39mself\u001b[39;49m\u001b[39m.\u001b[39;49m_do_wait_suspend(thread, frame, event, arg, suspend_type, from_this_thread, frames_tracker)\n\u001b[1;32m   2072\u001b[0m frames_list \u001b[39m=\u001b[39m \u001b[39mNone\u001b[39;00m\n\u001b[1;32m   2074\u001b[0m \u001b[39mif\u001b[39;00m keep_suspended:\n\u001b[1;32m   2075\u001b[0m     \u001b[39m# This means that we should pause again after a set next statement.\u001b[39;00m\n",
      "File \u001b[0;32m/usr/local/lib/python3.8/dist-packages/debugpy/_vendored/pydevd/pydevd.py:2106\u001b[0m, in \u001b[0;36mPyDB._do_wait_suspend\u001b[0;34m(self, thread, frame, event, arg, suspend_type, from_this_thread, frames_tracker)\u001b[0m\n\u001b[1;32m   2103\u001b[0m         \u001b[39mself\u001b[39m\u001b[39m.\u001b[39m_call_input_hook()\n\u001b[1;32m   2105\u001b[0m     \u001b[39mself\u001b[39m\u001b[39m.\u001b[39mprocess_internal_commands()\n\u001b[0;32m-> 2106\u001b[0m     time\u001b[39m.\u001b[39;49msleep(\u001b[39m0.01\u001b[39;49m)\n\u001b[1;32m   2108\u001b[0m \u001b[39mself\u001b[39m\u001b[39m.\u001b[39mcancel_async_evaluation(get_current_thread_id(thread), \u001b[39mstr\u001b[39m(\u001b[39mid\u001b[39m(frame)))\n\u001b[1;32m   2110\u001b[0m \u001b[39m# process any stepping instructions\u001b[39;00m\n",
      "\u001b[0;31mKeyboardInterrupt\u001b[0m: "
     ]
    }
   ],
   "source": [
    "###TAG EXPERIMENTS RESULTS - TAKES TIME\n",
    "nl_ast_types = ['comment','identifier','string']\n",
    "tagged_results = tag_rationals([df_experiment_results], nl_ast_types, pos_types, params['delimiter_sequence'], parser)"
   ]
  },
  {
   "cell_type": "code",
   "execution_count": 91,
   "metadata": {},
   "outputs": [
    {
     "data": {
      "text/html": [
       "<div>\n",
       "<style scoped>\n",
       "    .dataframe tbody tr th:only-of-type {\n",
       "        vertical-align: middle;\n",
       "    }\n",
       "\n",
       "    .dataframe tbody tr th {\n",
       "        vertical-align: top;\n",
       "    }\n",
       "\n",
       "    .dataframe thead th {\n",
       "        text-align: right;\n",
       "    }\n",
       "</style>\n",
       "<table border=\"1\" class=\"dataframe\">\n",
       "  <thead>\n",
       "    <tr style=\"text-align: right;\">\n",
       "      <th></th>\n",
       "      <th>index</th>\n",
       "      <th>goal_token</th>\n",
       "      <th>from_seq_id</th>\n",
       "      <th>typesets_tgt</th>\n",
       "      <th>rationale_pos_tgt</th>\n",
       "      <th>rationale_prob_tgt</th>\n",
       "      <th>exp</th>\n",
       "      <th>rational_pos</th>\n",
       "      <th>token_type</th>\n",
       "      <th>span</th>\n",
       "      <th>tags</th>\n",
       "    </tr>\n",
       "  </thead>\n",
       "  <tbody>\n",
       "    <tr>\n",
       "      <th>0</th>\n",
       "      <td>0</td>\n",
       "      <td>multiply</td>\n",
       "      <td>0</td>\n",
       "      <td>[(def, 9.548327398078982e-06)]</td>\n",
       "      <td>[0]</td>\n",
       "      <td>[9.548327398078982e-06]</td>\n",
       "      <td>0</td>\n",
       "      <td>1</td>\n",
       "      <td>src</td>\n",
       "      <td>(3, 12)</td>\n",
       "      <td>[NN, module, function_definition, identifier]</td>\n",
       "    </tr>\n",
       "    <tr>\n",
       "      <th>1</th>\n",
       "      <td>1</td>\n",
       "      <td>(</td>\n",
       "      <td>0</td>\n",
       "      <td>[( multiply, 0.0575505830347538), (def, 0.3661...</td>\n",
       "      <td>[1, 0]</td>\n",
       "      <td>[0.0575505830347538, 0.36615633964538574]</td>\n",
       "      <td>0</td>\n",
       "      <td>2</td>\n",
       "      <td>src</td>\n",
       "      <td>(12, 13)</td>\n",
       "      <td>[module, function_definition, parameters, (, i...</td>\n",
       "    </tr>\n",
       "    <tr>\n",
       "      <th>2</th>\n",
       "      <td>2</td>\n",
       "      <td>ale</td>\n",
       "      <td>0</td>\n",
       "      <td>[((, 4.742995315609733e-06), (def, 8.758857802...</td>\n",
       "      <td>[2, 0, 1]</td>\n",
       "      <td>[4.742995315609733e-06, 8.758857802604325e-06,...</td>\n",
       "      <td>0</td>\n",
       "      <td>3</td>\n",
       "      <td>src</td>\n",
       "      <td>(13, 16)</td>\n",
       "      <td>[NN, module, function_definition, parameters, ...</td>\n",
       "    </tr>\n",
       "    <tr>\n",
       "      <th>3</th>\n",
       "      <td>3</td>\n",
       "      <td>jo</td>\n",
       "      <td>0</td>\n",
       "      <td>[(ale, 4.101557351532392e-05), (def, 2.1123918...</td>\n",
       "      <td>[3, 0, 1, 2]</td>\n",
       "      <td>[4.101557351532392e-05, 2.112391848640982e-05,...</td>\n",
       "      <td>0</td>\n",
       "      <td>4</td>\n",
       "      <td>src</td>\n",
       "      <td>(16, 18)</td>\n",
       "      <td>[NN, module, function_definition, parameters, ...</td>\n",
       "    </tr>\n",
       "    <tr>\n",
       "      <th>4</th>\n",
       "      <td>4</td>\n",
       "      <td>,</td>\n",
       "      <td>0</td>\n",
       "      <td>[(jo, 0.009008105844259262), (ale, 0.007828838...</td>\n",
       "      <td>[4, 3, 2, 0, 1]</td>\n",
       "      <td>[0.009008105844259262, 0.00782883819192648, 0....</td>\n",
       "      <td>0</td>\n",
       "      <td>5</td>\n",
       "      <td>src</td>\n",
       "      <td>(18, 19)</td>\n",
       "      <td>[module, function_definition, parameters, ,, i...</td>\n",
       "    </tr>\n",
       "    <tr>\n",
       "      <th>5</th>\n",
       "      <td>5</td>\n",
       "      <td>testing</td>\n",
       "      <td>0</td>\n",
       "      <td>[(,, 5.8010450629808474e-06), ( multiply, 3.49...</td>\n",
       "      <td>[5, 1, 3, 2, 4, 0]</td>\n",
       "      <td>[5.8010450629808474e-06, 3.4997081002074992e-0...</td>\n",
       "      <td>0</td>\n",
       "      <td>6</td>\n",
       "      <td>src</td>\n",
       "      <td>(19, 26)</td>\n",
       "      <td>[VBG, module, function_definition, parameters,...</td>\n",
       "    </tr>\n",
       "    <tr>\n",
       "      <th>6</th>\n",
       "      <td>6</td>\n",
       "      <td>):</td>\n",
       "      <td>0</td>\n",
       "      <td>[(testing, 0.005400769878178835), (,, 0.009955...</td>\n",
       "      <td>[6, 5, 0, 1, 4, 2, 3]</td>\n",
       "      <td>[0.005400769878178835, 0.009955440647900105, 0...</td>\n",
       "      <td>0</td>\n",
       "      <td>7</td>\n",
       "      <td>src</td>\n",
       "      <td>(26, 28)</td>\n",
       "      <td>[module, function_definition, :]</td>\n",
       "    </tr>\n",
       "    <tr>\n",
       "      <th>7</th>\n",
       "      <td>7</td>\n",
       "      <td>\\n</td>\n",
       "      <td>0</td>\n",
       "      <td>[():, 0.16087596118450165), (testing, 0.389715...</td>\n",
       "      <td>[7, 6]</td>\n",
       "      <td>[0.16087596118450165, 0.38971567153930664]</td>\n",
       "      <td>0</td>\n",
       "      <td>8</td>\n",
       "      <td>src</td>\n",
       "      <td>(28, 32)</td>\n",
       "      <td>[module, function_definition]</td>\n",
       "    </tr>\n",
       "    <tr>\n",
       "      <th>8</th>\n",
       "      <td>8</td>\n",
       "      <td>return</td>\n",
       "      <td>0</td>\n",
       "      <td>[(\\n   , 0.05375419184565544), ():, 0.06680029...</td>\n",
       "      <td>[8, 7, 0, 1, 2, 3, 4, 5, 6]</td>\n",
       "      <td>[0.05375419184565544, 0.06680029630661011, 0.0...</td>\n",
       "      <td>0</td>\n",
       "      <td>9</td>\n",
       "      <td>src</td>\n",
       "      <td>(32, 39)</td>\n",
       "      <td>[module, function_definition, block, return_st...</td>\n",
       "    </tr>\n",
       "    <tr>\n",
       "      <th>9</th>\n",
       "      <td>9</td>\n",
       "      <td>pow</td>\n",
       "      <td>0</td>\n",
       "      <td>[( return, 5.0112572353100404e-05), ( multiply...</td>\n",
       "      <td>[9, 1, 0, 8, 2, 5, 7, 4, 6, 3]</td>\n",
       "      <td>[5.0112572353100404e-05, 0.0015651046996936202...</td>\n",
       "      <td>0</td>\n",
       "      <td>10</td>\n",
       "      <td>src</td>\n",
       "      <td>(39, 43)</td>\n",
       "      <td>[NN, module, function_definition, block, retur...</td>\n",
       "    </tr>\n",
       "    <tr>\n",
       "      <th>10</th>\n",
       "      <td>10</td>\n",
       "      <td>(</td>\n",
       "      <td>0</td>\n",
       "      <td>[( pow, 0.7165160775184631)]</td>\n",
       "      <td>[10]</td>\n",
       "      <td>[0.7165160775184631]</td>\n",
       "      <td>0</td>\n",
       "      <td>11</td>\n",
       "      <td>src</td>\n",
       "      <td>(43, 44)</td>\n",
       "      <td>[module, function_definition, block, return_st...</td>\n",
       "    </tr>\n",
       "    <tr>\n",
       "      <th>11</th>\n",
       "      <td>11</td>\n",
       "      <td>ale</td>\n",
       "      <td>0</td>\n",
       "      <td>[((, 4.012194949609693e-06), (ale, 4.297354098...</td>\n",
       "      <td>[11, 3, 2, 8, 0]</td>\n",
       "      <td>[4.012194949609693e-06, 4.2973540985258296e-05...</td>\n",
       "      <td>0</td>\n",
       "      <td>12</td>\n",
       "      <td>src</td>\n",
       "      <td>(44, 47)</td>\n",
       "      <td>[NN, module, function_definition, block, retur...</td>\n",
       "    </tr>\n",
       "    <tr>\n",
       "      <th>12</th>\n",
       "      <td>12</td>\n",
       "      <td>jo</td>\n",
       "      <td>0</td>\n",
       "      <td>[(ale, 1.9795428670477122e-05), (jo, 9.9314020...</td>\n",
       "      <td>[12, 4, 5, 1, 11, 8, 10, 9, 7, 6, 2, 3]</td>\n",
       "      <td>[1.9795428670477122e-05, 9.93140201899223e-05,...</td>\n",
       "      <td>0</td>\n",
       "      <td>13</td>\n",
       "      <td>src</td>\n",
       "      <td>(47, 49)</td>\n",
       "      <td>[NN, module, function_definition, block, retur...</td>\n",
       "    </tr>\n",
       "    <tr>\n",
       "      <th>13</th>\n",
       "      <td>13</td>\n",
       "      <td>,</td>\n",
       "      <td>0</td>\n",
       "      <td>[(jo, 0.010479154996573925), (,, 0.03391147777...</td>\n",
       "      <td>[13, 5, 4, 1]</td>\n",
       "      <td>[0.010479154996573925, 0.03391147777438164, 0....</td>\n",
       "      <td>0</td>\n",
       "      <td>14</td>\n",
       "      <td>src</td>\n",
       "      <td>(49, 50)</td>\n",
       "      <td>[module, function_definition, block, return_st...</td>\n",
       "    </tr>\n",
       "    <tr>\n",
       "      <th>14</th>\n",
       "      <td>14</td>\n",
       "      <td>testing</td>\n",
       "      <td>0</td>\n",
       "      <td>[(,, 5.1311112656549085e-06), (testing, 5.6257...</td>\n",
       "      <td>[14, 6, 5, 3]</td>\n",
       "      <td>[5.1311112656549085e-06, 5.62574750802014e-05,...</td>\n",
       "      <td>0</td>\n",
       "      <td>15</td>\n",
       "      <td>src</td>\n",
       "      <td>(50, 57)</td>\n",
       "      <td>[VBG, module, function_definition, block, retu...</td>\n",
       "    </tr>\n",
       "    <tr>\n",
       "      <th>15</th>\n",
       "      <td>15</td>\n",
       "      <td>)</td>\n",
       "      <td>0</td>\n",
       "      <td>[(testing, 0.004483978729695082), (,, 0.023200...</td>\n",
       "      <td>[15, 14, 10, 9, 8]</td>\n",
       "      <td>[0.004483978729695082, 0.023200104013085365, 0...</td>\n",
       "      <td>0</td>\n",
       "      <td>16</td>\n",
       "      <td>src</td>\n",
       "      <td>(57, 58)</td>\n",
       "      <td>[module, function_definition, block, return_st...</td>\n",
       "    </tr>\n",
       "    <tr>\n",
       "      <th>16</th>\n",
       "      <td>16</td>\n",
       "      <td>\\n</td>\n",
       "      <td>0</td>\n",
       "      <td>[(), 0.0671769231557846), (testing, 0.18574085...</td>\n",
       "      <td>[16, 15, 0]</td>\n",
       "      <td>[0.0671769231557846, 0.1857408583164215, 0.486...</td>\n",
       "      <td>0</td>\n",
       "      <td>17</td>\n",
       "      <td>src</td>\n",
       "      <td>(58, 59)</td>\n",
       "      <td>[module]</td>\n",
       "    </tr>\n",
       "  </tbody>\n",
       "</table>\n",
       "</div>"
      ],
      "text/plain": [
       "    index goal_token  from_seq_id  \\\n",
       "0       0   multiply            0   \n",
       "1       1          (            0   \n",
       "2       2        ale            0   \n",
       "3       3         jo            0   \n",
       "4       4          ,            0   \n",
       "5       5    testing            0   \n",
       "6       6         ):            0   \n",
       "7       7      \\n               0   \n",
       "8       8     return            0   \n",
       "9       9        pow            0   \n",
       "10     10          (            0   \n",
       "11     11        ale            0   \n",
       "12     12         jo            0   \n",
       "13     13          ,            0   \n",
       "14     14    testing            0   \n",
       "15     15          )            0   \n",
       "16     16         \\n            0   \n",
       "\n",
       "                                         typesets_tgt  \\\n",
       "0                      [(def, 9.548327398078982e-06)]   \n",
       "1   [( multiply, 0.0575505830347538), (def, 0.3661...   \n",
       "2   [((, 4.742995315609733e-06), (def, 8.758857802...   \n",
       "3   [(ale, 4.101557351532392e-05), (def, 2.1123918...   \n",
       "4   [(jo, 0.009008105844259262), (ale, 0.007828838...   \n",
       "5   [(,, 5.8010450629808474e-06), ( multiply, 3.49...   \n",
       "6   [(testing, 0.005400769878178835), (,, 0.009955...   \n",
       "7   [():, 0.16087596118450165), (testing, 0.389715...   \n",
       "8   [(\\n   , 0.05375419184565544), ():, 0.06680029...   \n",
       "9   [( return, 5.0112572353100404e-05), ( multiply...   \n",
       "10                       [( pow, 0.7165160775184631)]   \n",
       "11  [((, 4.012194949609693e-06), (ale, 4.297354098...   \n",
       "12  [(ale, 1.9795428670477122e-05), (jo, 9.9314020...   \n",
       "13  [(jo, 0.010479154996573925), (,, 0.03391147777...   \n",
       "14  [(,, 5.1311112656549085e-06), (testing, 5.6257...   \n",
       "15  [(testing, 0.004483978729695082), (,, 0.023200...   \n",
       "16  [(), 0.0671769231557846), (testing, 0.18574085...   \n",
       "\n",
       "                          rationale_pos_tgt  \\\n",
       "0                                       [0]   \n",
       "1                                    [1, 0]   \n",
       "2                                 [2, 0, 1]   \n",
       "3                              [3, 0, 1, 2]   \n",
       "4                           [4, 3, 2, 0, 1]   \n",
       "5                        [5, 1, 3, 2, 4, 0]   \n",
       "6                     [6, 5, 0, 1, 4, 2, 3]   \n",
       "7                                    [7, 6]   \n",
       "8               [8, 7, 0, 1, 2, 3, 4, 5, 6]   \n",
       "9            [9, 1, 0, 8, 2, 5, 7, 4, 6, 3]   \n",
       "10                                     [10]   \n",
       "11                         [11, 3, 2, 8, 0]   \n",
       "12  [12, 4, 5, 1, 11, 8, 10, 9, 7, 6, 2, 3]   \n",
       "13                            [13, 5, 4, 1]   \n",
       "14                            [14, 6, 5, 3]   \n",
       "15                       [15, 14, 10, 9, 8]   \n",
       "16                              [16, 15, 0]   \n",
       "\n",
       "                                   rationale_prob_tgt  exp  rational_pos  \\\n",
       "0                             [9.548327398078982e-06]    0             1   \n",
       "1           [0.0575505830347538, 0.36615633964538574]    0             2   \n",
       "2   [4.742995315609733e-06, 8.758857802604325e-06,...    0             3   \n",
       "3   [4.101557351532392e-05, 2.112391848640982e-05,...    0             4   \n",
       "4   [0.009008105844259262, 0.00782883819192648, 0....    0             5   \n",
       "5   [5.8010450629808474e-06, 3.4997081002074992e-0...    0             6   \n",
       "6   [0.005400769878178835, 0.009955440647900105, 0...    0             7   \n",
       "7          [0.16087596118450165, 0.38971567153930664]    0             8   \n",
       "8   [0.05375419184565544, 0.06680029630661011, 0.0...    0             9   \n",
       "9   [5.0112572353100404e-05, 0.0015651046996936202...    0            10   \n",
       "10                               [0.7165160775184631]    0            11   \n",
       "11  [4.012194949609693e-06, 4.2973540985258296e-05...    0            12   \n",
       "12  [1.9795428670477122e-05, 9.93140201899223e-05,...    0            13   \n",
       "13  [0.010479154996573925, 0.03391147777438164, 0....    0            14   \n",
       "14  [5.1311112656549085e-06, 5.62574750802014e-05,...    0            15   \n",
       "15  [0.004483978729695082, 0.023200104013085365, 0...    0            16   \n",
       "16  [0.0671769231557846, 0.1857408583164215, 0.486...    0            17   \n",
       "\n",
       "   token_type      span                                               tags  \n",
       "0         src   (3, 12)      [NN, module, function_definition, identifier]  \n",
       "1         src  (12, 13)  [module, function_definition, parameters, (, i...  \n",
       "2         src  (13, 16)  [NN, module, function_definition, parameters, ...  \n",
       "3         src  (16, 18)  [NN, module, function_definition, parameters, ...  \n",
       "4         src  (18, 19)  [module, function_definition, parameters, ,, i...  \n",
       "5         src  (19, 26)  [VBG, module, function_definition, parameters,...  \n",
       "6         src  (26, 28)                   [module, function_definition, :]  \n",
       "7         src  (28, 32)                      [module, function_definition]  \n",
       "8         src  (32, 39)  [module, function_definition, block, return_st...  \n",
       "9         src  (39, 43)  [NN, module, function_definition, block, retur...  \n",
       "10        src  (43, 44)  [module, function_definition, block, return_st...  \n",
       "11        src  (44, 47)  [NN, module, function_definition, block, retur...  \n",
       "12        src  (47, 49)  [NN, module, function_definition, block, retur...  \n",
       "13        src  (49, 50)  [module, function_definition, block, return_st...  \n",
       "14        src  (50, 57)  [VBG, module, function_definition, block, retu...  \n",
       "15        src  (57, 58)  [module, function_definition, block, return_st...  \n",
       "16        src  (58, 59)                                           [module]  "
      ]
     },
     "execution_count": 91,
     "metadata": {},
     "output_type": "execute_result"
    }
   ],
   "source": [
    "tagged_results[0][0][:20]"
   ]
  },
  {
   "cell_type": "code",
   "execution_count": 92,
   "metadata": {},
   "outputs": [
    {
     "data": {
      "text/plain": [
       "['NN',\n",
       " 'module',\n",
       " 'function_definition',\n",
       " 'block',\n",
       " 'return_statement',\n",
       " 'call',\n",
       " 'argument_list',\n",
       " 'identifier']"
      ]
     },
     "execution_count": 92,
     "metadata": {},
     "output_type": "execute_result"
    }
   ],
   "source": [
    "tagged_results[0][0]['tags'][11]"
   ]
  },
  {
   "cell_type": "code",
   "execution_count": 93,
   "metadata": {},
   "outputs": [
    {
     "name": "stdout",
     "output_type": "stream",
     "text": [
      "**********Aggregrating rationals for exp: 0**********\n"
     ]
    }
   ],
   "source": [
    "###AGGREGATE RATIONALS - AST\n",
    "local_ast_aggregated_results = aggregate_rationals(tagged_results, node_types, pos_types, len(prompts))"
   ]
  },
  {
   "cell_type": "code",
   "execution_count": 94,
   "metadata": {},
   "outputs": [],
   "source": [
    "###AGGREGATE RATIONALS - TAXONOMY\n",
    "taxonomy = {**pl_taxonomy_python(), **nl_pos_taxonomy()}\n",
    "local_taxonomy_aggregated_results = map_local_results_to_taxonomy(taxonomy, local_ast_aggregated_results)"
   ]
  },
  {
   "cell_type": "markdown",
   "metadata": {},
   "source": [
    "### Visualize - AST Aggregation "
   ]
  },
  {
   "cell_type": "code",
   "execution_count": 95,
   "metadata": {},
   "outputs": [
    {
     "name": "stdout",
     "output_type": "stream",
     "text": [
      "dict_keys(['1[ multiply]', '2[(]', '3[ale]', '4[jo]', '5[,]', '6[testing]', '7[):]', '8[\\n   ]', '9[ return]', '10[ pow]', '11[(]', '12[ale]', '13[jo]', '14[,]', '15[testing]', '16[)]', '17[\\n]'])\n"
     ]
    },
    {
     "ename": "KeyError",
     "evalue": "'9[ pow]'",
     "output_type": "error",
     "traceback": [
      "\u001b[0;31m---------------------------------------------------------------------------\u001b[0m",
      "\u001b[0;31mKeyError\u001b[0m                                  Traceback (most recent call last)",
      "\u001b[1;32m/workspaces/code-rationales/experimental_notebooks/5_local_aggregations.ipynb Cell 64\u001b[0m in \u001b[0;36m3\n\u001b[1;32m      <a href='vscode-notebook-cell://dev-container%2B7b22686f737450617468223a222f736372617463682f7376656c6173636f64696d6174652f636f64652d726174696f6e616c6573222c226c6f63616c446f636b6572223a66616c73652c2273657474696e6773223a7b22686f7374223a227373683a2f2f2845585029227d2c22636f6e66696746696c65223a7b22246d6964223a312c2270617468223a222f736372617463682f7376656c6173636f64696d6174652f636f64652d726174696f6e616c65732f2e646576636f6e7461696e65722f646576636f6e7461696e65722e6a736f6e222c22736368656d65223a227673636f64652d66696c65486f7374227d7d/workspaces/code-rationales/experimental_notebooks/5_local_aggregations.ipynb#Y116sdnNjb2RlLXJlbW90ZQ%3D%3D?line=0'>1</a>\u001b[0m \u001b[39m#local_ast_aggregated_results[<sample_id>][<pos[token]>] -> aggregated rationales\u001b[39;00m\n\u001b[1;32m      <a href='vscode-notebook-cell://dev-container%2B7b22686f737450617468223a222f736372617463682f7376656c6173636f64696d6174652f636f64652d726174696f6e616c6573222c226c6f63616c446f636b6572223a66616c73652c2273657474696e6773223a7b22686f7374223a227373683a2f2f2845585029227d2c22636f6e66696746696c65223a7b22246d6964223a312c2270617468223a222f736372617463682f7376656c6173636f64696d6174652f636f64652d726174696f6e616c65732f2e646576636f6e7461696e65722f646576636f6e7461696e65722e6a736f6e222c22736368656d65223a227673636f64652d66696c65486f7374227d7d/workspaces/code-rationales/experimental_notebooks/5_local_aggregations.ipynb#Y116sdnNjb2RlLXJlbW90ZQ%3D%3D?line=1'>2</a>\u001b[0m \u001b[39mprint\u001b[39m(local_ast_aggregated_results[\u001b[39m0\u001b[39m]\u001b[39m.\u001b[39mkeys()) \u001b[39m#target tokens\u001b[39;00m\n\u001b[0;32m----> <a href='vscode-notebook-cell://dev-container%2B7b22686f737450617468223a222f736372617463682f7376656c6173636f64696d6174652f636f64652d726174696f6e616c6573222c226c6f63616c446f636b6572223a66616c73652c2273657474696e6773223a7b22686f7374223a227373683a2f2f2845585029227d2c22636f6e66696746696c65223a7b22246d6964223a312c2270617468223a222f736372617463682f7376656c6173636f64696d6174652f636f64652d726174696f6e616c65732f2e646576636f6e7461696e65722f646576636f6e7461696e65722e6a736f6e222c22736368656d65223a227673636f64652d66696c65486f7374227d7d/workspaces/code-rationales/experimental_notebooks/5_local_aggregations.ipynb#Y116sdnNjb2RlLXJlbW90ZQ%3D%3D?line=2'>3</a>\u001b[0m \u001b[39mprint\u001b[39m(local_ast_aggregated_results[\u001b[39m0\u001b[39;49m][\u001b[39m'\u001b[39;49m\u001b[39m9[ pow]\u001b[39;49m\u001b[39m'\u001b[39;49m]\u001b[39m.\u001b[39mkeys()) \u001b[39m#rationales\u001b[39;00m\n\u001b[1;32m      <a href='vscode-notebook-cell://dev-container%2B7b22686f737450617468223a222f736372617463682f7376656c6173636f64696d6174652f636f64652d726174696f6e616c6573222c226c6f63616c446f636b6572223a66616c73652c2273657474696e6773223a7b22686f7374223a227373683a2f2f2845585029227d2c22636f6e66696746696c65223a7b22246d6964223a312c2270617468223a222f736372617463682f7376656c6173636f64696d6174652f636f64652d726174696f6e616c65732f2e646576636f6e7461696e65722f646576636f6e7461696e65722e6a736f6e222c22736368656d65223a227673636f64652d66696c65486f7374227d7d/workspaces/code-rationales/experimental_notebooks/5_local_aggregations.ipynb#Y116sdnNjb2RlLXJlbW90ZQ%3D%3D?line=3'>4</a>\u001b[0m \u001b[39mprint\u001b[39m(local_ast_aggregated_results[\u001b[39m0\u001b[39m][\u001b[39m'\u001b[39m\u001b[39m9[ pow]\u001b[39m\u001b[39m'\u001b[39m][\u001b[39m'\u001b[39m\u001b[39mparameters\u001b[39m\u001b[39m'\u001b[39m][\u001b[39m'\u001b[39m\u001b[39mrationales\u001b[39m\u001b[39m'\u001b[39m])\n",
      "\u001b[0;31mKeyError\u001b[0m: '9[ pow]'"
     ]
    }
   ],
   "source": [
    "#local_ast_aggregated_results[<sample_id>][<pos[token]>] -> aggregated rationales\n",
    "print(local_ast_aggregated_results[0].keys()) #target tokens\n",
    "print(local_ast_aggregated_results[0]['9[ pow]'].keys()) #rationales\n",
    "print(local_ast_aggregated_results[0]['9[ pow]']['parameters']['rationales']) #rationales values\n"
   ]
  },
  {
   "cell_type": "markdown",
   "metadata": {},
   "source": [
    "### Visualize - Taxonomy Aggregation "
   ]
  },
  {
   "cell_type": "code",
   "execution_count": null,
   "metadata": {},
   "outputs": [
    {
     "name": "stdout",
     "output_type": "stream",
     "text": [
      "dict_keys(['1[ multiply]', '2[(]', '3[a]', '4[,]', '5[b]', '6[):]', '7[\\n       ]', '8[ return]', '9[ pow]', '10[(]', '11[a]', '12[,]', '13[b]', '14[)]', '15[\\n]'])\n"
     ]
    },
    {
     "ename": "KeyError",
     "evalue": "'55[else]'",
     "output_type": "error",
     "traceback": [
      "\u001b[0;31m---------------------------------------------------------------------------\u001b[0m",
      "\u001b[0;31mKeyError\u001b[0m                                  Traceback (most recent call last)",
      "\u001b[1;32m/workspaces/code-rationales/experimental_notebooks/5_local_aggregations.ipynb Cell 65\u001b[0m in \u001b[0;36m3\n\u001b[1;32m      <a href='vscode-notebook-cell://dev-container%2B7b22686f737450617468223a222f736372617463682f7376656c6173636f64696d6174652f636f64652d726174696f6e616c6573222c226c6f63616c446f636b6572223a66616c73652c2273657474696e6773223a7b22686f7374223a227373683a2f2f2845585029227d2c22636f6e66696746696c65223a7b22246d6964223a312c2270617468223a222f736372617463682f7376656c6173636f64696d6174652f636f64652d726174696f6e616c65732f2e646576636f6e7461696e65722f646576636f6e7461696e65722e6a736f6e222c22736368656d65223a227673636f64652d66696c65486f7374227d7d/workspaces/code-rationales/experimental_notebooks/5_local_aggregations.ipynb#Y121sdnNjb2RlLXJlbW90ZQ%3D%3D?line=0'>1</a>\u001b[0m \u001b[39m#local_ast_aggregated_results[<sample_id>][<pos[token]>] -> aggregated rationales\u001b[39;00m\n\u001b[1;32m      <a href='vscode-notebook-cell://dev-container%2B7b22686f737450617468223a222f736372617463682f7376656c6173636f64696d6174652f636f64652d726174696f6e616c6573222c226c6f63616c446f636b6572223a66616c73652c2273657474696e6773223a7b22686f7374223a227373683a2f2f2845585029227d2c22636f6e66696746696c65223a7b22246d6964223a312c2270617468223a222f736372617463682f7376656c6173636f64696d6174652f636f64652d726174696f6e616c65732f2e646576636f6e7461696e65722f646576636f6e7461696e65722e6a736f6e222c22736368656d65223a227673636f64652d66696c65486f7374227d7d/workspaces/code-rationales/experimental_notebooks/5_local_aggregations.ipynb#Y121sdnNjb2RlLXJlbW90ZQ%3D%3D?line=1'>2</a>\u001b[0m \u001b[39mprint\u001b[39m(local_taxonomy_aggregated_results[\u001b[39m0\u001b[39m]\u001b[39m.\u001b[39mkeys()) \u001b[39m#target tokens\u001b[39;00m\n\u001b[0;32m----> <a href='vscode-notebook-cell://dev-container%2B7b22686f737450617468223a222f736372617463682f7376656c6173636f64696d6174652f636f64652d726174696f6e616c6573222c226c6f63616c446f636b6572223a66616c73652c2273657474696e6773223a7b22686f7374223a227373683a2f2f2845585029227d2c22636f6e66696746696c65223a7b22246d6964223a312c2270617468223a222f736372617463682f7376656c6173636f64696d6174652f636f64652d726174696f6e616c65732f2e646576636f6e7461696e65722f646576636f6e7461696e65722e6a736f6e222c22736368656d65223a227673636f64652d66696c65486f7374227d7d/workspaces/code-rationales/experimental_notebooks/5_local_aggregations.ipynb#Y121sdnNjb2RlLXJlbW90ZQ%3D%3D?line=2'>3</a>\u001b[0m \u001b[39mprint\u001b[39m(local_taxonomy_aggregated_results[\u001b[39m0\u001b[39;49m][\u001b[39m'\u001b[39;49m\u001b[39m55[else]\u001b[39;49m\u001b[39m'\u001b[39;49m]\u001b[39m.\u001b[39mkeys()) \u001b[39m#rationales\u001b[39;00m\n\u001b[1;32m      <a href='vscode-notebook-cell://dev-container%2B7b22686f737450617468223a222f736372617463682f7376656c6173636f64696d6174652f636f64652d726174696f6e616c6573222c226c6f63616c446f636b6572223a66616c73652c2273657474696e6773223a7b22686f7374223a227373683a2f2f2845585029227d2c22636f6e66696746696c65223a7b22246d6964223a312c2270617468223a222f736372617463682f7376656c6173636f64696d6174652f636f64652d726174696f6e616c65732f2e646576636f6e7461696e65722f646576636f6e7461696e65722e6a736f6e222c22736368656d65223a227673636f64652d66696c65486f7374227d7d/workspaces/code-rationales/experimental_notebooks/5_local_aggregations.ipynb#Y121sdnNjb2RlLXJlbW90ZQ%3D%3D?line=3'>4</a>\u001b[0m \u001b[39mprint\u001b[39m(local_taxonomy_aggregated_results[\u001b[39m0\u001b[39m][\u001b[39m'\u001b[39m\u001b[39m55[else]\u001b[39m\u001b[39m'\u001b[39m][\u001b[39m'\u001b[39m\u001b[39mnl_noun\u001b[39m\u001b[39m'\u001b[39m][\u001b[39m'\u001b[39m\u001b[39mrationales\u001b[39m\u001b[39m'\u001b[39m])\n",
      "\u001b[0;31mKeyError\u001b[0m: '55[else]'"
     ]
    }
   ],
   "source": [
    "#local_ast_aggregated_results[<sample_id>][<pos[token]>] -> aggregated rationales\n",
    "print(local_taxonomy_aggregated_results[0].keys()) #target tokens\n",
    "print(local_taxonomy_aggregated_results[0]['55[else]'].keys()) #rationales\n",
    "print(local_taxonomy_aggregated_results[0]['55[else]']['nl_noun']['rationales']) #rationales values\n",
    "\n"
   ]
  }
 ],
 "metadata": {
  "kernelspec": {
   "display_name": "Python 3",
   "language": "python",
   "name": "python3"
  },
  "language_info": {
   "codemirror_mode": {
    "name": "ipython",
    "version": 3
   },
   "file_extension": ".py",
   "mimetype": "text/x-python",
   "name": "python",
   "nbconvert_exporter": "python",
   "pygments_lexer": "ipython3",
   "version": "3.8.10"
  },
  "orig_nbformat": 4
 },
 "nbformat": 4,
 "nbformat_minor": 2
}
