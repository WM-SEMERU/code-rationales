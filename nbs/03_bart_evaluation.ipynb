{
 "cells": [
  {
   "cell_type": "code",
   "execution_count": 6,
   "metadata": {},
   "outputs": [],
   "source": [
    "\n",
    "import logging\n",
    "from pathlib import Path"
   ]
  },
  {
   "cell_type": "code",
   "execution_count": 74,
   "metadata": {},
   "outputs": [],
   "source": [
    "from pathlib import Path\n",
    "import csv\n",
    "import seaborn as sns; sns.set_theme()\n",
    "import matplotlib.pyplot as plt\n",
    "import pandas as pd\n",
    "import numpy as np\n",
    "import functools\n",
    "import sys\n",
    "import torch\n",
    "\n",
    "\n",
    "pd.options.display.float_format = '{:.3f}'.format"
   ]
  },
  {
   "cell_type": "code",
   "execution_count": 75,
   "metadata": {},
   "outputs": [],
   "source": [
    "#| export\n",
    "import logging\n",
    "logging.basicConfig(\n",
    "    filename=\"../datax/logs/logger_bart_sampling.txt\",\n",
    "    filemode='a',\n",
    "    format='%(asctime)s : %(levelname)s : %(message)s', \n",
    "    level=logging.INFO\n",
    "    )"
   ]
  },
  {
   "cell_type": "code",
   "execution_count": 8,
   "metadata": {},
   "outputs": [],
   "source": [
    "def param_default():\n",
    "    corpus = 'fm_fc_ms_ff' #<-- Scope\n",
    "    data_path = Path('/workspaces/code-rationales/semeru-datasets/athena_test/' + corpus + '/')\n",
    "    data_path_raw = Path(data_path/ 'raw')\n",
    "    return {\n",
    "        'bpe_path' : '/workspaces/code-rationales/scripts/universal_tokenizer/universal_tokenizer/roberta_aug_spaces',\n",
    "        'eval_raw': [data_path_raw / 'eval/input.methods.txt',\n",
    "                        data_path_raw / 'eval/output.tests.txt'],\n",
    "        'test_raw': [data_path_raw / 'test/input.methods.txt', \n",
    "                        data_path_raw / 'test/output.tests.txt'],\n",
    "        'train_raw': [data_path_raw / 'train/input.methods.txt', \n",
    "                        data_path_raw / 'train/output.tests.txt'],\n",
    "        'data_labels' : ['test_raw'],#['eval_raw','test_raw','train_raw'], <----- Just Test\n",
    "        'output_pandas' : data_path / 'pandas/',\n",
    "        'out_processed' : '/datasets/out_processed/',\n",
    "        'model_name_or_path' : '/workspaces/code-rationales/data/bart-fairseq/checkpoint_dir_athena_ms/models/', #Model Path\n",
    "        'checkpoint_file': 'checkpoint_best.pt', #Model\n",
    "        'output_results' : 'results/' \n",
    "    }"
   ]
  },
  {
   "cell_type": "code",
   "execution_count": 9,
   "metadata": {},
   "outputs": [],
   "source": [
    "#sys.path.clear()"
   ]
  },
  {
   "cell_type": "code",
   "execution_count": 10,
   "metadata": {},
   "outputs": [],
   "source": [
    "sys.path.append('/workspaces/code-rationales/scripts')"
   ]
  },
  {
   "cell_type": "code",
   "execution_count": 11,
   "metadata": {},
   "outputs": [],
   "source": [
    "from fairseq.models.transformer import TransformerModel\n",
    "from tokenizers import ByteLevelBPETokenizer\n"
   ]
  },
  {
   "cell_type": "code",
   "execution_count": 12,
   "metadata": {},
   "outputs": [],
   "source": [
    "def load_tokenizer(bpe_path):\n",
    "    return ByteLevelBPETokenizer(str(bpe_path)+'-vocab.json',str(bpe_path)+'-merges.txt')"
   ]
  },
  {
   "cell_type": "code",
   "execution_count": 13,
   "metadata": {},
   "outputs": [],
   "source": [
    "def lazy_decode(bpe_java):\n",
    "    return bpe_java.replace(' ','').replace('Ġ',' ').replace('Ċ','\\n')"
   ]
  },
  {
   "cell_type": "code",
   "execution_count": 14,
   "metadata": {},
   "outputs": [],
   "source": [
    "params = param_default()"
   ]
  },
  {
   "cell_type": "markdown",
   "metadata": {},
   "source": [
    "### Load Model"
   ]
  },
  {
   "cell_type": "code",
   "execution_count": 15,
   "metadata": {},
   "outputs": [
    {
     "name": "stderr",
     "output_type": "stream",
     "text": [
      "2023-07-21 11:13:27 | INFO | fairseq.file_utils | loading archive file /workspaces/code-rationales/data/bart-fairseq/checkpoint_dir_athena_ms/models/\n",
      "2023-07-21 11:13:28 | INFO | fairseq.tasks.translation | [input.methods] dictionary: 50348 types\n",
      "2023-07-21 11:13:28 | INFO | fairseq.tasks.translation | [output.tests] dictionary: 50348 types\n",
      "2023-07-21 11:13:30 | INFO | fairseq.models.fairseq_model | {'_name': None, 'common': {'_name': None, 'no_progress_bar': False, 'log_interval': 100, 'log_format': None, 'log_file': None, 'tensorboard_logdir': '/home/davidna/data/dummy/models/checkpoint_dir/tensorboard', 'wandb_project': None, 'azureml_logging': False, 'seed': 1, 'cpu': False, 'tpu': False, 'bf16': False, 'memory_efficient_bf16': False, 'fp16': True, 'memory_efficient_fp16': False, 'fp16_no_flatten_grads': False, 'fp16_init_scale': 2, 'fp16_scale_window': 512, 'fp16_scale_tolerance': 0.0, 'on_cpu_convert_precision': False, 'min_loss_scale': 0.0001, 'threshold_loss_scale': None, 'amp': False, 'amp_batch_retries': 2, 'amp_init_scale': 128, 'amp_scale_window': None, 'user_dir': None, 'empty_cache_freq': 0, 'all_gather_list_size': 16384, 'model_parallel_size': 1, 'quantization_config_path': None, 'profile': False, 'reset_logging': False, 'suppress_crashes': False, 'use_plasma_view': False, 'plasma_path': '/tmp/plasma'}, 'common_eval': {'_name': None, 'path': None, 'post_process': None, 'quiet': False, 'model_overrides': '{}', 'results_path': None}, 'distributed_training': {'_name': None, 'distributed_world_size': 2, 'distributed_num_procs': 2, 'distributed_rank': 0, 'distributed_backend': 'nccl', 'distributed_init_method': 'tcp://localhost:12398', 'distributed_port': -1, 'device_id': 0, 'distributed_no_spawn': False, 'ddp_backend': 'no_c10d', 'ddp_comm_hook': 'none', 'bucket_cap_mb': 25, 'fix_batches_to_gpus': False, 'find_unused_parameters': False, 'fast_stat_sync': False, 'heartbeat_timeout': -1, 'broadcast_buffers': False, 'slowmo_momentum': None, 'slowmo_algorithm': 'LocalSGD', 'localsgd_frequency': 3, 'nprocs_per_node': 2, 'pipeline_model_parallel': False, 'pipeline_balance': None, 'pipeline_devices': None, 'pipeline_chunks': 0, 'pipeline_encoder_balance': None, 'pipeline_encoder_devices': None, 'pipeline_decoder_balance': None, 'pipeline_decoder_devices': None, 'pipeline_checkpoint': 'never', 'zero_sharding': 'none', 'fp16': True, 'memory_efficient_fp16': False, 'tpu': False, 'no_reshard_after_forward': False, 'fp32_reduce_scatter': False, 'cpu_offload': False, 'use_sharded_state': False}, 'dataset': {'_name': None, 'num_workers': 1, 'skip_invalid_size_inputs_valid_test': True, 'max_tokens': 1024, 'batch_size': None, 'required_batch_size_multiple': 8, 'required_seq_len_multiple': 1, 'dataset_impl': None, 'data_buffer_size': 10, 'train_subset': 'train', 'valid_subset': 'valid', 'combine_valid_subsets': None, 'ignore_unused_valid_subsets': False, 'validate_interval': 1, 'validate_interval_updates': 0, 'validate_after_updates': 0, 'fixed_validation_seed': None, 'disable_validation': False, 'max_tokens_valid': 1024, 'batch_size_valid': None, 'max_valid_steps': None, 'curriculum': 0, 'gen_subset': 'test', 'num_shards': 1, 'shard_id': 0}, 'optimization': {'_name': None, 'max_epoch': 0, 'max_update': 0, 'stop_time_hours': 0.0, 'clip_norm': 0.1, 'sentence_avg': False, 'update_freq': [8], 'lr': [4.2e-05], 'stop_min_lr': -1.0, 'use_bmuf': False}, 'checkpoint': {'_name': None, 'save_dir': '/home/davidna/data/dummy/models/checkpoint_dir/models', 'restore_file': '/home/davidna/data/dummy/models/checkpoint_best_mod.pt.pt', 'finetune_from_model': None, 'reset_dataloader': False, 'reset_lr_scheduler': True, 'reset_meters': False, 'reset_optimizer': True, 'optimizer_overrides': '{}', 'save_interval': 1, 'save_interval_updates': 0, 'keep_interval_updates': -1, 'keep_interval_updates_pattern': -1, 'keep_last_epochs': -1, 'keep_best_checkpoints': -1, 'no_save': False, 'no_epoch_checkpoints': True, 'no_last_checkpoints': False, 'no_save_optimizer_state': False, 'best_checkpoint_metric': 'loss', 'maximize_best_checkpoint_metric': False, 'patience': -1, 'checkpoint_suffix': '', 'checkpoint_shard_count': 1, 'load_checkpoint_on_all_dp_ranks': False, 'write_checkpoints_asynchronously': False, 'model_parallel_size': 1}, 'bmuf': {'_name': None, 'block_lr': 1.0, 'block_momentum': 0.875, 'global_sync_iter': 50, 'warmup_iterations': 500, 'use_nbm': False, 'average_sync': False, 'distributed_world_size': 2}, 'generation': {'_name': None, 'beam': 5, 'nbest': 1, 'max_len_a': 0.0, 'max_len_b': 200, 'min_len': 1, 'match_source_len': False, 'unnormalized': False, 'no_early_stop': False, 'no_beamable_mm': False, 'lenpen': 1.0, 'unkpen': 0.0, 'replace_unk': None, 'sacrebleu': False, 'score_reference': False, 'prefix_size': 0, 'no_repeat_ngram_size': 0, 'sampling': False, 'sampling_topk': -1, 'sampling_topp': -1.0, 'constraints': None, 'temperature': 1.0, 'diverse_beam_groups': -1, 'diverse_beam_strength': 0.5, 'diversity_rate': -1.0, 'print_alignment': None, 'print_step': False, 'lm_path': None, 'lm_weight': 0.0, 'iter_decode_eos_penalty': 0.0, 'iter_decode_max_iter': 10, 'iter_decode_force_max_iter': False, 'iter_decode_with_beam': 1, 'iter_decode_with_external_reranker': False, 'retain_iter_history': False, 'retain_dropout': False, 'retain_dropout_modules': None, 'decoding_format': None, 'no_seed_provided': False}, 'eval_lm': {'_name': None, 'output_word_probs': False, 'output_word_stats': False, 'context_window': 0, 'softmax_batch': 9223372036854775807}, 'interactive': {'_name': None, 'buffer_size': 0, 'input': '-'}, 'model': Namespace(_name='bart_large', activation_dropout=0.0, activation_fn='relu', adam_betas='(0.9,0.98)', adam_eps=1e-06, adaptive_input=False, adaptive_softmax_cutoff=None, adaptive_softmax_dropout=0.0, adaptive_softmax_factor=4, all_gather_list_size=16384, amp=False, amp_batch_retries=2, amp_init_scale=128, amp_scale_window=None, arch='bart_large', attention_dropout=0.1, azureml_logging=False, base_layers=0, base_shuffle=1, base_sublayers=1, batch_size=None, batch_size_valid=None, best_checkpoint_metric='loss', bf16=False, bpe=None, broadcast_buffers=False, bucket_cap_mb=25, char_inputs=False, checkpoint_activations=False, checkpoint_shard_count=1, checkpoint_suffix='', clip_norm=0.1, combine_valid_subsets=None, cpu=False, cpu_offload=False, criterion='cross_entropy', cross_self_attention=False, curriculum=0, data='/workspaces/code-rationales/data/bart-fairseq/checkpoint_dir_athena_ms/models', data_buffer_size=10, dataset_impl=None, ddp_backend='no_c10d', ddp_comm_hook='none', decoder_attention_heads=8, decoder_embed_dim=512, decoder_embed_path=None, decoder_ffn_embed_dim=2048, decoder_input_dim=512, decoder_layerdrop=0, decoder_layers=6, decoder_layers_to_keep=None, decoder_learned_pos=False, decoder_normalize_before=False, decoder_output_dim=512, device_id=0, disable_validation=False, distributed_backend='nccl', distributed_init_method=None, distributed_no_spawn=False, distributed_num_procs=2, distributed_port=-1, distributed_rank=0, distributed_world_size=2, dropout=0.1, empty_cache_freq=0, encoder_attention_heads=8, encoder_embed_dim=512, encoder_embed_path=None, encoder_ffn_embed_dim=2048, encoder_layerdrop=0, encoder_layers=6, encoder_layers_to_keep=None, encoder_learned_pos=False, encoder_normalize_before=False, eos=2, eval_bleu=False, eval_bleu_args='{}', eval_bleu_detok='space', eval_bleu_detok_args='{}', eval_bleu_print_samples=False, eval_bleu_remove_bpe=None, eval_tokenized_bleu=False, export=False, fast_stat_sync=False, find_unused_parameters=False, finetune_from_model=None, fix_batches_to_gpus=False, fixed_validation_seed=None, fp16=True, fp16_adam_stats=False, fp16_init_scale=2, fp16_no_flatten_grads=False, fp16_scale_tolerance=0.0, fp16_scale_window=512, fp32_reduce_scatter=False, gen_subset='test', heartbeat_timeout=-1, ignore_unused_valid_subsets=False, keep_best_checkpoints=-1, keep_interval_updates=-1, keep_interval_updates_pattern=-1, keep_last_epochs=-1, layernorm_embedding=False, left_pad_source=True, left_pad_target=False, load_alignments=False, load_checkpoint_on_all_dp_ranks=False, localsgd_frequency=3, log_file=None, log_format=None, log_interval=100, lr=[4.2e-05], lr_scheduler='inverse_sqrt', max_epoch=0, max_source_positions=1024, max_target_positions=1024, max_tokens=1024, max_tokens_valid='1024', max_update=0, max_valid_steps=None, maximize_best_checkpoint_metric=False, memory_efficient_bf16=False, memory_efficient_fp16=False, min_loss_scale=0.0001, min_params_to_wrap=100000000, model_parallel_size=1, no_cross_attention=False, no_decoder_final_norm=False, no_epoch_checkpoints=True, no_last_checkpoints=False, no_progress_bar=False, no_reshard_after_forward=False, no_save=False, no_save_optimizer_state=False, no_scale_embedding=False, no_seed_provided=False, no_token_positional_embeddings=False, nprocs_per_node=2, num_batch_buckets=0, num_shards=1, num_workers=1, offload_activations=False, on_cpu_convert_precision=False, optimizer='adam', optimizer_overrides='{}', pad=1, patience=-1, pipeline_balance=None, pipeline_checkpoint='never', pipeline_chunks=0, pipeline_decoder_balance=None, pipeline_decoder_devices=None, pipeline_devices=None, pipeline_encoder_balance=None, pipeline_encoder_devices=None, pipeline_model_parallel=False, plasma_path='/tmp/plasma', pooler_activation_fn='tanh', pooler_dropout=0.0, profile=False, quant_noise_pq=0.0, quant_noise_pq_block_size=8, quant_noise_scalar=0.0, quantization_config_path=None, relu_dropout=0.0, required_batch_size_multiple=8, required_seq_len_multiple=1, reset_dataloader=False, reset_logging=False, reset_lr_scheduler=True, reset_meters=False, reset_optimizer=True, restore_file='/home/davidna/data/dummy/models/checkpoint_best_mod.pt.pt', save_dir='/home/davidna/data/dummy/models/checkpoint_dir/models', save_interval=1, save_interval_updates=0, scoring='bleu', seed=1, sentence_avg=False, shard_id=0, share_all_embeddings=True, share_decoder_input_output_embed=True, simul_type=None, skip_invalid_size_inputs_valid_test=True, slowmo_algorithm='LocalSGD', slowmo_momentum=None, source_lang='input.methods', stop_min_lr=-1.0, stop_time_hours=0, suppress_crashes=False, target_lang='output.tests', task='translation', tensorboard_logdir='/home/davidna/data/dummy/models/checkpoint_dir/tensorboard', threshold_loss_scale=None, tie_adaptive_proj=False, tie_adaptive_weights=False, tokenizer=None, tpu=False, train_subset='train', truncate_source=True, unk=3, update_freq=[8], upsample_primary=-1, use_bmuf=False, use_old_adam=False, use_plasma_view=False, use_sharded_state=False, user_dir=None, valid_subset='valid', validate_after_updates=0, validate_interval=1, validate_interval_updates=0, wandb_project=None, warmup_init_lr=-1, warmup_updates=10000, weight_decay=0.01, word_dropout_mixture=0.5, word_dropout_type='inverse_length', write_checkpoints_asynchronously=False, zero_sharding='none'), 'task': {'_name': 'translation', 'data': '/workspaces/code-rationales/data/bart-fairseq/checkpoint_dir_athena_ms/models', 'source_lang': 'input.methods', 'target_lang': 'output.tests', 'load_alignments': False, 'left_pad_source': True, 'left_pad_target': False, 'max_source_positions': 1024, 'max_target_positions': 1024, 'upsample_primary': -1, 'truncate_source': True, 'num_batch_buckets': 0, 'train_subset': 'train', 'dataset_impl': None, 'required_seq_len_multiple': 1, 'eval_bleu': False, 'eval_bleu_args': '{}', 'eval_bleu_detok': 'space', 'eval_bleu_detok_args': '{}', 'eval_tokenized_bleu': False, 'eval_bleu_remove_bpe': None, 'eval_bleu_print_samples': False}, 'criterion': {'_name': 'cross_entropy', 'sentence_avg': False}, 'optimizer': {'_name': 'adam', 'adam_betas': '(0.9,0.98)', 'adam_eps': 1e-06, 'weight_decay': 0.01, 'use_old_adam': False, 'fp16_adam_stats': False, 'tpu': False, 'lr': [4.2e-05]}, 'lr_scheduler': {'_name': 'inverse_sqrt', 'warmup_updates': 10000, 'warmup_init_lr': -1.0, 'lr': [4.2e-05]}, 'scoring': {'_name': 'bleu', 'pad': 1, 'eos': 2, 'unk': 3}, 'bpe': None, 'tokenizer': None, 'simul_type': None}\n"
     ]
    }
   ],
   "source": [
    "#Loading a pretrain model\n",
    "model = TransformerModel.from_pretrained(\n",
    "  model_name_or_path = params['model_name_or_path'],\n",
    "  checkpoint_file = params['checkpoint_file'],\n",
    ")"
   ]
  },
  {
   "cell_type": "code",
   "execution_count": null,
   "metadata": {},
   "outputs": [],
   "source": [
    "## Move model to GPU if available and trigger evaluation mode\n",
    "device = torch.device(\"cuda:0\" if torch.cuda.is_available() else \"cpu\")\n"
   ]
  },
  {
   "cell_type": "code",
   "execution_count": 20,
   "metadata": {},
   "outputs": [],
   "source": [
    "## If GPU busy the use CPU\n",
    "device = 'cpu'"
   ]
  },
  {
   "cell_type": "code",
   "execution_count": 21,
   "metadata": {},
   "outputs": [
    {
     "data": {
      "text/plain": [
       "GeneratorHubInterface(\n",
       "  (models): ModuleList(\n",
       "    (0): BARTModel(\n",
       "      (encoder): TransformerEncoderBase(\n",
       "        (dropout_module): FairseqDropout()\n",
       "        (embed_tokens): Embedding(50348, 512, padding_idx=1)\n",
       "        (embed_positions): SinusoidalPositionalEmbedding()\n",
       "        (layers): ModuleList(\n",
       "          (0): TransformerEncoderLayerBase(\n",
       "            (self_attn): MultiheadAttention(\n",
       "              (dropout_module): FairseqDropout()\n",
       "              (k_proj): Linear(in_features=512, out_features=512, bias=True)\n",
       "              (v_proj): Linear(in_features=512, out_features=512, bias=True)\n",
       "              (q_proj): Linear(in_features=512, out_features=512, bias=True)\n",
       "              (out_proj): Linear(in_features=512, out_features=512, bias=True)\n",
       "            )\n",
       "            (self_attn_layer_norm): LayerNorm((512,), eps=1e-05, elementwise_affine=True)\n",
       "            (dropout_module): FairseqDropout()\n",
       "            (activation_dropout_module): FairseqDropout()\n",
       "            (fc1): Linear(in_features=512, out_features=2048, bias=True)\n",
       "            (fc2): Linear(in_features=2048, out_features=512, bias=True)\n",
       "            (final_layer_norm): LayerNorm((512,), eps=1e-05, elementwise_affine=True)\n",
       "          )\n",
       "          (1): TransformerEncoderLayerBase(\n",
       "            (self_attn): MultiheadAttention(\n",
       "              (dropout_module): FairseqDropout()\n",
       "              (k_proj): Linear(in_features=512, out_features=512, bias=True)\n",
       "              (v_proj): Linear(in_features=512, out_features=512, bias=True)\n",
       "              (q_proj): Linear(in_features=512, out_features=512, bias=True)\n",
       "              (out_proj): Linear(in_features=512, out_features=512, bias=True)\n",
       "            )\n",
       "            (self_attn_layer_norm): LayerNorm((512,), eps=1e-05, elementwise_affine=True)\n",
       "            (dropout_module): FairseqDropout()\n",
       "            (activation_dropout_module): FairseqDropout()\n",
       "            (fc1): Linear(in_features=512, out_features=2048, bias=True)\n",
       "            (fc2): Linear(in_features=2048, out_features=512, bias=True)\n",
       "            (final_layer_norm): LayerNorm((512,), eps=1e-05, elementwise_affine=True)\n",
       "          )\n",
       "          (2): TransformerEncoderLayerBase(\n",
       "            (self_attn): MultiheadAttention(\n",
       "              (dropout_module): FairseqDropout()\n",
       "              (k_proj): Linear(in_features=512, out_features=512, bias=True)\n",
       "              (v_proj): Linear(in_features=512, out_features=512, bias=True)\n",
       "              (q_proj): Linear(in_features=512, out_features=512, bias=True)\n",
       "              (out_proj): Linear(in_features=512, out_features=512, bias=True)\n",
       "            )\n",
       "            (self_attn_layer_norm): LayerNorm((512,), eps=1e-05, elementwise_affine=True)\n",
       "            (dropout_module): FairseqDropout()\n",
       "            (activation_dropout_module): FairseqDropout()\n",
       "            (fc1): Linear(in_features=512, out_features=2048, bias=True)\n",
       "            (fc2): Linear(in_features=2048, out_features=512, bias=True)\n",
       "            (final_layer_norm): LayerNorm((512,), eps=1e-05, elementwise_affine=True)\n",
       "          )\n",
       "          (3): TransformerEncoderLayerBase(\n",
       "            (self_attn): MultiheadAttention(\n",
       "              (dropout_module): FairseqDropout()\n",
       "              (k_proj): Linear(in_features=512, out_features=512, bias=True)\n",
       "              (v_proj): Linear(in_features=512, out_features=512, bias=True)\n",
       "              (q_proj): Linear(in_features=512, out_features=512, bias=True)\n",
       "              (out_proj): Linear(in_features=512, out_features=512, bias=True)\n",
       "            )\n",
       "            (self_attn_layer_norm): LayerNorm((512,), eps=1e-05, elementwise_affine=True)\n",
       "            (dropout_module): FairseqDropout()\n",
       "            (activation_dropout_module): FairseqDropout()\n",
       "            (fc1): Linear(in_features=512, out_features=2048, bias=True)\n",
       "            (fc2): Linear(in_features=2048, out_features=512, bias=True)\n",
       "            (final_layer_norm): LayerNorm((512,), eps=1e-05, elementwise_affine=True)\n",
       "          )\n",
       "          (4): TransformerEncoderLayerBase(\n",
       "            (self_attn): MultiheadAttention(\n",
       "              (dropout_module): FairseqDropout()\n",
       "              (k_proj): Linear(in_features=512, out_features=512, bias=True)\n",
       "              (v_proj): Linear(in_features=512, out_features=512, bias=True)\n",
       "              (q_proj): Linear(in_features=512, out_features=512, bias=True)\n",
       "              (out_proj): Linear(in_features=512, out_features=512, bias=True)\n",
       "            )\n",
       "            (self_attn_layer_norm): LayerNorm((512,), eps=1e-05, elementwise_affine=True)\n",
       "            (dropout_module): FairseqDropout()\n",
       "            (activation_dropout_module): FairseqDropout()\n",
       "            (fc1): Linear(in_features=512, out_features=2048, bias=True)\n",
       "            (fc2): Linear(in_features=2048, out_features=512, bias=True)\n",
       "            (final_layer_norm): LayerNorm((512,), eps=1e-05, elementwise_affine=True)\n",
       "          )\n",
       "          (5): TransformerEncoderLayerBase(\n",
       "            (self_attn): MultiheadAttention(\n",
       "              (dropout_module): FairseqDropout()\n",
       "              (k_proj): Linear(in_features=512, out_features=512, bias=True)\n",
       "              (v_proj): Linear(in_features=512, out_features=512, bias=True)\n",
       "              (q_proj): Linear(in_features=512, out_features=512, bias=True)\n",
       "              (out_proj): Linear(in_features=512, out_features=512, bias=True)\n",
       "            )\n",
       "            (self_attn_layer_norm): LayerNorm((512,), eps=1e-05, elementwise_affine=True)\n",
       "            (dropout_module): FairseqDropout()\n",
       "            (activation_dropout_module): FairseqDropout()\n",
       "            (fc1): Linear(in_features=512, out_features=2048, bias=True)\n",
       "            (fc2): Linear(in_features=2048, out_features=512, bias=True)\n",
       "            (final_layer_norm): LayerNorm((512,), eps=1e-05, elementwise_affine=True)\n",
       "          )\n",
       "        )\n",
       "      )\n",
       "      (decoder): TransformerDecoderBase(\n",
       "        (dropout_module): FairseqDropout()\n",
       "        (embed_tokens): Embedding(50348, 512, padding_idx=1)\n",
       "        (embed_positions): SinusoidalPositionalEmbedding()\n",
       "        (layers): ModuleList(\n",
       "          (0): TransformerDecoderLayerBase(\n",
       "            (dropout_module): FairseqDropout()\n",
       "            (self_attn): MultiheadAttention(\n",
       "              (dropout_module): FairseqDropout()\n",
       "              (k_proj): Linear(in_features=512, out_features=512, bias=True)\n",
       "              (v_proj): Linear(in_features=512, out_features=512, bias=True)\n",
       "              (q_proj): Linear(in_features=512, out_features=512, bias=True)\n",
       "              (out_proj): Linear(in_features=512, out_features=512, bias=True)\n",
       "            )\n",
       "            (activation_dropout_module): FairseqDropout()\n",
       "            (self_attn_layer_norm): LayerNorm((512,), eps=1e-05, elementwise_affine=True)\n",
       "            (encoder_attn): MultiheadAttention(\n",
       "              (dropout_module): FairseqDropout()\n",
       "              (k_proj): Linear(in_features=512, out_features=512, bias=True)\n",
       "              (v_proj): Linear(in_features=512, out_features=512, bias=True)\n",
       "              (q_proj): Linear(in_features=512, out_features=512, bias=True)\n",
       "              (out_proj): Linear(in_features=512, out_features=512, bias=True)\n",
       "            )\n",
       "            (encoder_attn_layer_norm): LayerNorm((512,), eps=1e-05, elementwise_affine=True)\n",
       "            (fc1): Linear(in_features=512, out_features=2048, bias=True)\n",
       "            (fc2): Linear(in_features=2048, out_features=512, bias=True)\n",
       "            (final_layer_norm): LayerNorm((512,), eps=1e-05, elementwise_affine=True)\n",
       "          )\n",
       "          (1): TransformerDecoderLayerBase(\n",
       "            (dropout_module): FairseqDropout()\n",
       "            (self_attn): MultiheadAttention(\n",
       "              (dropout_module): FairseqDropout()\n",
       "              (k_proj): Linear(in_features=512, out_features=512, bias=True)\n",
       "              (v_proj): Linear(in_features=512, out_features=512, bias=True)\n",
       "              (q_proj): Linear(in_features=512, out_features=512, bias=True)\n",
       "              (out_proj): Linear(in_features=512, out_features=512, bias=True)\n",
       "            )\n",
       "            (activation_dropout_module): FairseqDropout()\n",
       "            (self_attn_layer_norm): LayerNorm((512,), eps=1e-05, elementwise_affine=True)\n",
       "            (encoder_attn): MultiheadAttention(\n",
       "              (dropout_module): FairseqDropout()\n",
       "              (k_proj): Linear(in_features=512, out_features=512, bias=True)\n",
       "              (v_proj): Linear(in_features=512, out_features=512, bias=True)\n",
       "              (q_proj): Linear(in_features=512, out_features=512, bias=True)\n",
       "              (out_proj): Linear(in_features=512, out_features=512, bias=True)\n",
       "            )\n",
       "            (encoder_attn_layer_norm): LayerNorm((512,), eps=1e-05, elementwise_affine=True)\n",
       "            (fc1): Linear(in_features=512, out_features=2048, bias=True)\n",
       "            (fc2): Linear(in_features=2048, out_features=512, bias=True)\n",
       "            (final_layer_norm): LayerNorm((512,), eps=1e-05, elementwise_affine=True)\n",
       "          )\n",
       "          (2): TransformerDecoderLayerBase(\n",
       "            (dropout_module): FairseqDropout()\n",
       "            (self_attn): MultiheadAttention(\n",
       "              (dropout_module): FairseqDropout()\n",
       "              (k_proj): Linear(in_features=512, out_features=512, bias=True)\n",
       "              (v_proj): Linear(in_features=512, out_features=512, bias=True)\n",
       "              (q_proj): Linear(in_features=512, out_features=512, bias=True)\n",
       "              (out_proj): Linear(in_features=512, out_features=512, bias=True)\n",
       "            )\n",
       "            (activation_dropout_module): FairseqDropout()\n",
       "            (self_attn_layer_norm): LayerNorm((512,), eps=1e-05, elementwise_affine=True)\n",
       "            (encoder_attn): MultiheadAttention(\n",
       "              (dropout_module): FairseqDropout()\n",
       "              (k_proj): Linear(in_features=512, out_features=512, bias=True)\n",
       "              (v_proj): Linear(in_features=512, out_features=512, bias=True)\n",
       "              (q_proj): Linear(in_features=512, out_features=512, bias=True)\n",
       "              (out_proj): Linear(in_features=512, out_features=512, bias=True)\n",
       "            )\n",
       "            (encoder_attn_layer_norm): LayerNorm((512,), eps=1e-05, elementwise_affine=True)\n",
       "            (fc1): Linear(in_features=512, out_features=2048, bias=True)\n",
       "            (fc2): Linear(in_features=2048, out_features=512, bias=True)\n",
       "            (final_layer_norm): LayerNorm((512,), eps=1e-05, elementwise_affine=True)\n",
       "          )\n",
       "          (3): TransformerDecoderLayerBase(\n",
       "            (dropout_module): FairseqDropout()\n",
       "            (self_attn): MultiheadAttention(\n",
       "              (dropout_module): FairseqDropout()\n",
       "              (k_proj): Linear(in_features=512, out_features=512, bias=True)\n",
       "              (v_proj): Linear(in_features=512, out_features=512, bias=True)\n",
       "              (q_proj): Linear(in_features=512, out_features=512, bias=True)\n",
       "              (out_proj): Linear(in_features=512, out_features=512, bias=True)\n",
       "            )\n",
       "            (activation_dropout_module): FairseqDropout()\n",
       "            (self_attn_layer_norm): LayerNorm((512,), eps=1e-05, elementwise_affine=True)\n",
       "            (encoder_attn): MultiheadAttention(\n",
       "              (dropout_module): FairseqDropout()\n",
       "              (k_proj): Linear(in_features=512, out_features=512, bias=True)\n",
       "              (v_proj): Linear(in_features=512, out_features=512, bias=True)\n",
       "              (q_proj): Linear(in_features=512, out_features=512, bias=True)\n",
       "              (out_proj): Linear(in_features=512, out_features=512, bias=True)\n",
       "            )\n",
       "            (encoder_attn_layer_norm): LayerNorm((512,), eps=1e-05, elementwise_affine=True)\n",
       "            (fc1): Linear(in_features=512, out_features=2048, bias=True)\n",
       "            (fc2): Linear(in_features=2048, out_features=512, bias=True)\n",
       "            (final_layer_norm): LayerNorm((512,), eps=1e-05, elementwise_affine=True)\n",
       "          )\n",
       "          (4): TransformerDecoderLayerBase(\n",
       "            (dropout_module): FairseqDropout()\n",
       "            (self_attn): MultiheadAttention(\n",
       "              (dropout_module): FairseqDropout()\n",
       "              (k_proj): Linear(in_features=512, out_features=512, bias=True)\n",
       "              (v_proj): Linear(in_features=512, out_features=512, bias=True)\n",
       "              (q_proj): Linear(in_features=512, out_features=512, bias=True)\n",
       "              (out_proj): Linear(in_features=512, out_features=512, bias=True)\n",
       "            )\n",
       "            (activation_dropout_module): FairseqDropout()\n",
       "            (self_attn_layer_norm): LayerNorm((512,), eps=1e-05, elementwise_affine=True)\n",
       "            (encoder_attn): MultiheadAttention(\n",
       "              (dropout_module): FairseqDropout()\n",
       "              (k_proj): Linear(in_features=512, out_features=512, bias=True)\n",
       "              (v_proj): Linear(in_features=512, out_features=512, bias=True)\n",
       "              (q_proj): Linear(in_features=512, out_features=512, bias=True)\n",
       "              (out_proj): Linear(in_features=512, out_features=512, bias=True)\n",
       "            )\n",
       "            (encoder_attn_layer_norm): LayerNorm((512,), eps=1e-05, elementwise_affine=True)\n",
       "            (fc1): Linear(in_features=512, out_features=2048, bias=True)\n",
       "            (fc2): Linear(in_features=2048, out_features=512, bias=True)\n",
       "            (final_layer_norm): LayerNorm((512,), eps=1e-05, elementwise_affine=True)\n",
       "          )\n",
       "          (5): TransformerDecoderLayerBase(\n",
       "            (dropout_module): FairseqDropout()\n",
       "            (self_attn): MultiheadAttention(\n",
       "              (dropout_module): FairseqDropout()\n",
       "              (k_proj): Linear(in_features=512, out_features=512, bias=True)\n",
       "              (v_proj): Linear(in_features=512, out_features=512, bias=True)\n",
       "              (q_proj): Linear(in_features=512, out_features=512, bias=True)\n",
       "              (out_proj): Linear(in_features=512, out_features=512, bias=True)\n",
       "            )\n",
       "            (activation_dropout_module): FairseqDropout()\n",
       "            (self_attn_layer_norm): LayerNorm((512,), eps=1e-05, elementwise_affine=True)\n",
       "            (encoder_attn): MultiheadAttention(\n",
       "              (dropout_module): FairseqDropout()\n",
       "              (k_proj): Linear(in_features=512, out_features=512, bias=True)\n",
       "              (v_proj): Linear(in_features=512, out_features=512, bias=True)\n",
       "              (q_proj): Linear(in_features=512, out_features=512, bias=True)\n",
       "              (out_proj): Linear(in_features=512, out_features=512, bias=True)\n",
       "            )\n",
       "            (encoder_attn_layer_norm): LayerNorm((512,), eps=1e-05, elementwise_affine=True)\n",
       "            (fc1): Linear(in_features=512, out_features=2048, bias=True)\n",
       "            (fc2): Linear(in_features=2048, out_features=512, bias=True)\n",
       "            (final_layer_norm): LayerNorm((512,), eps=1e-05, elementwise_affine=True)\n",
       "          )\n",
       "        )\n",
       "        (output_projection): Linear(in_features=512, out_features=50348, bias=False)\n",
       "      )\n",
       "      (classification_heads): ModuleDict()\n",
       "    )\n",
       "  )\n",
       ")"
      ]
     },
     "execution_count": 21,
     "metadata": {},
     "output_type": "execute_result"
    }
   ],
   "source": [
    "model = model.to( device ) #WARNING, Verify the device before assigning to memory\n",
    "model.eval()"
   ]
  },
  {
   "cell_type": "markdown",
   "metadata": {},
   "source": [
    "### Load Tokenizer"
   ]
  },
  {
   "cell_type": "code",
   "execution_count": 16,
   "metadata": {},
   "outputs": [],
   "source": [
    "tokenizer = load_tokenizer(params['bpe_path'])"
   ]
  },
  {
   "cell_type": "code",
   "execution_count": 17,
   "metadata": {},
   "outputs": [],
   "source": [
    "def prettify_java(minified_java):\n",
    "    \"tries to undo Michele's minification. Works decently, although for loops and sets get newlines inserted, and there are no empty lines or comments\"\n",
    "    minified_java = minified_java.replace('{','{\\n').replace('}','}\\n').replace(';',';\\n')\n",
    "    num_indents = 0\n",
    "    pretty_java = ''\n",
    "    for line in minified_java.splitlines():\n",
    "        if line.lstrip().startswith('}'):\n",
    "            num_indents -= 1\n",
    "        pretty_java += num_indents*'    '+line+'\\n'\n",
    "        if line.endswith('{'):\n",
    "            num_indents += 1\n",
    "        if line.endswith('}') and not line.lstrip().startswith('}'):\n",
    "            num_indents -= 1\n",
    "    return pretty_java"
   ]
  },
  {
   "cell_type": "markdown",
   "metadata": {},
   "source": [
    "## Data loading"
   ]
  },
  {
   "cell_type": "code",
   "execution_count": 18,
   "metadata": {},
   "outputs": [],
   "source": [
    "#export\n",
    "def method_size_vector( method_vector ):\n",
    "    '''Return the size of the tokens for a give method based on id\n",
    "        Assuming that method_vector is an array of tokens\n",
    "    '''\n",
    "    input_ids = [ len(mtd) for mtd in method_vector ]\n",
    "    return input_ids"
   ]
  },
  {
   "cell_type": "code",
   "execution_count": 30,
   "metadata": {},
   "outputs": [],
   "source": [
    "def super_set_code():\n",
    "    '''This method creates a dictionary with as many dataframes as data labels exists, for isntance, input and uotput for each \n",
    "    type: test,eval, val'''\n",
    "    data = {}\n",
    "    for label in params['data_labels']:\n",
    "        for val,path_data in enumerate(params[ label ]):\n",
    "            print(path_data)\n",
    "            df = pd.read_csv( path_data, sep=\"\\0\", header=None, names=[label+str(val)]) #reading file\n",
    "            df[label+'_bpe'+str(val)] = [ enc.tokens for enc in tokenizer.encode_batch( df[label+str(val)].values ) ] #bpe\n",
    "            df['method_size'+str(val)] = method_size_vector( df[label+'_bpe'+str(val)].values ) #counting tokens\n",
    "            data[label+str(val)] =  df  \n",
    "    return data"
   ]
  },
  {
   "cell_type": "code",
   "execution_count": 28,
   "metadata": {},
   "outputs": [
    {
     "name": "stdout",
     "output_type": "stream",
     "text": [
      "/workspaces/code-rationales/semeru-datasets/athena_test/fm_fc_ms_ff/raw/test/input.methods.txt\n",
      "/workspaces/code-rationales/semeru-datasets/athena_test/fm_fc_ms_ff/raw/test/output.tests.txt\n"
     ]
    }
   ],
   "source": [
    "super_data = super_set_code()"
   ]
  },
  {
   "cell_type": "code",
   "execution_count": 31,
   "metadata": {},
   "outputs": [
    {
     "data": {
      "text/html": [
       "<div>\n",
       "<style scoped>\n",
       "    .dataframe tbody tr th:only-of-type {\n",
       "        vertical-align: middle;\n",
       "    }\n",
       "\n",
       "    .dataframe tbody tr th {\n",
       "        vertical-align: top;\n",
       "    }\n",
       "\n",
       "    .dataframe thead th {\n",
       "        text-align: right;\n",
       "    }\n",
       "</style>\n",
       "<table border=\"1\" class=\"dataframe\">\n",
       "  <thead>\n",
       "    <tr style=\"text-align: right;\">\n",
       "      <th></th>\n",
       "      <th>test_raw1</th>\n",
       "      <th>test_raw_bpe1</th>\n",
       "      <th>method_size1</th>\n",
       "    </tr>\n",
       "  </thead>\n",
       "  <tbody>\n",
       "    <tr>\n",
       "      <th>0</th>\n",
       "      <td>@Test public void yearStart() { Date date = Da...</td>\n",
       "      <td>[@, Test, Ġpublic, Ġvoid, Ġyear, Start, (), Ġ{...</td>\n",
       "      <td>61</td>\n",
       "    </tr>\n",
       "    <tr>\n",
       "      <th>1</th>\n",
       "      <td>@Test public void yearEnd() { Date date = Date...</td>\n",
       "      <td>[@, Test, Ġpublic, Ġvoid, Ġyear, End, (), Ġ{, ...</td>\n",
       "      <td>74</td>\n",
       "    </tr>\n",
       "    <tr>\n",
       "      <th>2</th>\n",
       "      <td>@Test void validate_invalid_bindingId_test() {...</td>\n",
       "      <td>[@, Test, Ġvoid, Ġvalidate, _, in, valid, _, b...</td>\n",
       "      <td>110</td>\n",
       "    </tr>\n",
       "    <tr>\n",
       "      <th>3</th>\n",
       "      <td>@Test void getUnsignedShort_test1() { byte[] b...</td>\n",
       "      <td>[@, Test, Ġvoid, Ġget, Un, signed, Short, _, t...</td>\n",
       "      <td>73</td>\n",
       "    </tr>\n",
       "    <tr>\n",
       "      <th>4</th>\n",
       "      <td>@Test void isWithinUnsignedLong_test() { asser...</td>\n",
       "      <td>[@, Test, Ġvoid, Ġis, Within, Un, signed, Long...</td>\n",
       "      <td>145</td>\n",
       "    </tr>\n",
       "    <tr>\n",
       "      <th>...</th>\n",
       "      <td>...</td>\n",
       "      <td>...</td>\n",
       "      <td>...</td>\n",
       "    </tr>\n",
       "    <tr>\n",
       "      <th>78383</th>\n",
       "      <td>@Test public void testWithBushData() throws IO...</td>\n",
       "      <td>[@, Test, Ġpublic, Ġvoid, Ġtest, With, Bush, D...</td>\n",
       "      <td>92</td>\n",
       "    </tr>\n",
       "    <tr>\n",
       "      <th>78384</th>\n",
       "      <td>@Test public void column() { TableSlice slice ...</td>\n",
       "      <td>[@, Test, Ġpublic, Ġvoid, Ġcolumn, (), Ġ{, ĠTa...</td>\n",
       "      <td>137</td>\n",
       "    </tr>\n",
       "    <tr>\n",
       "      <th>78385</th>\n",
       "      <td>@Test void testIsIn() { StringColumn stringCol...</td>\n",
       "      <td>[@, Test, Ġvoid, Ġtest, Is, In, (), Ġ{, ĠStrin...</td>\n",
       "      <td>91</td>\n",
       "    </tr>\n",
       "    <tr>\n",
       "      <th>78386</th>\n",
       "      <td>@Test public void rightJoinStudentInstructorOn...</td>\n",
       "      <td>[@, Test, Ġpublic, Ġvoid, Ġright, Join, Studen...</td>\n",
       "      <td>85</td>\n",
       "    </tr>\n",
       "    <tr>\n",
       "      <th>78387</th>\n",
       "      <td>@Test public void printWithLargeDoubleNumber()...</td>\n",
       "      <td>[@, Test, Ġpublic, Ġvoid, Ġprint, With, Large,...</td>\n",
       "      <td>168</td>\n",
       "    </tr>\n",
       "  </tbody>\n",
       "</table>\n",
       "<p>78388 rows × 3 columns</p>\n",
       "</div>"
      ],
      "text/plain": [
       "                                               test_raw1  \\\n",
       "0      @Test public void yearStart() { Date date = Da...   \n",
       "1      @Test public void yearEnd() { Date date = Date...   \n",
       "2      @Test void validate_invalid_bindingId_test() {...   \n",
       "3      @Test void getUnsignedShort_test1() { byte[] b...   \n",
       "4      @Test void isWithinUnsignedLong_test() { asser...   \n",
       "...                                                  ...   \n",
       "78383  @Test public void testWithBushData() throws IO...   \n",
       "78384  @Test public void column() { TableSlice slice ...   \n",
       "78385  @Test void testIsIn() { StringColumn stringCol...   \n",
       "78386  @Test public void rightJoinStudentInstructorOn...   \n",
       "78387  @Test public void printWithLargeDoubleNumber()...   \n",
       "\n",
       "                                           test_raw_bpe1  method_size1  \n",
       "0      [@, Test, Ġpublic, Ġvoid, Ġyear, Start, (), Ġ{...            61  \n",
       "1      [@, Test, Ġpublic, Ġvoid, Ġyear, End, (), Ġ{, ...            74  \n",
       "2      [@, Test, Ġvoid, Ġvalidate, _, in, valid, _, b...           110  \n",
       "3      [@, Test, Ġvoid, Ġget, Un, signed, Short, _, t...            73  \n",
       "4      [@, Test, Ġvoid, Ġis, Within, Un, signed, Long...           145  \n",
       "...                                                  ...           ...  \n",
       "78383  [@, Test, Ġpublic, Ġvoid, Ġtest, With, Bush, D...            92  \n",
       "78384  [@, Test, Ġpublic, Ġvoid, Ġcolumn, (), Ġ{, ĠTa...           137  \n",
       "78385  [@, Test, Ġvoid, Ġtest, Is, In, (), Ġ{, ĠStrin...            91  \n",
       "78386  [@, Test, Ġpublic, Ġvoid, Ġright, Join, Studen...            85  \n",
       "78387  [@, Test, Ġpublic, Ġvoid, Ġprint, With, Large,...           168  \n",
       "\n",
       "[78388 rows x 3 columns]"
      ]
     },
     "execution_count": 31,
     "metadata": {},
     "output_type": "execute_result"
    }
   ],
   "source": [
    "## the outoput dataset\n",
    "super_data['test_raw1']"
   ]
  },
  {
   "cell_type": "code",
   "execution_count": 79,
   "metadata": {},
   "outputs": [
    {
     "data": {
      "text/html": [
       "<div>\n",
       "<style scoped>\n",
       "    .dataframe tbody tr th:only-of-type {\n",
       "        vertical-align: middle;\n",
       "    }\n",
       "\n",
       "    .dataframe tbody tr th {\n",
       "        vertical-align: top;\n",
       "    }\n",
       "\n",
       "    .dataframe thead th {\n",
       "        text-align: right;\n",
       "    }\n",
       "</style>\n",
       "<table border=\"1\" class=\"dataframe\">\n",
       "  <thead>\n",
       "    <tr style=\"text-align: right;\">\n",
       "      <th></th>\n",
       "      <th>method_size1</th>\n",
       "    </tr>\n",
       "  </thead>\n",
       "  <tbody>\n",
       "    <tr>\n",
       "      <th>count</th>\n",
       "      <td>78388.000</td>\n",
       "    </tr>\n",
       "    <tr>\n",
       "      <th>mean</th>\n",
       "      <td>159.106</td>\n",
       "    </tr>\n",
       "    <tr>\n",
       "      <th>std</th>\n",
       "      <td>450.521</td>\n",
       "    </tr>\n",
       "    <tr>\n",
       "      <th>min</th>\n",
       "      <td>7.000</td>\n",
       "    </tr>\n",
       "    <tr>\n",
       "      <th>25%</th>\n",
       "      <td>61.000</td>\n",
       "    </tr>\n",
       "    <tr>\n",
       "      <th>50%</th>\n",
       "      <td>102.000</td>\n",
       "    </tr>\n",
       "    <tr>\n",
       "      <th>75%</th>\n",
       "      <td>179.000</td>\n",
       "    </tr>\n",
       "    <tr>\n",
       "      <th>max</th>\n",
       "      <td>62933.000</td>\n",
       "    </tr>\n",
       "  </tbody>\n",
       "</table>\n",
       "</div>"
      ],
      "text/plain": [
       "       method_size1\n",
       "count     78388.000\n",
       "mean        159.106\n",
       "std         450.521\n",
       "min           7.000\n",
       "25%          61.000\n",
       "50%         102.000\n",
       "75%         179.000\n",
       "max       62933.000"
      ]
     },
     "execution_count": 79,
     "metadata": {},
     "output_type": "execute_result"
    }
   ],
   "source": [
    "super_data['test_raw1'].describe()"
   ]
  },
  {
   "cell_type": "code",
   "execution_count": 32,
   "metadata": {},
   "outputs": [
    {
     "data": {
      "text/html": [
       "<div>\n",
       "<style scoped>\n",
       "    .dataframe tbody tr th:only-of-type {\n",
       "        vertical-align: middle;\n",
       "    }\n",
       "\n",
       "    .dataframe tbody tr th {\n",
       "        vertical-align: top;\n",
       "    }\n",
       "\n",
       "    .dataframe thead th {\n",
       "        text-align: right;\n",
       "    }\n",
       "</style>\n",
       "<table border=\"1\" class=\"dataframe\">\n",
       "  <thead>\n",
       "    <tr style=\"text-align: right;\">\n",
       "      <th></th>\n",
       "      <th>test_raw0</th>\n",
       "      <th>test_raw_bpe0</th>\n",
       "      <th>method_size0</th>\n",
       "    </tr>\n",
       "  </thead>\n",
       "  <tbody>\n",
       "    <tr>\n",
       "      <th>0</th>\n",
       "      <td>DateUtils { public static Date yearStart() { f...</td>\n",
       "      <td>[Date, Ut, ils, Ġ{, Ġpublic, Ġstatic, ĠDate, Ġ...</td>\n",
       "      <td>227</td>\n",
       "    </tr>\n",
       "    <tr>\n",
       "      <th>1</th>\n",
       "      <td>DateUtils { public static Date yearEnd() { fin...</td>\n",
       "      <td>[Date, Ut, ils, Ġ{, Ġpublic, Ġstatic, ĠDate, Ġ...</td>\n",
       "      <td>250</td>\n",
       "    </tr>\n",
       "    <tr>\n",
       "      <th>2</th>\n",
       "      <td>TokenBindingValidator { public void validate(T...</td>\n",
       "      <td>[Token, B, inding, Valid, ator, Ġ{, Ġpublic, Ġ...</td>\n",
       "      <td>197</td>\n",
       "    </tr>\n",
       "    <tr>\n",
       "      <th>3</th>\n",
       "      <td>UnsignedNumberUtil { public static int getUnsi...</td>\n",
       "      <td>[Un, signed, Number, Ut, il, Ġ{, Ġpublic, Ġsta...</td>\n",
       "      <td>239</td>\n",
       "    </tr>\n",
       "    <tr>\n",
       "      <th>4</th>\n",
       "      <td>UnsignedNumberUtil { public static boolean isW...</td>\n",
       "      <td>[Un, signed, Number, Ut, il, Ġ{, Ġpublic, Ġsta...</td>\n",
       "      <td>251</td>\n",
       "    </tr>\n",
       "    <tr>\n",
       "      <th>...</th>\n",
       "      <td>...</td>\n",
       "      <td>...</td>\n",
       "      <td>...</td>\n",
       "    </tr>\n",
       "    <tr>\n",
       "      <th>78383</th>\n",
       "      <td>CsvReader extends FileReader implements DataRe...</td>\n",
       "      <td>[C, sv, Reader, Ġextends, ĠFile, Reader, Ġimpl...</td>\n",
       "      <td>80</td>\n",
       "    </tr>\n",
       "    <tr>\n",
       "      <th>78384</th>\n",
       "      <td>TableSlice extends Relation { @Override public...</td>\n",
       "      <td>[Table, Sl, ice, Ġextends, ĠRel, ation, Ġ{, Ġ@...</td>\n",
       "      <td>281</td>\n",
       "    </tr>\n",
       "    <tr>\n",
       "      <th>78385</th>\n",
       "      <td>StringColumn extends AbstractStringColumn&lt;Stri...</td>\n",
       "      <td>[String, Column, Ġextends, ĠAbstract, String, ...</td>\n",
       "      <td>605</td>\n",
       "    </tr>\n",
       "    <tr>\n",
       "      <th>78386</th>\n",
       "      <td>DataFrameJoiner { public Table rightOuter(Tabl...</td>\n",
       "      <td>[Data, Frame, Jo, iner, Ġ{, Ġpublic, ĠTable, Ġ...</td>\n",
       "      <td>329</td>\n",
       "    </tr>\n",
       "    <tr>\n",
       "      <th>78387</th>\n",
       "      <td>DataFramePrinter { public void print(Relation ...</td>\n",
       "      <td>[Data, Frame, Pr, inter, Ġ{, Ġpublic, Ġvoid, Ġ...</td>\n",
       "      <td>357</td>\n",
       "    </tr>\n",
       "  </tbody>\n",
       "</table>\n",
       "<p>78388 rows × 3 columns</p>\n",
       "</div>"
      ],
      "text/plain": [
       "                                               test_raw0  \\\n",
       "0      DateUtils { public static Date yearStart() { f...   \n",
       "1      DateUtils { public static Date yearEnd() { fin...   \n",
       "2      TokenBindingValidator { public void validate(T...   \n",
       "3      UnsignedNumberUtil { public static int getUnsi...   \n",
       "4      UnsignedNumberUtil { public static boolean isW...   \n",
       "...                                                  ...   \n",
       "78383  CsvReader extends FileReader implements DataRe...   \n",
       "78384  TableSlice extends Relation { @Override public...   \n",
       "78385  StringColumn extends AbstractStringColumn<Stri...   \n",
       "78386  DataFrameJoiner { public Table rightOuter(Tabl...   \n",
       "78387  DataFramePrinter { public void print(Relation ...   \n",
       "\n",
       "                                           test_raw_bpe0  method_size0  \n",
       "0      [Date, Ut, ils, Ġ{, Ġpublic, Ġstatic, ĠDate, Ġ...           227  \n",
       "1      [Date, Ut, ils, Ġ{, Ġpublic, Ġstatic, ĠDate, Ġ...           250  \n",
       "2      [Token, B, inding, Valid, ator, Ġ{, Ġpublic, Ġ...           197  \n",
       "3      [Un, signed, Number, Ut, il, Ġ{, Ġpublic, Ġsta...           239  \n",
       "4      [Un, signed, Number, Ut, il, Ġ{, Ġpublic, Ġsta...           251  \n",
       "...                                                  ...           ...  \n",
       "78383  [C, sv, Reader, Ġextends, ĠFile, Reader, Ġimpl...            80  \n",
       "78384  [Table, Sl, ice, Ġextends, ĠRel, ation, Ġ{, Ġ@...           281  \n",
       "78385  [String, Column, Ġextends, ĠAbstract, String, ...           605  \n",
       "78386  [Data, Frame, Jo, iner, Ġ{, Ġpublic, ĠTable, Ġ...           329  \n",
       "78387  [Data, Frame, Pr, inter, Ġ{, Ġpublic, Ġvoid, Ġ...           357  \n",
       "\n",
       "[78388 rows x 3 columns]"
      ]
     },
     "execution_count": 32,
     "metadata": {},
     "output_type": "execute_result"
    }
   ],
   "source": [
    "super_data['test_raw0']"
   ]
  },
  {
   "cell_type": "code",
   "execution_count": 34,
   "metadata": {},
   "outputs": [],
   "source": [
    "MAX_TOKENS = 512 ## HARDCODED <-----\n",
    "def joining_encode_tokens( arr_tokens, model ):\n",
    "    if len(arr_tokens) > MAX_TOKENS:\n",
    "        arr_tokens = arr_tokens[0:MAX_TOKENS]\n",
    "    focal_code = \" \".join(arr_tokens)\n",
    "    return model.encode( focal_code )"
   ]
  },
  {
   "cell_type": "markdown",
   "metadata": {},
   "source": [
    "## Just Naive Sampling"
   ]
  },
  {
   "cell_type": "code",
   "execution_count": 36,
   "metadata": {},
   "outputs": [],
   "source": [
    "FLAG_SAMPLING = True #<---- HARDCODED\n",
    "if FLAG_SAMPLING:\n",
    "    SIZE_SAMPLING = 100 #<---- HARDCODED\n",
    "    input_tokens = [ joining_encode_tokens(arr_sample, model=model) for arr_sample in super_data['test_raw0'].test_raw_bpe0.values[:SIZE_SAMPLING] ]\n",
    "else:\n",
    "    input_tokens = [ joining_encode_tokens(arr_sample, model=model) for arr_sample in super_data['test_raw0'].test_raw_bpe0.values]"
   ]
  },
  {
   "cell_type": "code",
   "execution_count": 37,
   "metadata": {},
   "outputs": [
    {
     "data": {
      "text/plain": [
       "100"
      ]
     },
     "execution_count": 37,
     "metadata": {},
     "output_type": "execute_result"
    }
   ],
   "source": [
    "len(input_tokens)"
   ]
  },
  {
   "cell_type": "code",
   "execution_count": 40,
   "metadata": {},
   "outputs": [],
   "source": [
    "SAMPLES = 1 #<---- Hardocoded\n",
    "MAX_GEN_TOK = 100"
   ]
  },
  {
   "cell_type": "code",
   "execution_count": 41,
   "metadata": {},
   "outputs": [],
   "source": [
    "def sample_generation(input, model):\n",
    "    generated_input =  model.generate( \n",
    "        input, \n",
    "        maxlen=MAX_GEN_TOK, ##WARNING, This parameter is not working\n",
    "        max_length=SAMPLES, \n",
    "        do_sample=False, \n",
    "        pad_token_id=50256 ) ## HARDCODED\n",
    "    return generated_input[0]['tokens'][:MAX_GEN_TOK]"
   ]
  },
  {
   "cell_type": "code",
   "execution_count": 42,
   "metadata": {},
   "outputs": [],
   "source": [
    "arr_generated_input = [ sample_generation(input, model=model) for input in input_tokens ]"
   ]
  },
  {
   "cell_type": "code",
   "execution_count": 43,
   "metadata": {},
   "outputs": [
    {
     "data": {
      "text/plain": [
       "'@ Test Ġpublic Ġvoid Ġtest Year Start () Ġthrows ĠException Ġ{ ĠDate Ġdate Ġ= ĠDate Ut ils . year Start (); Ġassert Not Null ( date ); Ġassert Equ als ( date . get Time (), Ġdate . get Time ()); Ġassert Equ als ( date . get Time (), Ġdate . get Time ()); Ġ}'"
      ]
     },
     "execution_count": 43,
     "metadata": {},
     "output_type": "execute_result"
    }
   ],
   "source": [
    "decoded = model.decode(arr_generated_input[0])\n",
    "decoded"
   ]
  },
  {
   "cell_type": "code",
   "execution_count": 44,
   "metadata": {},
   "outputs": [
    {
     "data": {
      "text/plain": [
       "'@Test public void testYearStart() throws Exception {\\n     Date date = DateUtils.yearStart();\\n     assertNotNull(date);\\n     assertEquals(date.getTime(), date.getTime());\\n     assertEquals(date.getTime(), date.getTime());\\n }\\n'"
      ]
     },
     "execution_count": 44,
     "metadata": {},
     "output_type": "execute_result"
    }
   ],
   "source": [
    "prettify_java( lazy_decode( decoded ) )"
   ]
  },
  {
   "cell_type": "code",
   "execution_count": 57,
   "metadata": {},
   "outputs": [
    {
     "data": {
      "text/plain": [
       "'@Test public void yearStart() { Date date = DateUtils.yearStart(); assertNotNull(date); GregorianCalendar calendar = new GregorianCalendar(); calendar.setTime(date); assertEquals(1, calendar.get(DAY_OF_YEAR)); }'"
      ]
     },
     "execution_count": 57,
     "metadata": {},
     "output_type": "execute_result"
    }
   ],
   "source": [
    "super_data['test_raw1'].test_raw1.values[:SIZE_SAMPLING]"
   ]
  },
  {
   "cell_type": "code",
   "execution_count": 53,
   "metadata": {},
   "outputs": [],
   "source": [
    "arr_prettify_generated = [prettify_java(lazy_decode(model.decode(input))) for input in arr_generated_input]"
   ]
  },
  {
   "cell_type": "code",
   "execution_count": 54,
   "metadata": {},
   "outputs": [
    {
     "data": {
      "text/plain": [
       "['@Test public void testYearStart() throws Exception {\\n     Date date = DateUtils.yearStart();\\n     assertNotNull(date);\\n     assertEquals(date.getTime(), date.getTime());\\n     assertEquals(date.getTime(), date.getTime());\\n }\\n',\n",
       " '@Test public void testYearEnd() {\\n     Date date = DateUtils.yearEnd();\\n     assertEquals(2015, date.getYear());\\n     assertEquals(2015, date.getMonth());\\n     assertEquals(2015, date.getMonth());\\n     assertEquals(2015, date.getMonth());\\n     assertEquals(2015, date.getMonth());\\n     assertEquals(2015, date.getMonth());\\n     assertEquals(2015, date.getMonth());\\n     assertEquals(\\n',\n",
       " '@Test public void validate_nullClientDataTokenBinding() {\\n     tokenBindingValidator.validate(null, null);\\n }\\n',\n",
       " '@Test public void testGetUnsignedShort() {\\n     assertEquals(0, UnsignedNumberUtil.getUnsignedShort((byte) 0));\\n     assertEquals(0, UnsignedNumberUtil.getUnsignedShort((byte) 0));\\n     assertEquals(0, UnsignedNumberUtil.getUnsignedShort((byte) 0));\\n     assertEquals(0, UnsignedNumberUtil.getUnsignedShort((byte) 0));\\n     assertEquals(0\\n',\n",
       " '@Test public void testIsWithinUnsignedLong() {\\n     assertTrue(UnsignedNumberUtil.isWithinUnsignedLong(BigInteger.valueOf(1)));\\n     assertTrue(UnsignedNumberUtil.isWithinUnsignedLong(BigInteger.valueOf(1)));\\n     assertTrue(UnsignedNumberUtil.isWithinUnsignedLong(BigInteger.valueOf(1)));\\n     assertTrue(UnsignedNumberUtil.isWithinUnsignedLong(Big\\n',\n",
       " '@Test public void getUnsignedLong() {\\n     ByteBuffer byteBuffer = ByteBuffer.allocate(1);\\n     ByteBuffer byteBuffer = ByteBuffer.allocate(1);\\n     assertEquals(new BigInteger(\"0\"), UnsignedNumberUtil.getUnsignedLong(byteBuffer));\\n     assertEquals(new BigInteger(\"0\"), UnsignedNumberUtil.getUnsignedLong(byteBuffer));\\n }\\n',\n",
       " '@Test public void testValidate() {\\n     registrationData.setClientExtensions(Collections.singletonList(CoreRegistrationData.class));\\n     registrationData.setClientExtensions(Collections.singletonList(CoreRegistrationData.class));\\n     registrationData.setClientExtensions(Collections.singletonList(CoreRegistrationData.class));\\n     registrationData.setClientExtensions(Collections.singletonList(CoreRegistrationData.class));\\n     BeanAssertUtil.valid\\n',\n",
       " '@Test public void validate_nullClientDataTokenBinding() {\\n     tokenBindingValidator.validate(null, null);\\n }\\n',\n",
       " '@Test public void validate_nullClientDataTokenBinding() {\\n     tokenBindingValidator.validate(null, null);\\n }\\n',\n",
       " '@Test public void testValidate() {\\n     registrationData.setClientExtensions(Collections.singletonList(CoreRegistrationData.class));\\n     registrationData.setClientExtensions(Collections.singletonList(CoreRegistrationData.class));\\n     registrationData.setClientExtensions(Collections.singletonList(CoreRegistrationData.class));\\n     registrationData.setClientExtensions(Collections.singletonList(CoreRegistrationData.class));\\n     BeanAssertUtil.valid\\n',\n",
       " '@Test public void testIsValidSignature() {\\n     assertTrue(jWS.isValidSignature());\\n }\\n',\n",
       " '@Test public void testGetValue() {\\n     CredentialProtectionExtensionClientInput credentialProtectionExtensionClientInput = new CredentialProtectionExtensionClientInput(new CredentialProtectionPolicy(CredentialProtectionPolicy.KEY_CREDENTIAL_POLICY));\\n     assertEquals(CredentialProtectionExtensionClientInput.KEY_CREDENTIAL_POLICY, credentialProtectionExtensionClientInput.getValue(KEY\\n',\n",
       " '@Test(expected = IllegalArgumentException.class) public void testAppendTokenNullUrl() {\\n     FidoMdsMetadataItemsProvider.appendToken(null, null);\\n }\\n',\n",
       " '@Test(expectedExceptions = DataConversionException.class) public void convertInvalidValue() {\\n     AuthenticatorTransportConverter converter = new AuthenticatorTransportConverter();\\n     thrown.expect(DataConversionException.class);\\n     converter.convert(null);\\n }\\n',\n",
       " '@Test public void shouldDecodeEmptyString() {\\n     assertThat(Base64UrlUtil.decode(\"\")).isEqualTo(\"\");\\n }\\n',\n",
       " '@Test public void testToBytes() {\\n     assertArrayEquals(new byte[]{\\n        0x00, 0x00, 0x00, 0x00, 0x00, 0x00, 0x00, 0x00, 0x00, 0x00, 0x00, 0x00, 0x00, 0x00, 0x00, 0x00, 0x00, 0x00, 0x00, 0x00, 0x\\n',\n",
       " '@Test(expected = BadRpIdException.class) public void validate_shouldThrowBadRpId() {\\n     rpIdHashValidator.validate(null, serverProperty);\\n }\\n',\n",
       " '@Test(expectedExceptions = DataConversionException.class) public void convertInvalidValue() {\\n     AuthenticatorTransportConverter converter = new AuthenticatorTransportConverter();\\n     thrown.expect(DataConversionException.class);\\n     converter.convert(null);\\n }\\n',\n",
       " '@Test public void testValidate() {\\n     registrationData.setClientExtensions(Collections.singletonList(CoreRegistrationData.class));\\n     registrationData.setClientExtensions(Collections.singletonList(CoreRegistrationData.class));\\n     registrationData.setClientExtensions(Collections.singletonList(CoreRegistrationData.class));\\n     registrationData.setClientExtensions(Collections.singletonList(CoreRegistrationData.class));\\n     BeanAssertUtil.valid\\n',\n",
       " '@Test public void convert() {\\n     AuthenticationExtensionsClientInputsConverter converter = new AuthenticationExtensionsClientInputsConverter(objectConverter);\\n     assertNull(converter.convert(null));\\n }\\n',\n",
       " '@Test public void testValidate() {\\n     registrationData.setClientExtensions(Collections.singletonList(CoreRegistrationData.class));\\n     registrationData.setClientExtensions(Collections.singletonList(CoreRegistrationData.class));\\n     registrationData.setClientExtensions(Collections.singletonList(CoreRegistrationData.class));\\n     registrationData.setClientExtensions(Collections.singletonList(CoreRegistrationData.class));\\n     BeanAssertUtil.valid\\n',\n",
       " '@Test public void testValidate() {\\n     registrationData.setClientExtensions(Collections.singletonList(CoreRegistrationData.class));\\n     registrationData.setClientExtensions(Collections.singletonList(CoreRegistrationData.class));\\n     registrationData.setClientExtensions(Collections.singletonList(CoreRegistrationData.class));\\n     registrationData.setClientExtensions(Collections.singletonList(CoreRegistrationData.class));\\n     BeanAssertUtil.valid\\n',\n",
       " '@Test public void testValidate() {\\n     registrationData.setClientExtensions(Collections.singletonList(CoreRegistrationData.class));\\n     registrationData.setClientExtensions(Collections.singletonList(CoreRegistrationData.class));\\n     registrationData.setClientExtensions(Collections.singletonList(CoreRegistrationData.class));\\n     registrationData.setClientExtensions(Collections.singletonList(CoreRegistrationData.class));\\n     BeanAssertUtil.valid\\n',\n",
       " '@Test(expected = IllegalArgumentException.class) public void testInvalidJWS() throws Exception {\\n     JWSFactory<PrivateKey> jWSFactory = new JWSFactory<>(PrivateKey.class);\\n     JWS<PrivateKey> jWS = jWSFactory.create(new JWSFactory<PrivateKey>(PrivateKey.class), PrivateKey.class);\\n }\\n',\n",
       " '@Test public void testValidate() {\\n     RegistrationObject registrationObject = new RegistrationObject();\\n     registrationObject.setAuthenticatorData(authenticatorData);\\n     registrationObject.setAuthenticatorData(authenticatorData);\\n     validator.validate(registrationObject);\\n }\\n',\n",
       " '@Test public void testConvertBase64UrlString() {\\n     String base64UrlString = \"http: String base64UrlString = \"http: String base64UrlString = \"http: CollectedClientData result = converter.convert(base64UrlString);\\n     assertNotNull(result);\\n     assertEquals(base64UrlString, result.getBase64UrlString());\\n }\\n',\n",
       " '@Test public void testValidate() {\\n     registrationData.setClientExtensions(Collections.singletonList(CoreRegistrationData.class));\\n     registrationData.setClientExtensions(Collections.singletonList(CoreRegistrationData.class));\\n     registrationData.setClientExtensions(Collections.singletonList(CoreRegistrationData.class));\\n     registrationData.setClientExtensions(Collections.singletonList(CoreRegistrationData.class));\\n     BeanAssertUtil.valid\\n',\n",
       " '@Test public void testValidate() {\\n     registrationData.setClientExtensions(Collections.singletonList(CoreRegistrationData.class));\\n     registrationData.setClientExtensions(Collections.singletonList(CoreRegistrationData.class));\\n     registrationData.setClientExtensions(Collections.singletonList(CoreRegistrationData.class));\\n     registrationData.setClientExtensions(Collections.singletonList(CoreRegistrationData.class));\\n     BeanAssertUtil.valid\\n',\n",
       " '@Test public void validate_nullClientDataTokenBinding() {\\n     tokenBindingValidator.validate(null, null);\\n }\\n',\n",
       " '@Test public void testGetUserHandle() {\\n     final AuthenticatorAssertionResponse response = new AuthenticatorAssertionResponse(clientData, authenticatorData, userHandle);\\n     AssertionResponse response2 = new AuthenticatorAssertionResponse(clientData, authenticatorData, userHandle);\\n     AssertionResponse response3 = new AuthenticatorAssertionResponse(clientData, authenticatorData, userHandle);\\n     AssertionResponse response4 = new AuthenticatorAssertion\\n',\n",
       " '@Test(expected = DataConversionException.class) public void shouldThrowDataConversionException() {\\n     JsonConverter<String> jsonConverter = new JsonConverter<>();\\n     jsonConverter.readValue(\"{\\n        \\\\\\\\\"a\\\\\\\\\":{\\n            \\\\\\\\\"b\\\\\\\\\":{\\n                \\\\\\\\\"c\\\\\\\\\":{\\n                    \\\\\\\\\"c\\\\\\\\\":{\\n                        \\\\\\\\\"c\\\\\\\\\":{\\n                            \\\\\\\\\"c\\\\\\\\\":{\\n                                \\\\\\\\\"c\\\\\\\\\":{\\n                                    \\\\\\\\\"c\\\\\\\\\":\\n',\n",
       " '@Test public void testValidate() {\\n     registrationData.setClientExtensions(Collections.singletonList(CoreRegistrationData.class));\\n     registrationData.setClientExtensions(Collections.singletonList(CoreRegistrationData.class));\\n     registrationData.setClientExtensions(Collections.singletonList(CoreRegistrationData.class));\\n     registrationData.setClientExtensions(Collections.singletonList(CoreRegistrationData.class));\\n     BeanAssertUtil.valid\\n',\n",
       " '@Test(expected = DataConversionException.class) public void shouldThrowDataConversionException() {\\n     JsonConverter<String> jsonConverter = new JsonConverter<>();\\n     jsonConverter.readValue(\"{\\n        \\\\\\\\\"a\\\\\\\\\":{\\n            \\\\\\\\\"b\\\\\\\\\":{\\n                \\\\\\\\\"c\\\\\\\\\":{\\n                    \\\\\\\\\"c\\\\\\\\\":{\\n                        \\\\\\\\\"c\\\\\\\\\":{\\n                            \\\\\\\\\"c\\\\\\\\\":{\\n                                \\\\\\\\\"c\\\\\\\\\":{\\n                                    \\\\\\\\\"c\\\\\\\\\":\\n',\n",
       " '@Test public void testSetCertificates() throws IOException {\\n     List<Path> certificates = new ArrayList<Path>();\\n     certificates.add(new Path(\"src/test/resources/trustAnchorsProviderTest/trustAnchorsProviderTest/trustAnchorsProviderTest/trustAnchorsProviderTest/trustAnchorsProviderTest/trustAnchorsProviderTest/trustAnchorsProviderTest/trustAnchorsProviderTest/trustAnchors\\n',\n",
       " '@Test public void testProvide() throws Exception {\\n     AggregatingMetadataStatementsProvider provider = new AggregatingMetadataStatementsProvider(Collections.emptyList());\\n     Map<AAGUID, Set<MetadataStatement>> result = provider.provide();\\n     assertNotNull(result);\\n     assertTrue(result.isEmpty());\\n }\\n',\n",
       " '@Test(expected = IllegalArgumentException.class) public void testInvalidJWS() throws Exception {\\n     JWSFactory<PrivateKey> jWSFactory = new JWSFactory<>(PrivateKey.class);\\n     JWS<PrivateKey> jWS = jWSFactory.create(new JWSFactory<PrivateKey>(PrivateKey.class), PrivateKey.class);\\n }\\n',\n",
       " '@Test public void testGetUnsignedShort() {\\n     assertEquals(0, UnsignedNumberUtil.getUnsignedShort((byte) 0));\\n     assertEquals(0, UnsignedNumberUtil.getUnsignedShort((byte) 0));\\n     assertEquals(0, UnsignedNumberUtil.getUnsignedShort((byte) 0));\\n     assertEquals(0, UnsignedNumberUtil.getUnsignedShort((byte) 0));\\n     assertEquals(0\\n',\n",
       " '@Test public void getRS256() {\\n     Signature signature = SignatureUtil.getRS256();\\n     assertThat(signature, is(notNullValue()));\\n }\\n',\n",
       " '@Test(expected = IllegalArgumentException.class) public void testInvalidHost() {\\n     Origin.create(\"192.168.0.1\");\\n }\\n',\n",
       " '@Test public void testValidate() {\\n     registrationData.setClientExtensions(Collections.singletonList(CoreRegistrationData.class));\\n     registrationData.setClientExtensions(Collections.singletonList(CoreRegistrationData.class));\\n     registrationData.setClientExtensions(Collections.singletonList(CoreRegistrationData.class));\\n     registrationData.setClientExtensions(Collections.singletonList(CoreRegistrationData.class));\\n     BeanAssertUtil.valid\\n',\n",
       " '@Test public void testToBytes() {\\n     assertArrayEquals(new byte[]{\\n        0x00, 0x00, 0x00, 0x00, 0x00, 0x00, 0x00, 0x00, 0x00, 0x00, 0x00, 0x00, 0x00, 0x00, 0x00, 0x00, 0x00, 0x00, 0x00, 0x00, 0x\\n',\n",
       " '@Test public void convertNull() {\\n     assertNull(authenticationExtensionsClientOutputsConverter.convert(null));\\n }\\n',\n",
       " '@Test public void testPublicKeyPair() {\\n     KeyPair keyPair = ECUtil.createKeyPair();\\n     Assert.assertNotNull(keyPair);\\n }\\n',\n",
       " '@Test public void testValidate() {\\n     registrationData.setClientExtensions(Collections.singletonList(CoreRegistrationData.class));\\n     registrationData.setClientExtensions(Collections.singletonList(CoreRegistrationData.class));\\n     registrationData.setClientExtensions(Collections.singletonList(CoreRegistrationData.class));\\n     registrationData.setClientExtensions(Collections.singletonList(CoreRegistrationData.class));\\n     BeanAssertUtil.valid\\n',\n",
       " '@Test @SuppressWarnings(\"unchecked\") public void convertSet_shouldReturnNull() {\\n     Set<String> values = new HashSet<>();\\n     Set<AuthenticatorTransport> result = converter.convertSet(values);\\n     assertNull(result);\\n }\\n',\n",
       " '@Test(expected = UserNotVerifiedException.class) public void test_validateUVUPFlags_whenUserVerificationRequiredIsFalse() {\\n     RegistrationExtensionAuthenticatorData<RegistrationExtensionAuthenticatorOutput> authenticatorData = mock(RegistrationExtensionAuthenticatorData.class);\\n     when(authenticatorData.isUserVerificationRequired()).thenReturn(true);\\n     validator.validateUVUPFlags(authenticatorData, false, true);\\n }\\n',\n",
       " '@Test public void testReadTree() throws IOException {\\n     JsonNode jsonNode = JacksonUtil.readTree(new ObjectMapper(), new byte[0]);\\n     assertNotNull(jsonNode);\\n     assertTrue(jsonNode instanceof JsonNode);\\n     JsonNode expectedTree = jsonNode;\\n     assertEquals(expectedTree, jsonNode);\\n }\\n',\n",
       " '@Test public void testCreateMessageDigest() {\\n     assertEquals(MessageDigestUtil.createMessageDigest(\"SHA-256\"), MessageDigestUtil.createMessageDigest(\"SHA-256\"));\\n     assertEquals(MessageDigestUtil.createMessageDigest(\"SHA-256\"), MessageDigestUtil.createMessageDigest(\"SHA-256\"));\\n     assertEquals(MessageDigestUtil.createMessageDigest(\"SHA-256\"),\\n',\n",
       " '@Test(expected = IllegalArgumentException.class) public void testNotEmpty_null() {\\n     AssertUtil.notEmpty(null, null);\\n }\\n',\n",
       " '@Test(expectedExceptions = ConstraintViolationException.class, expectedExceptionsMessageRegExp = \"attestedCredentialData must be null on authentication\") public void validateAuthenticatorData_shouldThrowConstraintViolationException() throws Exception {\\n     authenticationDataValidator.validateAuthenticatorData(authenticatorData);\\n }\\n',\n",
       " '@Test public void testValidate() {\\n     registrationData.setClientExtensions(Collections.singletonList(CoreRegistrationData.class));\\n     registrationData.setClientExtensions(Collections.singletonList(CoreRegistrationData.class));\\n     registrationData.setClientExtensions(Collections.singletonList(CoreRegistrationData.class));\\n     registrationData.setClientExtensions(Collections.singletonList(CoreRegistrationData.class));\\n     BeanAssertUtil.valid\\n',\n",
       " '@Test @SuppressWarnings(\"unchecked\") public void convertSetToStringSetToStringSet() {\\n     Set<AuthenticatorTransport> values = new HashSet<>();\\n     values.add(new AuthenticatorTransport());\\n     Set<String> result = converter.convertSetToStringSet(values);\\n     assertNotNull(result);\\n     assertEquals(2, result.size());\\n }\\n',\n",
       " '@Test(expected = UserNotVerifiedException.class) public void test_validateUVUPFlags_whenUserVerificationRequiredIsFalse() {\\n     RegistrationExtensionAuthenticatorData<RegistrationExtensionAuthenticatorOutput> authenticatorData = mock(RegistrationExtensionAuthenticatorData.class);\\n     when(authenticatorData.isUserVerificationRequired()).thenReturn(true);\\n     validator.validateUVUPFlags(authenticatorData, false, true);\\n }\\n',\n",
       " '@Test @SuppressWarnings(\"unchecked\") public void convertSetToStringSetToStringSet() {\\n     Set<AuthenticatorTransport> values = new HashSet<>();\\n     values.add(new AuthenticatorTransport());\\n     Set<String> result = converter.convertSetToStringSet(values);\\n     assertNotNull(result);\\n     assertEquals(2, result.size());\\n }\\n',\n",
       " '@Test public void testValidate() {\\n     registrationData.setClientExtensions(Collections.singletonList(CoreRegistrationData.class));\\n     registrationData.setClientExtensions(Collections.singletonList(CoreRegistrationData.class));\\n     registrationData.setClientExtensions(Collections.singletonList(CoreRegistrationData.class));\\n     registrationData.setClientExtensions(Collections.singletonList(CoreRegistrationData.class));\\n     BeanAssertUtil.valid\\n',\n",
       " '@Test public void testValidate() {\\n     registrationData.setClientExtensions(Collections.singletonList(CoreRegistrationData.class));\\n     registrationData.setClientExtensions(Collections.singletonList(CoreRegistrationData.class));\\n     registrationData.setClientExtensions(Collections.singletonList(CoreRegistrationData.class));\\n     registrationData.setClientExtensions(Collections.singletonList(CoreRegistrationData.class));\\n     BeanAssertUtil.valid\\n',\n",
       " '@Test public void testSize() {\\n     X500Name x500Name = new X500Name(\"x500\");\\n     assertEquals(0, x500Name.size());\\n }\\n',\n",
       " '@Test public void testConvertBase64UrlString() {\\n     String base64UrlString = \"http: String base64UrlString = \"http: String base64UrlString = \"http: CollectedClientData result = converter.convert(base64UrlString);\\n     assertNotNull(result);\\n     assertEquals(base64UrlString, result.getBase64UrlString());\\n }\\n',\n",
       " '@Test(expected = IllegalArgumentException.class) public void convertToStringShouldThrowIllegalArgumentException() {\\n     AuthenticatorTransport transport = new AuthenticatorTransport();\\n     AuthenticatorTransportConverter converter = new AuthenticatorTransportConverter();\\n     String result = converter.convertToString(transport);\\n }\\n',\n",
       " '@Test(expected = NullPointerException.class) public void testEncodeToStringNull() {\\n     Base64Util.encodeToString(null);\\n }\\n',\n",
       " '@Test public void testPublicKeyPair() {\\n     KeyPair keyPair = ECUtil.createKeyPair();\\n     Assert.assertNotNull(keyPair);\\n }\\n',\n",
       " '@Test public void testCreatePKIXParameters() throws Exception {\\n     Set<TrustAnchor> trustAnchors = new HashSet<>();\\n     trustAnchors.add(TrustAnchors.create(TrustAnchors.create(TrustAnchors.create(TrustAnchors.create(TrustAnchors.create(TrustAnchors.create(TrustAnchors.create(TrustAnchors.create(TrustAnchors.create\\n',\n",
       " '@Test(expectedExceptions = BadOriginException.class) public void shouldThrowBadOriginExceptionWhenOriginIsInvalid() {\\n     List<CollectedClientData> collectedClientData = new ArrayList<>();\\n     collectedClientData.add(CollectedClientData.builder() .withOrigin(CollectedClientData.builder() .withOrigin(CollectedClientData.builder() .withOrigin(CollectedClientData.builder().withOrigin(CollectedClientData.builder().with\\n',\n",
       " '@Test public void testValidate() {\\n     registrationData.setClientExtensions(Collections.singletonList(CoreRegistrationData.class));\\n     registrationData.setClientExtensions(Collections.singletonList(CoreRegistrationData.class));\\n     registrationData.setClientExtensions(Collections.singletonList(CoreRegistrationData.class));\\n     registrationData.setClientExtensions(Collections.singletonList(CoreRegistrationData.class));\\n     BeanAssertUtil.valid\\n',\n",
       " '@Test public void testGetIdentifier() {\\n     assertEquals(CredentialProtectionExtensionAuthenticatorOutput.ID, output.getIdentifier());\\n }\\n',\n",
       " '@Test(expected = IllegalArgumentException.class) public void testNotNull_throwsIllegalArgumentException() {\\n     AssertUtil.notNull(null, \"message\");\\n }\\n',\n",
       " '@Test public void createNonStrictWebAuthnManager() {\\n     final ObjectConverter objectConverter = mock(ObjectConverter.class);\\n     final ObjectConverter objectConverter = mock(ObjectConverter.class);\\n     final ObjectConverter objectConverter = mock(ObjectConverter.class);\\n     final ObjectConverter objectConverter = mock(ObjectConverter.class);\\n     when(objectConverter.createNonSt\\n',\n",
       " '@Test void validateAuthenticatorDataField_shouldThrowConstraintViolationException() {\\n     expectedException.expect(ConstraintViolationException.class);\\n     expectedException.expectMessage(\"attestedCredentialData must not be null on registration\");\\n     RegistrationData<RegistrationExtensionAuthenticatorOutput> authenticator = mock(RegistrationExtensionAuthenticatorOutput.class);\\n     when(authenticator.getAttestedCredentialData()).thenReturn(attestedCredential\\n',\n",
       " '@Test public void testGetValue() {\\n     expectedException.expect(IllegalArgumentException.class);\\n     expectedException.expectMessage(\"CredentialProtectionExtensionAuthenticatorInput cannot be valid key.\", expectedException.expectMessage(\"CredentialProtectionExtensionAuthenticatorInput cannot be valid key.\", expectedException.class);\\n     expectedException.expectMessage(\"CredentialProtectionExtensionAuthenticatorInput cannot be valid key.\", expectedException.class);\\n     expected\\n',\n",
       " '@Test(expected = IllegalArgumentException.class) public void testNotEmpty_null() {\\n     AssertUtil.notEmpty(null, null);\\n }\\n',\n",
       " '@Test public void testValidate() {\\n     registrationData.setClientExtensions(Collections.singletonList(CoreRegistrationData.class));\\n     registrationData.setClientExtensions(Collections.singletonList(CoreRegistrationData.class));\\n     registrationData.setClientExtensions(Collections.singletonList(CoreRegistrationData.class));\\n     registrationData.setClientExtensions(Collections.singletonList(CoreRegistrationData.class));\\n     BeanAssertUtil.valid\\n',\n",
       " '@Test public void testToBytes() {\\n     assertArrayEquals(new byte[]{\\n        0x00, 0x00, 0x00, 0x00, 0x00, 0x00, 0x00, 0x00, 0x00, 0x00, 0x00, 0x00, 0x00, 0x00, 0x00, 0x00, 0x00, 0x00, 0x00, 0x00, 0x\\n',\n",
       " '@Test(expectedExceptions = BadOriginException.class) public void shouldThrowBadOriginExceptionWhenOriginIsInvalid() {\\n     List<CollectedClientData> collectedClientData = new ArrayList<>();\\n     collectedClientData.add(CollectedClientData.builder() .withOrigin(CollectedClientData.builder() .withOrigin(CollectedClientData.builder() .withOrigin(CollectedClientData.builder().withOrigin(CollectedClientData.builder().with\\n',\n",
       " '@Test public void testReadTree() throws IOException {\\n     JsonNode jsonNode = JacksonUtil.readTree(new ObjectMapper(), new byte[0]);\\n     assertNotNull(jsonNode);\\n     assertTrue(jsonNode instanceof JsonNode);\\n     JsonNode expectedTree = jsonNode;\\n     assertEquals(expectedTree, jsonNode);\\n }\\n',\n",
       " '@Test public void testValidate() {\\n     registrationData.setClientExtensions(Collections.singletonList(CoreRegistrationData.class));\\n     registrationData.setClientExtensions(Collections.singletonList(CoreRegistrationData.class));\\n     registrationData.setClientExtensions(Collections.singletonList(CoreRegistrationData.class));\\n     registrationData.setClientExtensions(Collections.singletonList(CoreRegistrationData.class));\\n     BeanAssertUtil.valid\\n',\n",
       " '@Test(expectedExceptions = BadOriginException.class) public void shouldThrowBadOriginExceptionWhenOriginIsInvalid() {\\n     List<CollectedClientData> collectedClientData = new ArrayList<>();\\n     collectedClientData.add(CollectedClientData.builder() .withOrigin(CollectedClientData.builder() .withOrigin(CollectedClientData.builder() .withOrigin(CollectedClientData.builder().withOrigin(CollectedClientData.builder().with\\n',\n",
       " '@Test public void testConvertBase64UrlString() {\\n     String base64UrlString = \"http: String base64UrlString = \"http: String base64UrlString = \"http: CollectedClientData result = converter.convert(base64UrlString);\\n     assertNotNull(result);\\n     assertEquals(base64UrlString, result.getBase64UrlString());\\n }\\n',\n",
       " '@Test void getCustomRegistrationValidators() {\\n     RegistrationDataValidator registrationDataValidator = new RegistrationDataValidator(Collections.emptyList(), null, null, null, null);\\n     List<CustomRegistrationValidator> customRegistrationValidators = registrationDataValidator.getCustomRegistrationValidators();\\n     assertEquals(1, customRegistrationValidators.size());\\n }\\n',\n",
       " '@Test public void testValidate() {\\n     registrationData.setClientExtensions(Collections.singletonList(CoreRegistrationData.class));\\n     registrationData.setClientExtensions(Collections.singletonList(CoreRegistrationData.class));\\n     registrationData.setClientExtensions(Collections.singletonList(CoreRegistrationData.class));\\n     registrationData.setClientExtensions(Collections.singletonList(CoreRegistrationData.class));\\n     BeanAssertUtil.valid\\n',\n",
       " '@Test public void getId() {\\n     assertEquals(\"id\", new PublicKeyCredentialRpEntity(\"id\", \"icon\"));\\n }\\n',\n",
       " '@Test public void testValidate() {\\n     registrationData.setClientExtensions(Collections.singletonList(CoreRegistrationData.class));\\n     registrationData.setClientExtensions(Collections.singletonList(CoreRegistrationData.class));\\n     registrationData.setClientExtensions(Collections.singletonList(CoreRegistrationData.class));\\n     registrationData.setClientExtensions(Collections.singletonList(CoreRegistrationData.class));\\n     BeanAssertUtil.valid\\n',\n",
       " '@Test public void testValidate() {\\n     registrationData.setClientExtensions(Collections.singletonList(CoreRegistrationData.class));\\n     registrationData.setClientExtensions(Collections.singletonList(CoreRegistrationData.class));\\n     registrationData.setClientExtensions(Collections.singletonList(CoreRegistrationData.class));\\n     registrationData.setClientExtensions(Collections.singletonList(CoreRegistrationData.class));\\n     BeanAssertUtil.valid\\n',\n",
       " '@Test public void testConvert() throws IOException {\\n     AuthenticatorData<AuthenticatorData<AuthenticatorData<AuthenticatorData<AuthenticatorData<AuthenticatorData<AuthenticatorData<AuthenticatorData<AuthenticatorData>> authenticatorDataConverter = new AuthenticatorDataConverter<AuthenticatorData<AuthenticatorData<AuthenticatorData<AuthenticatorData<AuthenticatorData<AuthenticatorData<AuthenticatorData<AuthenticatorData<AuthenticatorData<Authent\\n',\n",
       " '@Test public void testCreate() throws Exception {\\n     SignatureAlgorithm algorithm = SignatureAlgorithm.create(\"jca\");\\n     assertThat(algorithm, is(notNullValue()));\\n     assertThat(algorithm, is(notNullValue()));\\n     assertThat(algorithm, is(notNullValue()));\\n }\\n',\n",
       " '@Test public void testConvert() throws IOException {\\n     AuthenticatorData<AuthenticatorData<AuthenticatorData<AuthenticatorData<AuthenticatorData<AuthenticatorData<AuthenticatorData<AuthenticatorData<AuthenticatorData>> authenticatorDataConverter = new AuthenticatorDataConverter<AuthenticatorData<AuthenticatorData<AuthenticatorData<AuthenticatorData<AuthenticatorData<AuthenticatorData<AuthenticatorData<AuthenticatorData<AuthenticatorData<Authent\\n',\n",
       " '@Test public void testValidate() {\\n     registrationData.setClientExtensions(Collections.singletonList(CoreRegistrationData.class));\\n     registrationData.setClientExtensions(Collections.singletonList(CoreRegistrationData.class));\\n     registrationData.setClientExtensions(Collections.singletonList(CoreRegistrationData.class));\\n     registrationData.setClientExtensions(Collections.singletonList(CoreRegistrationData.class));\\n     BeanAssertUtil.valid\\n',\n",
       " '@Test(expected = UncheckedIOException.class) public void testWriteValueAsBytes_null() {\\n     JsonConverter<String> jsonConverter = new JsonConverter<>();\\n     jsonConverter.writeValueAsBytes(null);\\n }\\n',\n",
       " '@Test public void testValidate() {\\n     authenticator.validate(authenticationExtensionsAuthenticatorOutputs);\\n }\\n',\n",
       " '@Test public void testBinaryValue() throws IOException {\\n     JsonNode jsonNode = mapper.readTree(\"{\\n        \\\\\\\\\"a\\\\\\\\\":\\\\\\\\\"b\\\\\\\\\"}\\n    \");\\n     byte[] value = JacksonUtil.binaryValue(jsonNode);\\n     assertNotNull(value);\\n     assertEquals(\"b\", value);\\n }\\n',\n",
       " '@Test(expected = InvalidFormatException.class) public void deserializeThrowsInvalidFormatException() throws Exception {\\n     when(p.getBinaryValue()).thenThrow(new IllegalArgumentException());\\n     deserializer.deserialize(p, ctxt);\\n }\\n',\n",
       " '@Test public void testExtractAttestedCredentialData() {\\n     AuthenticatorDataConverter authenticatorDataConverter = new AuthenticatorDataConverter(authenticatorDataConverter);\\n     byte[] authenticatorData = authenticatorDataConverter.extractAttestedCredentialData(authenticatorData);\\n     Assert.assertArrayEquals(authenticatorData, authenticatorData);\\n }\\n',\n",
       " '@Test(expectedExceptions = BadOriginException.class) public void shouldThrowBadOriginExceptionWhenOriginIsInvalid() {\\n     List<CollectedClientData> collectedClientData = new ArrayList<>();\\n     collectedClientData.add(CollectedClientData.builder() .withOrigin(CollectedClientData.builder() .withOrigin(CollectedClientData.builder() .withOrigin(CollectedClientData.builder().withOrigin(CollectedClientData.builder().with\\n',\n",
       " '@Test public void testValidate() {\\n     registrationData.setClientExtensions(Collections.singletonList(CoreRegistrationData.class));\\n     registrationData.setClientExtensions(Collections.singletonList(CoreRegistrationData.class));\\n     registrationData.setClientExtensions(Collections.singletonList(CoreRegistrationData.class));\\n     registrationData.setClientExtensions(Collections.singletonList(CoreRegistrationData.class));\\n     BeanAssertUtil.valid\\n',\n",
       " '@Test public void testValidate() {\\n     registrationData.setClientExtensions(Collections.singletonList(CoreRegistrationData.class));\\n     registrationData.setClientExtensions(Collections.singletonList(CoreRegistrationData.class));\\n     registrationData.setClientExtensions(Collections.singletonList(CoreRegistrationData.class));\\n     registrationData.setClientExtensions(Collections.singletonList(CoreRegistrationData.class));\\n     BeanAssertUtil.valid\\n',\n",
       " '@Test public void testValidate() {\\n     registrationData.setClientExtensions(Collections.singletonList(CoreRegistrationData.class));\\n     registrationData.setClientExtensions(Collections.singletonList(CoreRegistrationData.class));\\n     registrationData.setClientExtensions(Collections.singletonList(CoreRegistrationData.class));\\n     registrationData.setClientExtensions(Collections.singletonList(CoreRegistrationData.class));\\n     BeanAssertUtil.valid\\n',\n",
       " '@Test(expected = IllegalArgumentException.class) public void testNotEmpty_null() {\\n     AssertUtil.notEmpty(null, null);\\n }\\n',\n",
       " '@Test void testProvide() {\\n     Map<AAGUID, Set<TrustAnchor>> provider = new MetadataStatementsTrustAnchorsTrustAnchorsProvider(metadataStatement);\\n     Map<AAGUID, Set<TrustAnchor>> result = provider.provide();\\n     assertEquals(1, result.size());\\n     assertEquals(1, result.get(0).getAttestationRootCertificates().size());\\n     assertEquals(1, result\\n',\n",
       " '@Test public void testToBytes() {\\n     assertArrayEquals(new byte[]{\\n        0x00, 0x00, 0x00, 0x00, 0x00, 0x00, 0x00, 0x00, 0x00, 0x00, 0x00, 0x00, 0x00, 0x00, 0x00, 0x00, 0x00, 0x00, 0x00, 0x00, 0x\\n',\n",
       " '@Test public void testGetCredProtect() throws Exception {\\n     Assert.assertNotNull(authenticationExtensionsAuthenticatorInputs.getCredProtect());\\n }\\n',\n",
       " '@Test public void testValidate() {\\n     registrationData.setClientExtensions(Collections.singletonList(CoreRegistrationData.class));\\n     registrationData.setClientExtensions(Collections.singletonList(CoreRegistrationData.class));\\n     registrationData.setClientExtensions(Collections.singletonList(CoreRegistrationData.class));\\n     registrationData.setClientExtensions(Collections.singletonList(CoreRegistrationData.class));\\n     BeanAssertUtil.valid\\n']"
      ]
     },
     "execution_count": 54,
     "metadata": {},
     "output_type": "execute_result"
    }
   ],
   "source": [
    "arr_prettify_generated"
   ]
  },
  {
   "cell_type": "code",
   "execution_count": 58,
   "metadata": {},
   "outputs": [],
   "source": [
    "bart_df = pd.DataFrame()"
   ]
  },
  {
   "cell_type": "code",
   "execution_count": 59,
   "metadata": {},
   "outputs": [],
   "source": [
    "bart_df['ground_truth'] = super_data['test_raw1'].test_raw1.values[:SIZE_SAMPLING]"
   ]
  },
  {
   "cell_type": "code",
   "execution_count": 60,
   "metadata": {},
   "outputs": [],
   "source": [
    "bart_df['input'] = super_data['test_raw0'].test_raw0.values[:SIZE_SAMPLING]"
   ]
  },
  {
   "cell_type": "markdown",
   "metadata": {},
   "source": []
  },
  {
   "cell_type": "code",
   "execution_count": 61,
   "metadata": {},
   "outputs": [],
   "source": [
    "bart_df['outcome_0'] = arr_prettify_generated"
   ]
  },
  {
   "cell_type": "code",
   "execution_count": 62,
   "metadata": {},
   "outputs": [
    {
     "data": {
      "text/html": [
       "<div>\n",
       "<style scoped>\n",
       "    .dataframe tbody tr th:only-of-type {\n",
       "        vertical-align: middle;\n",
       "    }\n",
       "\n",
       "    .dataframe tbody tr th {\n",
       "        vertical-align: top;\n",
       "    }\n",
       "\n",
       "    .dataframe thead th {\n",
       "        text-align: right;\n",
       "    }\n",
       "</style>\n",
       "<table border=\"1\" class=\"dataframe\">\n",
       "  <thead>\n",
       "    <tr style=\"text-align: right;\">\n",
       "      <th></th>\n",
       "      <th>ground_truth</th>\n",
       "      <th>input</th>\n",
       "      <th>outcome_0</th>\n",
       "    </tr>\n",
       "  </thead>\n",
       "  <tbody>\n",
       "    <tr>\n",
       "      <th>0</th>\n",
       "      <td>@Test public void yearStart() { Date date = Da...</td>\n",
       "      <td>DateUtils { public static Date yearStart() { f...</td>\n",
       "      <td>@Test public void testYearStart() throws Excep...</td>\n",
       "    </tr>\n",
       "    <tr>\n",
       "      <th>1</th>\n",
       "      <td>@Test public void yearEnd() { Date date = Date...</td>\n",
       "      <td>DateUtils { public static Date yearEnd() { fin...</td>\n",
       "      <td>@Test public void testYearEnd() {\\n     Date d...</td>\n",
       "    </tr>\n",
       "    <tr>\n",
       "      <th>2</th>\n",
       "      <td>@Test void validate_invalid_bindingId_test() {...</td>\n",
       "      <td>TokenBindingValidator { public void validate(T...</td>\n",
       "      <td>@Test public void validate_nullClientDataToken...</td>\n",
       "    </tr>\n",
       "    <tr>\n",
       "      <th>3</th>\n",
       "      <td>@Test void getUnsignedShort_test1() { byte[] b...</td>\n",
       "      <td>UnsignedNumberUtil { public static int getUnsi...</td>\n",
       "      <td>@Test public void testGetUnsignedShort() {\\n  ...</td>\n",
       "    </tr>\n",
       "    <tr>\n",
       "      <th>4</th>\n",
       "      <td>@Test void isWithinUnsignedLong_test() { asser...</td>\n",
       "      <td>UnsignedNumberUtil { public static boolean isW...</td>\n",
       "      <td>@Test public void testIsWithinUnsignedLong() {...</td>\n",
       "    </tr>\n",
       "    <tr>\n",
       "      <th>...</th>\n",
       "      <td>...</td>\n",
       "      <td>...</td>\n",
       "      <td>...</td>\n",
       "    </tr>\n",
       "    <tr>\n",
       "      <th>95</th>\n",
       "      <td>@Test void notEmpty_test_with_array() { Assert...</td>\n",
       "      <td>AssertUtil { public static void notEmpty(Objec...</td>\n",
       "      <td>@Test(expected = IllegalArgumentException.clas...</td>\n",
       "    </tr>\n",
       "    <tr>\n",
       "      <th>96</th>\n",
       "      <td>@Test void provide_test() { MetadataStatements...</td>\n",
       "      <td>MetadataStatementsTrustAnchorsProvider impleme...</td>\n",
       "      <td>@Test void testProvide() {\\n     Map&lt;AAGUID, S...</td>\n",
       "    </tr>\n",
       "    <tr>\n",
       "      <th>97</th>\n",
       "      <td>@Test void toBytes_BigInteger_uint_max_test() ...</td>\n",
       "      <td>UnsignedNumberUtil { public static byte[] toBy...</td>\n",
       "      <td>@Test public void testToBytes() {\\n     assert...</td>\n",
       "    </tr>\n",
       "    <tr>\n",
       "      <th>98</th>\n",
       "      <td>@Test void deserialize_registration_test(){ Au...</td>\n",
       "      <td>AuthenticationExtensionsAuthenticatorInputs im...</td>\n",
       "      <td>@Test public void testGetCredProtect() throws ...</td>\n",
       "    </tr>\n",
       "    <tr>\n",
       "      <th>99</th>\n",
       "      <td>@Test void validate_attestationObject_test() {...</td>\n",
       "      <td>BeanAssertUtil { public static void validate(R...</td>\n",
       "      <td>@Test public void testValidate() {\\n     regis...</td>\n",
       "    </tr>\n",
       "  </tbody>\n",
       "</table>\n",
       "<p>100 rows × 3 columns</p>\n",
       "</div>"
      ],
      "text/plain": [
       "                                         ground_truth  \\\n",
       "0   @Test public void yearStart() { Date date = Da...   \n",
       "1   @Test public void yearEnd() { Date date = Date...   \n",
       "2   @Test void validate_invalid_bindingId_test() {...   \n",
       "3   @Test void getUnsignedShort_test1() { byte[] b...   \n",
       "4   @Test void isWithinUnsignedLong_test() { asser...   \n",
       "..                                                ...   \n",
       "95  @Test void notEmpty_test_with_array() { Assert...   \n",
       "96  @Test void provide_test() { MetadataStatements...   \n",
       "97  @Test void toBytes_BigInteger_uint_max_test() ...   \n",
       "98  @Test void deserialize_registration_test(){ Au...   \n",
       "99  @Test void validate_attestationObject_test() {...   \n",
       "\n",
       "                                                input  \\\n",
       "0   DateUtils { public static Date yearStart() { f...   \n",
       "1   DateUtils { public static Date yearEnd() { fin...   \n",
       "2   TokenBindingValidator { public void validate(T...   \n",
       "3   UnsignedNumberUtil { public static int getUnsi...   \n",
       "4   UnsignedNumberUtil { public static boolean isW...   \n",
       "..                                                ...   \n",
       "95  AssertUtil { public static void notEmpty(Objec...   \n",
       "96  MetadataStatementsTrustAnchorsProvider impleme...   \n",
       "97  UnsignedNumberUtil { public static byte[] toBy...   \n",
       "98  AuthenticationExtensionsAuthenticatorInputs im...   \n",
       "99  BeanAssertUtil { public static void validate(R...   \n",
       "\n",
       "                                            outcome_0  \n",
       "0   @Test public void testYearStart() throws Excep...  \n",
       "1   @Test public void testYearEnd() {\\n     Date d...  \n",
       "2   @Test public void validate_nullClientDataToken...  \n",
       "3   @Test public void testGetUnsignedShort() {\\n  ...  \n",
       "4   @Test public void testIsWithinUnsignedLong() {...  \n",
       "..                                                ...  \n",
       "95  @Test(expected = IllegalArgumentException.clas...  \n",
       "96  @Test void testProvide() {\\n     Map<AAGUID, S...  \n",
       "97  @Test public void testToBytes() {\\n     assert...  \n",
       "98  @Test public void testGetCredProtect() throws ...  \n",
       "99  @Test public void testValidate() {\\n     regis...  \n",
       "\n",
       "[100 rows x 3 columns]"
      ]
     },
     "execution_count": 62,
     "metadata": {},
     "output_type": "execute_result"
    }
   ],
   "source": [
    "bart_df"
   ]
  },
  {
   "cell_type": "markdown",
   "metadata": {},
   "source": [
    "## Levenshtein evaluation"
   ]
  },
  {
   "cell_type": "code",
   "execution_count": 63,
   "metadata": {},
   "outputs": [],
   "source": [
    "import textdistance"
   ]
  },
  {
   "cell_type": "code",
   "execution_count": 64,
   "metadata": {},
   "outputs": [],
   "source": [
    "levenshtein_similarity = textdistance.levenshtein\n"
   ]
  },
  {
   "cell_type": "code",
   "execution_count": 69,
   "metadata": {},
   "outputs": [],
   "source": [
    "bart_df['lev_calc'] = [levenshtein_similarity.normalized_similarity(x[\"ground_truth\"].strip(), x[\"outcome_0\"].strip() ) for i,x in bart_df.iterrows()]"
   ]
  },
  {
   "cell_type": "code",
   "execution_count": 70,
   "metadata": {},
   "outputs": [
    {
     "data": {
      "text/html": [
       "<div>\n",
       "<style scoped>\n",
       "    .dataframe tbody tr th:only-of-type {\n",
       "        vertical-align: middle;\n",
       "    }\n",
       "\n",
       "    .dataframe tbody tr th {\n",
       "        vertical-align: top;\n",
       "    }\n",
       "\n",
       "    .dataframe thead th {\n",
       "        text-align: right;\n",
       "    }\n",
       "</style>\n",
       "<table border=\"1\" class=\"dataframe\">\n",
       "  <thead>\n",
       "    <tr style=\"text-align: right;\">\n",
       "      <th></th>\n",
       "      <th>ground_truth</th>\n",
       "      <th>input</th>\n",
       "      <th>outcome_0</th>\n",
       "      <th>lev_calc</th>\n",
       "    </tr>\n",
       "  </thead>\n",
       "  <tbody>\n",
       "    <tr>\n",
       "      <th>0</th>\n",
       "      <td>@Test public void yearStart() { Date date = Da...</td>\n",
       "      <td>DateUtils { public static Date yearStart() { f...</td>\n",
       "      <td>@Test public void testYearStart() throws Excep...</td>\n",
       "      <td>0.47</td>\n",
       "    </tr>\n",
       "    <tr>\n",
       "      <th>1</th>\n",
       "      <td>@Test public void yearEnd() { Date date = Date...</td>\n",
       "      <td>DateUtils { public static Date yearEnd() { fin...</td>\n",
       "      <td>@Test public void testYearEnd() {\\n     Date d...</td>\n",
       "      <td>0.40</td>\n",
       "    </tr>\n",
       "    <tr>\n",
       "      <th>2</th>\n",
       "      <td>@Test void validate_invalid_bindingId_test() {...</td>\n",
       "      <td>TokenBindingValidator { public void validate(T...</td>\n",
       "      <td>@Test public void validate_nullClientDataToken...</td>\n",
       "      <td>0.21</td>\n",
       "    </tr>\n",
       "    <tr>\n",
       "      <th>3</th>\n",
       "      <td>@Test void getUnsignedShort_test1() { byte[] b...</td>\n",
       "      <td>UnsignedNumberUtil { public static int getUnsi...</td>\n",
       "      <td>@Test public void testGetUnsignedShort() {\\n  ...</td>\n",
       "      <td>0.34</td>\n",
       "    </tr>\n",
       "    <tr>\n",
       "      <th>4</th>\n",
       "      <td>@Test void isWithinUnsignedLong_test() { asser...</td>\n",
       "      <td>UnsignedNumberUtil { public static boolean isW...</td>\n",
       "      <td>@Test public void testIsWithinUnsignedLong() {...</td>\n",
       "      <td>0.60</td>\n",
       "    </tr>\n",
       "    <tr>\n",
       "      <th>...</th>\n",
       "      <td>...</td>\n",
       "      <td>...</td>\n",
       "      <td>...</td>\n",
       "      <td>...</td>\n",
       "    </tr>\n",
       "    <tr>\n",
       "      <th>95</th>\n",
       "      <td>@Test void notEmpty_test_with_array() { Assert...</td>\n",
       "      <td>AssertUtil { public static void notEmpty(Objec...</td>\n",
       "      <td>@Test(expected = IllegalArgumentException.clas...</td>\n",
       "      <td>0.22</td>\n",
       "    </tr>\n",
       "    <tr>\n",
       "      <th>96</th>\n",
       "      <td>@Test void provide_test() { MetadataStatements...</td>\n",
       "      <td>MetadataStatementsTrustAnchorsProvider impleme...</td>\n",
       "      <td>@Test void testProvide() {\\n     Map&lt;AAGUID, S...</td>\n",
       "      <td>0.29</td>\n",
       "    </tr>\n",
       "    <tr>\n",
       "      <th>97</th>\n",
       "      <td>@Test void toBytes_BigInteger_uint_max_test() ...</td>\n",
       "      <td>UnsignedNumberUtil { public static byte[] toBy...</td>\n",
       "      <td>@Test public void testToBytes() {\\n     assert...</td>\n",
       "      <td>0.28</td>\n",
       "    </tr>\n",
       "    <tr>\n",
       "      <th>98</th>\n",
       "      <td>@Test void deserialize_registration_test(){ Au...</td>\n",
       "      <td>AuthenticationExtensionsAuthenticatorInputs im...</td>\n",
       "      <td>@Test public void testGetCredProtect() throws ...</td>\n",
       "      <td>0.24</td>\n",
       "    </tr>\n",
       "    <tr>\n",
       "      <th>99</th>\n",
       "      <td>@Test void validate_attestationObject_test() {...</td>\n",
       "      <td>BeanAssertUtil { public static void validate(R...</td>\n",
       "      <td>@Test public void testValidate() {\\n     regis...</td>\n",
       "      <td>0.29</td>\n",
       "    </tr>\n",
       "  </tbody>\n",
       "</table>\n",
       "<p>100 rows × 4 columns</p>\n",
       "</div>"
      ],
      "text/plain": [
       "                                         ground_truth  \\\n",
       "0   @Test public void yearStart() { Date date = Da...   \n",
       "1   @Test public void yearEnd() { Date date = Date...   \n",
       "2   @Test void validate_invalid_bindingId_test() {...   \n",
       "3   @Test void getUnsignedShort_test1() { byte[] b...   \n",
       "4   @Test void isWithinUnsignedLong_test() { asser...   \n",
       "..                                                ...   \n",
       "95  @Test void notEmpty_test_with_array() { Assert...   \n",
       "96  @Test void provide_test() { MetadataStatements...   \n",
       "97  @Test void toBytes_BigInteger_uint_max_test() ...   \n",
       "98  @Test void deserialize_registration_test(){ Au...   \n",
       "99  @Test void validate_attestationObject_test() {...   \n",
       "\n",
       "                                                input  \\\n",
       "0   DateUtils { public static Date yearStart() { f...   \n",
       "1   DateUtils { public static Date yearEnd() { fin...   \n",
       "2   TokenBindingValidator { public void validate(T...   \n",
       "3   UnsignedNumberUtil { public static int getUnsi...   \n",
       "4   UnsignedNumberUtil { public static boolean isW...   \n",
       "..                                                ...   \n",
       "95  AssertUtil { public static void notEmpty(Objec...   \n",
       "96  MetadataStatementsTrustAnchorsProvider impleme...   \n",
       "97  UnsignedNumberUtil { public static byte[] toBy...   \n",
       "98  AuthenticationExtensionsAuthenticatorInputs im...   \n",
       "99  BeanAssertUtil { public static void validate(R...   \n",
       "\n",
       "                                            outcome_0  lev_calc  \n",
       "0   @Test public void testYearStart() throws Excep...      0.47  \n",
       "1   @Test public void testYearEnd() {\\n     Date d...      0.40  \n",
       "2   @Test public void validate_nullClientDataToken...      0.21  \n",
       "3   @Test public void testGetUnsignedShort() {\\n  ...      0.34  \n",
       "4   @Test public void testIsWithinUnsignedLong() {...      0.60  \n",
       "..                                                ...       ...  \n",
       "95  @Test(expected = IllegalArgumentException.clas...      0.22  \n",
       "96  @Test void testProvide() {\\n     Map<AAGUID, S...      0.29  \n",
       "97  @Test public void testToBytes() {\\n     assert...      0.28  \n",
       "98  @Test public void testGetCredProtect() throws ...      0.24  \n",
       "99  @Test public void testValidate() {\\n     regis...      0.29  \n",
       "\n",
       "[100 rows x 4 columns]"
      ]
     },
     "execution_count": 70,
     "metadata": {},
     "output_type": "execute_result"
    }
   ],
   "source": [
    "bart_df"
   ]
  },
  {
   "cell_type": "code",
   "execution_count": 73,
   "metadata": {},
   "outputs": [
    {
     "data": {
      "text/plain": [
       "count   100.00\n",
       "mean      0.29\n",
       "std       0.09\n",
       "min       0.00\n",
       "25%       0.24\n",
       "50%       0.28\n",
       "75%       0.32\n",
       "max       0.60\n",
       "Name: lev_calc, dtype: float64"
      ]
     },
     "execution_count": 73,
     "metadata": {},
     "output_type": "execute_result"
    }
   ],
   "source": [
    "bart_df['lev_calc'].describe()"
   ]
  },
  {
   "cell_type": "code",
   "execution_count": null,
   "metadata": {},
   "outputs": [],
   "source": [
    "def compute_levenshtein_for_samples(tokenizer, df, samples= 30):\n",
    "    outcomes_df = pd.DataFrame()\n",
    "    outcomes_df['ground_truth'] = df['ground_truth'].apply(lambda x: x.strip())\n",
    "    for i in range(0,samples):\n",
    "        with torch.no_grad():\n",
    "            outcomes = tokenizer.batch_decode(df[str(i)].to_list(), skip_special_tokens=True)\n",
    "            outcomes_df['outcome_'+str(i)] = outcomes\n",
    "            col_name = 'lev_'+str(i)\n",
    "            outcomes_df[col_name] = [levenshtein_similarity.normalized_similarity(x.strip(), outcomes_df['ground_truth'][step]) for step,x in enumerate(outcomes)]\n",
    "       \n",
    "    return outcomes_df"
   ]
  },
  {
   "cell_type": "markdown",
   "metadata": {},
   "source": [
    "## Bootstrapping"
   ]
  },
  {
   "cell_type": "code",
   "execution_count": 77,
   "metadata": {},
   "outputs": [],
   "source": [
    "n_bootstraps = 30"
   ]
  },
  {
   "cell_type": "code",
   "execution_count": 78,
   "metadata": {},
   "outputs": [],
   "source": [
    "\n",
    "#| export\n",
    "import numpy as np\n",
    "from statistics import NormalDist"
   ]
  },
  {
   "cell_type": "code",
   "execution_count": null,
   "metadata": {},
   "outputs": [],
   "source": [
    "#| export\n",
    "def bootstrapping( np_data, np_func, size, flag_clean_nan = False ):\n",
    "    \"\"\"\n",
    "    @size: number of bootstrapping samples\n",
    "    @np_funct: numpy function for reducing the samples (e.g., median, mean, max)\n",
    "    @flag_clean_nan: flag to eliminate Nan values in the np tensor\n",
    "    \"\"\"\n",
    "    #Cleaning NaNs\n",
    "    if flag_clean_nan:\n",
    "        np_data = np_data[ np.logical_not( np.isnan(np_data) ) ] \n",
    "    \n",
    "    #Creating the boostrap replicates as long as the original data size\n",
    "    #This strategy might work as imputation \n",
    "    bootstrap_repl = [ np_func( np.random.choice( np_data, size=len(np_data) ) ) for i in range( size ) ]\n",
    "    \n",
    "    logging.info(\"Empirical Estimate: \" + str(np_func( np_data )) ) #Empirical Mean,Median,Max, etc\n",
    "    logging.info(\"Bootstrapped Estimate: \" + str( np_func( bootstrap_repl ) ) ) #Bootstrapped Mean,Median,Max, etc\n",
    "    \n",
    "    return np.array( bootstrap_repl )"
   ]
  }
 ],
 "metadata": {
  "kernelspec": {
   "display_name": "Python 3",
   "language": "python",
   "name": "python3"
  },
  "language_info": {
   "codemirror_mode": {
    "name": "ipython",
    "version": 3
   },
   "file_extension": ".py",
   "mimetype": "text/x-python",
   "name": "python",
   "nbconvert_exporter": "python",
   "pygments_lexer": "ipython3",
   "version": "3.8.10"
  },
  "orig_nbformat": 4
 },
 "nbformat": 4,
 "nbformat_minor": 2
}
