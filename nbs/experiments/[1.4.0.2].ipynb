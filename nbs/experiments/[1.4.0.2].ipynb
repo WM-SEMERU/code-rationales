{
 "cells": [
  {
   "cell_type": "markdown",
   "metadata": {},
   "source": [
    "# Experiment [1.4.0.2] - Proportionality of NL and SC"
   ]
  },
  {
   "cell_type": "code",
   "execution_count": 1,
   "metadata": {},
   "outputs": [],
   "source": [
    "def param_default():\n",
    "    return {\n",
    "        'datasets' : {\n",
    "            'SG_BD' : 'code_completion_random_cut_5k_30_512_tokens', \n",
    "            'DC_SG_BD' : 'code_completion_docstring_random_cut_3.8k_30_150_tokens', \n",
    "            'DC_SG' : 'code_completion_docstring_signature_3.8k_30_150_tokens', \n",
    "            'DC': 'code_completion_docstring_5k_30_150_tokens'\n",
    "        },\n",
    "        'rational_results': '/workspaces/code-rationales/data/rationales/gpt',\n",
    "        'sampling_results': '/workspaces/code-rationales/data/sampling/gpt',\n",
    "        'tagged_rationales': '/workspaces/code-rationales/data/tagged_rationales/pure_code',\n",
    "        'global_ast_results': '/workspaces/code-rationales/data/global_ast_results/gpt/pure_code',\n",
    "        'distributions_results' : '/workspaces/code-rationales/data/rationales_distribution_results/gpt/pure_code',\n",
    "        'num_experiments': 30,\n",
    "        'num_samples': 100,\n",
    "    }\n",
    "    \n",
    "params = param_default()"
   ]
  },
  {
   "cell_type": "markdown",
   "metadata": {},
   "source": [
    "## Source Code"
   ]
  },
  {
   "cell_type": "code",
   "execution_count": 2,
   "metadata": {},
   "outputs": [],
   "source": [
    "from pathlib import Path\n",
    "import csv\n",
    "import seaborn as sns; sns.set_theme()\n",
    "import matplotlib.pyplot as plt\n",
    "import pandas as pd\n",
    "import numpy as np\n",
    "import functools\n",
    "import json\n",
    "import os.path\n",
    "from sklearn.preprocessing import StandardScaler\n",
    "\n",
    "pd.options.display.float_format = '{:.2f}'.format"
   ]
  },
  {
   "cell_type": "code",
   "execution_count": 3,
   "metadata": {},
   "outputs": [],
   "source": [
    "### Retrieve experiments\n",
    "def retrieve_df_tagged_rationales(dataset_name):\n",
    "    get_experiment_path =  lambda exp: params['tagged_rationales'] + '/' + dataset_name +'_exp_' + str(exp) +'.csv'\n",
    "    experiment_paths = [get_experiment_path(exp) for exp in range(params['num_experiments'])]\n",
    "    df_tagged_exp_rationales = []\n",
    "    for experiment_path in experiment_paths:\n",
    "        df_tagged_exp_rationales.append(pd.read_csv(experiment_path, index_col=0))\n",
    "    return df_tagged_exp_rationales"
   ]
  },
  {
   "cell_type": "code",
   "execution_count": 4,
   "metadata": {},
   "outputs": [],
   "source": [
    "### token types by sample\n",
    "def get_sample_types_distribution(df_tagged_tokens):\n",
    "    nl_tokens_count = 0 \n",
    "    sc_tokens_count = 0\n",
    "    for token_tags in df_tagged_tokens['tags']:\n",
    "        nl_tokens_count += sum(1 for tag in eval(token_tags) if tag[0] == 'nl')\n",
    "        sc_tokens_count+= sum(1 for tag in eval(token_tags) if tag[0] == 'sc')\n",
    "    return nl_tokens_count, sc_tokens_count"
   ]
  },
  {
   "cell_type": "code",
   "execution_count": 5,
   "metadata": {},
   "outputs": [],
   "source": [
    "## token type distributions by experiment\n",
    "def get_experiment_token_type_counts(df_exp, df_sampled_inputs):\n",
    "    exp_prompt_nl_tokens_count = []\n",
    "    exp_prompt_sc_tokens_count = []\n",
    "    exp_generated_nl_tokens_count = []\n",
    "    exp_generated_sc_tokens_count = []\n",
    "    for sample_id in range(0, params['num_samples']):\n",
    "        df_prompt_rationales = df_exp.loc[df_exp['from_seq_id']==sample_id].head(len(eval(df_sampled_inputs['input_ids'][sample_id])))\n",
    "        df_generated_rationales = df_exp.loc[df_exp['from_seq_id']==sample_id].iloc[len(eval(df_sampled_inputs['input_ids'][sample_id])):]\n",
    "        prompt_nl_tokens_count, prompt_sc_tokens_count = get_sample_types_distribution(df_prompt_rationales)\n",
    "        generated_nl_tokens_count, generated_sc_tokens_count = get_sample_types_distribution(df_generated_rationales)\n",
    "        exp_prompt_nl_tokens_count.append(prompt_nl_tokens_count)\n",
    "        exp_prompt_sc_tokens_count.append(prompt_sc_tokens_count)\n",
    "        exp_generated_nl_tokens_count.append(generated_nl_tokens_count)\n",
    "        exp_generated_sc_tokens_count.append(generated_sc_tokens_count)\n",
    "    return np.median(exp_prompt_nl_tokens_count), np.median(exp_prompt_sc_tokens_count), np.median(exp_generated_nl_tokens_count), np.median(exp_generated_sc_tokens_count)"
   ]
  },
  {
   "cell_type": "code",
   "execution_count": 6,
   "metadata": {},
   "outputs": [],
   "source": [
    "def get_token_type_counts(df_exp_tagged_rationales, df_sampled_inputs):\n",
    "    prompt_nl_tokens_count = []\n",
    "    prompt_sc_tokens_count = []\n",
    "    generated_nl_tokens_count = []\n",
    "    generated_sc_tokens_count = []\n",
    "    for experiment in df_exp_tagged_rationales:\n",
    "        exp_prompt_nl_tokens, exp_prompt_sc_tokens, exp_generated_nl_tokens, exp_generated_sc_tokens = get_experiment_token_type_counts(experiment, df_sampled_inputs)\n",
    "        prompt_nl_tokens_count.append(exp_prompt_nl_tokens), prompt_sc_tokens_count.append(exp_prompt_sc_tokens), generated_nl_tokens_count.append(exp_generated_nl_tokens), generated_sc_tokens_count.append(exp_generated_sc_tokens)\n",
    "    return np.median(prompt_nl_tokens_count), np.median(prompt_sc_tokens_count), np.median(generated_nl_tokens_count), np.median(generated_sc_tokens_count)"
   ]
  },
  {
   "cell_type": "code",
   "execution_count": null,
   "metadata": {},
   "outputs": [],
   "source": [
    "df_token_types = pd.DataFrame(columns=['dataset', 'token_type', 'count'])\n",
    "for dataset_id, dataset in params['datasets'].items():\n",
    "    df_sampled_inputs = pd.read_csv( param_default()['sampling_results'] + '/' + dataset +'.csv', index_col=0)\n",
    "    df_exp_tagged_rationales = retrieve_df_tagged_rationales(dataset)\n",
    "    prompt_nl_tokens_count, prompt_sc_tokens_count, generated_nl_tokens_count, generated_sc_tokens_count = get_token_type_counts(df_exp_tagged_rationales, df_sampled_inputs)\n",
    "    df_token_types = df_token_types.append({'dataset': dataset_id, 'token_type': 'PMT_NL', 'count': prompt_nl_tokens_count}, ignore_index=True)\n",
    "    df_token_types = df_token_types.append({'dataset': dataset_id, 'token_type': 'PMT_SC', 'count': prompt_sc_tokens_count}, ignore_index=True)\n",
    "    df_token_types = df_token_types.append({'dataset': dataset_id, 'token_type': 'GEN_NL', 'count': generated_nl_tokens_count}, ignore_index=True)\n",
    "    df_token_types = df_token_types.append({'dataset': dataset_id, 'token_type': 'GEN_SC', 'count': generated_sc_tokens_count}, ignore_index=True)"
   ]
  },
  {
   "cell_type": "markdown",
   "metadata": {},
   "source": [
    "## Frequencies"
   ]
  },
  {
   "cell_type": "code",
   "execution_count": 8,
   "metadata": {},
   "outputs": [
    {
     "data": {
      "text/html": [
       "<div>\n",
       "<style scoped>\n",
       "    .dataframe tbody tr th:only-of-type {\n",
       "        vertical-align: middle;\n",
       "    }\n",
       "\n",
       "    .dataframe tbody tr th {\n",
       "        vertical-align: top;\n",
       "    }\n",
       "\n",
       "    .dataframe thead th {\n",
       "        text-align: right;\n",
       "    }\n",
       "</style>\n",
       "<table border=\"1\" class=\"dataframe\">\n",
       "  <thead>\n",
       "    <tr style=\"text-align: right;\">\n",
       "      <th></th>\n",
       "      <th>dataset</th>\n",
       "      <th>token_type</th>\n",
       "      <th>count</th>\n",
       "    </tr>\n",
       "  </thead>\n",
       "  <tbody>\n",
       "    <tr>\n",
       "      <th>0</th>\n",
       "      <td>SG_BD</td>\n",
       "      <td>PMT_NL</td>\n",
       "      <td>9.50</td>\n",
       "    </tr>\n",
       "    <tr>\n",
       "      <th>1</th>\n",
       "      <td>SG_BD</td>\n",
       "      <td>PMT_SC</td>\n",
       "      <td>92.50</td>\n",
       "    </tr>\n",
       "    <tr>\n",
       "      <th>2</th>\n",
       "      <td>SG_BD</td>\n",
       "      <td>GEN_NL</td>\n",
       "      <td>12.00</td>\n",
       "    </tr>\n",
       "    <tr>\n",
       "      <th>3</th>\n",
       "      <td>SG_BD</td>\n",
       "      <td>GEN_SC</td>\n",
       "      <td>125.25</td>\n",
       "    </tr>\n",
       "    <tr>\n",
       "      <th>4</th>\n",
       "      <td>DC_SG_BD</td>\n",
       "      <td>PMT_NL</td>\n",
       "      <td>40.00</td>\n",
       "    </tr>\n",
       "    <tr>\n",
       "      <th>5</th>\n",
       "      <td>DC_SG_BD</td>\n",
       "      <td>PMT_SC</td>\n",
       "      <td>356.75</td>\n",
       "    </tr>\n",
       "    <tr>\n",
       "      <th>6</th>\n",
       "      <td>DC_SG_BD</td>\n",
       "      <td>GEN_NL</td>\n",
       "      <td>42.00</td>\n",
       "    </tr>\n",
       "    <tr>\n",
       "      <th>7</th>\n",
       "      <td>DC_SG_BD</td>\n",
       "      <td>GEN_SC</td>\n",
       "      <td>460.25</td>\n",
       "    </tr>\n",
       "    <tr>\n",
       "      <th>8</th>\n",
       "      <td>DC_SG</td>\n",
       "      <td>PMT_NL</td>\n",
       "      <td>28.00</td>\n",
       "    </tr>\n",
       "    <tr>\n",
       "      <th>9</th>\n",
       "      <td>DC_SG</td>\n",
       "      <td>PMT_SC</td>\n",
       "      <td>216.75</td>\n",
       "    </tr>\n",
       "    <tr>\n",
       "      <th>10</th>\n",
       "      <td>DC_SG</td>\n",
       "      <td>GEN_NL</td>\n",
       "      <td>57.75</td>\n",
       "    </tr>\n",
       "    <tr>\n",
       "      <th>11</th>\n",
       "      <td>DC_SG</td>\n",
       "      <td>GEN_SC</td>\n",
       "      <td>559.50</td>\n",
       "    </tr>\n",
       "    <tr>\n",
       "      <th>12</th>\n",
       "      <td>DC</td>\n",
       "      <td>PMT_NL</td>\n",
       "      <td>19.00</td>\n",
       "    </tr>\n",
       "    <tr>\n",
       "      <th>13</th>\n",
       "      <td>DC</td>\n",
       "      <td>PMT_SC</td>\n",
       "      <td>125.25</td>\n",
       "    </tr>\n",
       "    <tr>\n",
       "      <th>14</th>\n",
       "      <td>DC</td>\n",
       "      <td>GEN_NL</td>\n",
       "      <td>77.00</td>\n",
       "    </tr>\n",
       "    <tr>\n",
       "      <th>15</th>\n",
       "      <td>DC</td>\n",
       "      <td>GEN_SC</td>\n",
       "      <td>700.75</td>\n",
       "    </tr>\n",
       "  </tbody>\n",
       "</table>\n",
       "</div>"
      ],
      "text/plain": [
       "     dataset token_type  count\n",
       "0      SG_BD     PMT_NL   9.50\n",
       "1      SG_BD     PMT_SC  92.50\n",
       "2      SG_BD     GEN_NL  12.00\n",
       "3      SG_BD     GEN_SC 125.25\n",
       "4   DC_SG_BD     PMT_NL  40.00\n",
       "5   DC_SG_BD     PMT_SC 356.75\n",
       "6   DC_SG_BD     GEN_NL  42.00\n",
       "7   DC_SG_BD     GEN_SC 460.25\n",
       "8      DC_SG     PMT_NL  28.00\n",
       "9      DC_SG     PMT_SC 216.75\n",
       "10     DC_SG     GEN_NL  57.75\n",
       "11     DC_SG     GEN_SC 559.50\n",
       "12        DC     PMT_NL  19.00\n",
       "13        DC     PMT_SC 125.25\n",
       "14        DC     GEN_NL  77.00\n",
       "15        DC     GEN_SC 700.75"
      ]
     },
     "execution_count": 8,
     "metadata": {},
     "output_type": "execute_result"
    }
   ],
   "source": [
    "df_token_types"
   ]
  },
  {
   "cell_type": "code",
   "execution_count": 9,
   "metadata": {},
   "outputs": [
    {
     "data": {
      "image/png": "[encoded data removed]",
      "text/plain": [
       "<Figure size 636.5x500 with 1 Axes>"
      ]
     },
     "metadata": {},
     "output_type": "display_data"
    }
   ],
   "source": [
    "g = sns.catplot(x='token_type', y='count', hue='dataset', data=df_token_types, kind='bar', height=5, aspect=1)"
   ]
  }
 ],
 "metadata": {
  "kernelspec": {
   "display_name": "Python 3",
   "language": "python",
   "name": "python3"
  },
  "language_info": {
   "codemirror_mode": {
    "name": "ipython",
    "version": 3
   },
   "file_extension": ".py",
   "mimetype": "text/x-python",
   "name": "python",
   "nbconvert_exporter": "python",
   "pygments_lexer": "ipython3",
   "version": "3.8.10"
  }
 },
 "nbformat": 4,
 "nbformat_minor": 2
}
