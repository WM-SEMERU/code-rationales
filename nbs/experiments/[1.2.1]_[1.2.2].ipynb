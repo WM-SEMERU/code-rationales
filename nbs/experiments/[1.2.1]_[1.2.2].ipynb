{
 "cells": [
  {
   "cell_type": "markdown",
   "metadata": {},
   "source": [
    "# Exploratory Data Analysis - Distribution of Semantic and Non Semantic top rationales\n",
    "> Prototyping B: Code Completion\n",
    "\n",
    "This notebook presents boxplots for each identified concept, highlighting both the least and most frequent occurrences. These concepts are grouped into semantically meaningful and non-meaningful categories (level_2). \n",
    "\n",
    "*Notebook Structure*\n",
    "- Notebook parameters\n",
    "- Source Code\n",
    "    - Imports\n",
    "    - Frequency Dataframes\n",
    "    - Data Loading\n",
    "    - Statistics\n",
    "    - Calculate statistics and frequencies\n",
    "- Experiment [1.2.1]\n",
    "- Experiment [1.2.2]\n",
    "\n",
    "*General Instructions*\n",
    "* Collapse cells by tittle to improve the navigation\n",
    "* Before running the experiments, it is required to have global_taxonomy_results for each dataset. global_taxonomy_results contains a the aggregations of rationales by level_1 taxonomomy. \n",
    "* Read description on each experiment for further instructions"
   ]
  },
  {
   "cell_type": "code",
   "execution_count": 13,
   "metadata": {},
   "outputs": [],
   "source": [
    "def param_default():\n",
    "    return {\n",
    "        'model': 'codeparrot',\n",
    "        'modality' : 'sc',\n",
    "        'datasets' : {\n",
    "            'SG_BD' : 'code_completion_random_cut_5k_30_512_tokens', \n",
    "            'DC_SG_BD' : 'code_completion_docstring_random_cut_3.8k_30_150_tokens', \n",
    "            'DC_SG' : 'code_completion_docstring_signature_3.8k_30_150_tokens', \n",
    "            'DC': 'code_completion_docstring_5k_30_150_tokens'\n",
    "        },\n",
    "        ######## INPUT\n",
    "        'global_ast_results': '/workspaces/code-rationales/data/global_ast_results',\n",
    "        'grouping_results': '/workspaces/code-rationales/data/experiments/grouping_results', \n",
    "        'quantitative_results' : '/workspaces/code-rationales/data/experiments/quantitative_results',\n",
    "        ######## OUTPUT\n",
    "        'rationales_distributions': '/workspaces/code-rationales/data/experiments/rationales_distributions',\n",
    "        'num_experiments': 30,\n",
    "        'num_samples': 100,\n",
    "        'bootstrapping_size' : 'none'\n",
    "    }\n",
    "    \n",
    "params = param_default()"
   ]
  },
  {
   "cell_type": "markdown",
   "metadata": {},
   "source": [
    "## Source Code"
   ]
  },
  {
   "cell_type": "code",
   "execution_count": 14,
   "metadata": {},
   "outputs": [],
   "source": [
    "import json\n",
    "import pandas as pd\n",
    "import numpy as np\n",
    "import math\n",
    "from statistics import NormalDist\n",
    "from venn import venn\n",
    "\n",
    "import seaborn as sns; sns.set_theme()\n",
    "import matplotlib.pyplot as plt\n",
    "from matplotlib.colors import LinearSegmentedColormap\n",
    "\n",
    "\n",
    "pd.options.display.float_format = '{:.2f}'.format"
   ]
  },
  {
   "cell_type": "code",
   "execution_count": 15,
   "metadata": {},
   "outputs": [],
   "source": [
    "from code_rationales.taxonomies import *\n",
    "import os.path"
   ]
  },
  {
   "cell_type": "markdown",
   "metadata": {},
   "source": [
    "### Statistic Treatments"
   ]
  },
  {
   "cell_type": "code",
   "execution_count": 16,
   "metadata": {},
   "outputs": [],
   "source": [
    "def bootstrapping( np_data, np_func, size ):\n",
    "    \"\"\"Create a bootstrap sample given data and a function\n",
    "    For instance, a bootstrap sample of means, or mediands. \n",
    "    The bootstrap replicates are a long as the original size\n",
    "    we can choose any observation more than once (resampling with replacement:np.random.choice)\n",
    "    \"\"\"\n",
    "    \n",
    "    #Cleaning NaNs\n",
    "    #np_data_clean = np_data[ np.logical_not( np.isnan(np_data) ) ] \n",
    "    \n",
    "    #The size of the bootstrap replicate is as big as size\n",
    "    #Creating the boostrap replicates as long as the orignal data size\n",
    "    #This strategy might work as imputation \n",
    "    bootstrap_repl = [ np_func( np.random.choice( np_data, size=len(np_data) ) ) for i in range( size ) ]\n",
    "    \n",
    "    #logging.info(\"Covariate: \" + cov) #Empirical Mean\n",
    "    #logging.info(\"Empirical Mean: \" + str(np.mean(np_data_clean))) #Empirical Mean\n",
    "    #logging.info(\"Bootstrapped Mean: \" + str( np.mean(bootstrap_repl) ) ) #Bootstrapped Mean\n",
    "    \n",
    "    return np.array( bootstrap_repl )"
   ]
  },
  {
   "cell_type": "markdown",
   "metadata": {},
   "source": [
    "### Data Loading"
   ]
  },
  {
   "cell_type": "code",
   "execution_count": 17,
   "metadata": {},
   "outputs": [],
   "source": [
    "get_experiment_path =  lambda results_folder, dataset, exp: results_folder + '/' + dataset + '_exp_' + str(exp) +'.txt'"
   ]
  },
  {
   "cell_type": "code",
   "execution_count": 18,
   "metadata": {},
   "outputs": [],
   "source": [
    "def load_ast_rationales_results(dataset_id: str) :\n",
    "    experiment_paths = [get_experiment_path(params['global_ast_results'] + '/' + params['model'] + '/' + params['modality'], params['datasets'][dataset_id], exp) for exp in range(params['num_experiments'])]\n",
    "    experiment_results = []\n",
    "    for experiment_path in experiment_paths:\n",
    "        with open(experiment_path, 'r') as file:\n",
    "            experiment_results.append(json.loads(file.read()))\n",
    "    return experiment_results"
   ]
  },
  {
   "cell_type": "code",
   "execution_count": 19,
   "metadata": {},
   "outputs": [],
   "source": [
    "def load_rationales_results(dataset_id: str, level: str) :\n",
    "    file_path = params['grouping_results'] + '/' + params['model'] + '/' + params['modality'] + '/' + params['datasets'][dataset_id] + '_' + level + '.json'\n",
    "    with open(file_path, 'r') as file:\n",
    "        return json.loads(file.read())"
   ]
  },
  {
   "cell_type": "markdown",
   "metadata": {},
   "source": [
    "### Data Processing"
   ]
  },
  {
   "cell_type": "code",
   "execution_count": 20,
   "metadata": {},
   "outputs": [],
   "source": [
    "def flat_rationales_probabilities(rationales_results):\n",
    "    rational_distributions = {}\n",
    "    for experiment_result in rationales_results:\n",
    "        experiments_rationales_values = {rational_key: [] for target_values in experiment_result.values() for rational_key in target_values.keys()}\n",
    "        [experiments_rationales_values[rational_key].extend(rational_values) for target_values in experiment_result.values() for rational_key, rational_values in target_values.items()]\n",
    "        for key, values in experiments_rationales_values.items(): rational_distributions.setdefault(key, []).extend(values)\n",
    "    #for rational_key in rational_distributions.keys(): rational_distributions[rational_key] = bootstrapping(rational_distributions[rational_key], np.mean, params['bootstrapping_size']) ## to reduce dimentionality\n",
    "    return rational_distributions"
   ]
  },
  {
   "cell_type": "code",
   "execution_count": 21,
   "metadata": {},
   "outputs": [],
   "source": [
    "def get_rationales_distribution(dataset_id: str, level: str, experiments: int):\n",
    "    rationales_results = load_ast_rationales_results(dataset_id)[:experiments] if level == 'level_0' else load_rationales_results(dataset_id, level)[:experiments]\n",
    "    dataset_rationales_values = flat_rationales_probabilities(rationales_results)\n",
    "    return dataset_rationales_values"
   ]
  },
  {
   "cell_type": "code",
   "execution_count": 22,
   "metadata": {},
   "outputs": [],
   "source": [
    "def create_df_rationales_distributions(level, exp):\n",
    "    file_path = params['rationales_distributions'] + '/' + params['model'] + '/' + params['modality'] + '/' + 'by_category_' + level + '_exp_' + str(exp) + '_bootstrapping_' + str(params['bootstrapping_size']) + '.csv'\n",
    "    if os.path.isfile(file_path):\n",
    "          plot_data = pd.read_csv(file_path, index_col=[0])\n",
    "          return plot_data\n",
    "    rationales_distributions = {key: {} for key in params['datasets'].keys()}\n",
    "    for dataset_id in params['datasets'].keys(): rationales_distributions[dataset_id] = get_rationales_distribution(dataset_id, level, exp)\n",
    "    plot_df = pd.DataFrame(\n",
    "    [(dataset_id, category, value) for dataset_id, categories in rationales_distributions.items() for category, values in categories.items() for value in values],\n",
    "    columns=['dataset_id', 'rational_category', 'rational_value'])\n",
    "    plot_df.to_csv(file_path)\n",
    "    return plot_df"
   ]
  },
  {
   "cell_type": "markdown",
   "metadata": {},
   "source": [
    "## Experiment [1.2.1]\n",
    "**Level 1 rationales distribution box plots by frequency**"
   ]
  },
  {
   "cell_type": "code",
   "execution_count": 23,
   "metadata": {},
   "outputs": [],
   "source": [
    "frequencies_df = pd.read_csv(params['quantitative_results'] + '/' + params['model'] + '/' + params['modality']  + '/' + params['datasets']['DC'] + '_frequencies_dataset' + '.csv')"
   ]
  },
  {
   "cell_type": "code",
   "execution_count": 24,
   "metadata": {},
   "outputs": [
    {
     "name": "stderr",
     "output_type": "stream",
     "text": [
      "/usr/local/lib/python3.8/dist-packages/numpy/lib/arraysetops.py:583: FutureWarning: elementwise comparison failed; returning scalar instead, but in the future will perform elementwise comparison\n",
      "  mask |= (ar1 == a)\n"
     ]
    }
   ],
   "source": [
    "df_rationales_distributions_level_1 = create_df_rationales_distributions('level_1', params['num_experiments'])"
   ]
  },
  {
   "cell_type": "code",
   "execution_count": 26,
   "metadata": {},
   "outputs": [
    {
     "data": {
      "text/plain": [
       "['errors',\n",
       " 'excluded',\n",
       " 'unknown',\n",
       " 'nl_noun',\n",
       " 'punctuation',\n",
       " 'identifier',\n",
       " 'expression',\n",
       " 'indentation',\n",
       " 'structural',\n",
       " 'statements']"
      ]
     },
     "execution_count": 26,
     "metadata": {},
     "output_type": "execute_result"
    }
   ],
   "source": [
    "top_most_frequent = set()\n",
    "for dataset_id in params['datasets'].keys():\n",
    "    top_most_frequent.update(frequencies_df[frequencies_df['dataset_id'] == dataset_id].nlargest(10, 'total')['category'].tolist())\n",
    "top_most_frequent = list(top_most_frequent)\n",
    "top_most_frequent"
   ]
  },
  {
   "cell_type": "code",
   "execution_count": 27,
   "metadata": {},
   "outputs": [],
   "source": [
    "pd.set_option('display.float_format', lambda x: '%7f' % x)"
   ]
  },
  {
   "cell_type": "code",
   "execution_count": 29,
   "metadata": {},
   "outputs": [],
   "source": [
    "fig, axes = plt.subplots(nrows=len(top_most_frequent)*2//2, ncols=2, figsize=(20, 2.5*(len(top_most_frequent)*2//2)))\n",
    "concept_index = 0\n",
    "for i in range(0,len(axes.flat),2):\n",
    "    category_df = df_rationales_distributions_level_1[df_rationales_distributions_level_1['rational_category']==top_most_frequent[concept_index]]\n",
    "    g = sns.kdeplot(\n",
    "        data=category_df, \n",
    "        x=\"rational_value\", \n",
    "        hue=\"dataset_id\",\n",
    "        palette = 'husl',\n",
    "        ax=axes.flat[i])\n",
    "    h = sns.boxplot(\n",
    "        data=category_df,\n",
    "        x=\"rational_value\", \n",
    "        y=\"dataset_id\", \n",
    "        fliersize = 2.5, \n",
    "        orient=\"h\",\n",
    "        ax=axes.flat[i+1]\n",
    "    )\n",
    "    g.set(xlabel=f\"[{top_most_frequent[concept_index]}] Density\", ylabel=\"Density\")\n",
    "    h.set(xlabel=f\"[{top_most_frequent[concept_index]}] Distribution\", ylabel=\"LLMs\")\n",
    "    concept_index += 1\n",
    "fig.tight_layout()\n",
    "\n"
   ]
  },
  {
   "cell_type": "code",
   "execution_count": null,
   "metadata": {},
   "outputs": [
    {
     "data": {
      "image/png": "[encoded data removed]",
      "text/plain": [
       "<Figure size 1400x400 with 2 Axes>"
      ]
     },
     "metadata": {},
     "output_type": "display_data"
    }
   ],
   "source": [
    "f, axs = plt.subplots(1, 2, figsize=(14, 4), gridspec_kw=dict(width_ratios=[4, 3]))\n",
    "g = sns.kdeplot(\n",
    "    data=category_df, \n",
    "    x=\"rational_value\", \n",
    "    hue=\"dataset_id\",\n",
    "    palette = 'husl',\n",
    "    ax=axs[1]\n",
    ")\n",
    "h = sns.boxplot(\n",
    "    data=category_df,\n",
    "    x=\"rational_value\", \n",
    "    y=\"dataset_id\", \n",
    "    fliersize = 2.5, \n",
    "    orient=\"h\",\n",
    "    ax=axs[0]\n",
    ")\n",
    "h.set(xlabel=f\"[{category}] Distribution\", ylabel=\"LLMs\")\n",
    "g.set(xlabel=f\"[{category}] Density\", ylabel=\"Density\")\n",
    "    \n",
    "f.tight_layout()"
   ]
  },
  {
   "cell_type": "code",
   "execution_count": null,
   "metadata": {},
   "outputs": [
    {
     "data": {
      "text/html": [
       "<div>\n",
       "<style scoped>\n",
       "    .dataframe tbody tr th:only-of-type {\n",
       "        vertical-align: middle;\n",
       "    }\n",
       "\n",
       "    .dataframe tbody tr th {\n",
       "        vertical-align: top;\n",
       "    }\n",
       "\n",
       "    .dataframe thead th {\n",
       "        text-align: right;\n",
       "    }\n",
       "</style>\n",
       "<table border=\"1\" class=\"dataframe\">\n",
       "  <thead>\n",
       "    <tr style=\"text-align: right;\">\n",
       "      <th></th>\n",
       "      <th>dataset_id</th>\n",
       "      <th>rational_category</th>\n",
       "      <th>rational_value</th>\n",
       "    </tr>\n",
       "  </thead>\n",
       "  <tbody>\n",
       "    <tr>\n",
       "      <th>0</th>\n",
       "      <td>SG_BD</td>\n",
       "      <td>punctuation</td>\n",
       "      <td>0.062116</td>\n",
       "    </tr>\n",
       "    <tr>\n",
       "      <th>1</th>\n",
       "      <td>SG_BD</td>\n",
       "      <td>punctuation</td>\n",
       "      <td>0.062310</td>\n",
       "    </tr>\n",
       "    <tr>\n",
       "      <th>2</th>\n",
       "      <td>SG_BD</td>\n",
       "      <td>punctuation</td>\n",
       "      <td>0.062232</td>\n",
       "    </tr>\n",
       "    <tr>\n",
       "      <th>3</th>\n",
       "      <td>SG_BD</td>\n",
       "      <td>punctuation</td>\n",
       "      <td>0.062790</td>\n",
       "    </tr>\n",
       "    <tr>\n",
       "      <th>4</th>\n",
       "      <td>SG_BD</td>\n",
       "      <td>punctuation</td>\n",
       "      <td>0.062764</td>\n",
       "    </tr>\n",
       "    <tr>\n",
       "      <th>...</th>\n",
       "      <td>...</td>\n",
       "      <td>...</td>\n",
       "      <td>...</td>\n",
       "    </tr>\n",
       "    <tr>\n",
       "      <th>66495</th>\n",
       "      <td>DC</td>\n",
       "      <td>nl_particle</td>\n",
       "      <td>0.039217</td>\n",
       "    </tr>\n",
       "    <tr>\n",
       "      <th>66496</th>\n",
       "      <td>DC</td>\n",
       "      <td>nl_particle</td>\n",
       "      <td>0.049778</td>\n",
       "    </tr>\n",
       "    <tr>\n",
       "      <th>66497</th>\n",
       "      <td>DC</td>\n",
       "      <td>nl_particle</td>\n",
       "      <td>0.028319</td>\n",
       "    </tr>\n",
       "    <tr>\n",
       "      <th>66498</th>\n",
       "      <td>DC</td>\n",
       "      <td>nl_particle</td>\n",
       "      <td>0.068493</td>\n",
       "    </tr>\n",
       "    <tr>\n",
       "      <th>66499</th>\n",
       "      <td>DC</td>\n",
       "      <td>nl_particle</td>\n",
       "      <td>0.046848</td>\n",
       "    </tr>\n",
       "  </tbody>\n",
       "</table>\n",
       "<p>66500 rows × 3 columns</p>\n",
       "</div>"
      ],
      "text/plain": [
       "      dataset_id rational_category  rational_value\n",
       "0          SG_BD       punctuation        0.062116\n",
       "1          SG_BD       punctuation        0.062310\n",
       "2          SG_BD       punctuation        0.062232\n",
       "3          SG_BD       punctuation        0.062790\n",
       "4          SG_BD       punctuation        0.062764\n",
       "...          ...               ...             ...\n",
       "66495         DC       nl_particle        0.039217\n",
       "66496         DC       nl_particle        0.049778\n",
       "66497         DC       nl_particle        0.028319\n",
       "66498         DC       nl_particle        0.068493\n",
       "66499         DC       nl_particle        0.046848\n",
       "\n",
       "[66500 rows x 3 columns]"
      ]
     },
     "execution_count": 15,
     "metadata": {},
     "output_type": "execute_result"
    }
   ],
   "source": [
    "df_rationales_distributions_level_1"
   ]
  }
 ],
 "metadata": {
  "kernelspec": {
   "display_name": "Python 3",
   "language": "python",
   "name": "python3"
  },
  "language_info": {
   "codemirror_mode": {
    "name": "ipython",
    "version": 3
   },
   "file_extension": ".py",
   "mimetype": "text/x-python",
   "name": "python",
   "nbconvert_exporter": "python",
   "pygments_lexer": "ipython3",
   "version": "3.8.10"
  }
 },
 "nbformat": 4,
 "nbformat_minor": 2
}
