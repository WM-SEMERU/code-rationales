{
 "cells": [
  {
   "cell_type": "markdown",
   "metadata": {},
   "source": [
    "# Experiments [1.1.1] [1.1.2] - Rationales Frequencies"
   ]
  },
  {
   "cell_type": "code",
   "execution_count": null,
   "metadata": {},
   "outputs": [],
   "source": [
    "def param_default():\n",
    "    return {\n",
    "        'model': 'codeparrot',\n",
    "        'datasets' : {\n",
    "            'SG_BD' : 'code_completion_random_cut_5k_30_512_tokens', \n",
    "            'DC_SG_BD' : 'code_completion_docstring_random_cut_3.8k_30_150_tokens', \n",
    "            'DC_SG' : 'code_completion_docstring_signature_3.8k_30_150_tokens', \n",
    "            'DC': 'code_completion_docstring_5k_30_150_tokens'\n",
    "        },\n",
    "        'modality' : 'sc',\n",
    "        ######## INPUT \n",
    "        'rational_results': '/workspaces/code-rationales/data/rationales/gpt',\n",
    "        'sampling_results': '/workspaces/code-rationales/data/sampling/gpt',\n",
    "        'tagged_rationales': '/workspaces/code-rationales/data/tagged_rationales/pure_code',\n",
    "        'global_ast_results': '/workspaces/code-rationales/data/global_ast_results/gpt/pure_code',\n",
    "        'grouping_results': '/workspaces/code-rationales/data/experiments/grouping_results', \n",
    "        ######## OUTPUT\n",
    "        'rationales_distributions': '/workspaces/code-rationales/data/experiments/rationales_distributions',\n",
    "        'num_experiments': 30,\n",
    "        'num_samples': 100,\n",
    "    }\n",
    "    \n",
    "params = param_default()"
   ]
  },
  {
   "cell_type": "markdown",
   "metadata": {},
   "source": [
    "## Source Code"
   ]
  },
  {
   "cell_type": "code",
   "execution_count": null,
   "metadata": {},
   "outputs": [],
   "source": [
    "from pathlib import Path\n",
    "import csv\n",
    "import seaborn as sns; sns.set_theme()\n",
    "import matplotlib.pyplot as plt\n",
    "import pandas as pd\n",
    "import numpy as np\n",
    "import functools\n",
    "import json\n",
    "import os.path\n",
    "from sklearn.preprocessing import StandardScaler\n",
    "\n",
    "pd.options.display.float_format = '{:.2f}'.format"
   ]
  },
  {
   "cell_type": "code",
   "execution_count": null,
   "metadata": {},
   "outputs": [],
   "source": []
  }
 ],
 "metadata": {
  "kernelspec": {
   "display_name": "Python 3",
   "language": "python",
   "name": "python3"
  },
  "language_info": {
   "name": "python",
   "version": "3.8.10"
  }
 },
 "nbformat": 4,
 "nbformat_minor": 2
}
