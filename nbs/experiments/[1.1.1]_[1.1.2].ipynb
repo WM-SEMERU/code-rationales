{
 "cells": [
  {
   "cell_type": "markdown",
   "metadata": {},
   "source": [
    "# Experiments [1.1.1] [1.1.2] - Rationales Frequencies"
   ]
  },
  {
   "cell_type": "code",
   "execution_count": 1,
   "metadata": {},
   "outputs": [],
   "source": [
    "def param_default():\n",
    "    return {\n",
    "        'model': 'codeparrot',\n",
    "        'dataset' : 'DC_SG_BD', #### CHANGE\n",
    "        'modality' : 'nl_sc',\n",
    "        'datasets' : {\n",
    "            'SG_BD' : 'code_completion_random_cut_5k_30_512_tokens', \n",
    "            'DC_SG_BD' : 'code_completion_docstring_random_cut_3.8k_30_150_tokens', \n",
    "            'DC_SG' : 'code_completion_docstring_signature_3.8k_30_150_tokens', \n",
    "            'DC': 'code_completion_docstring_5k_30_150_tokens'\n",
    "        },\n",
    "        'num_experiments' : 30, \n",
    "        'bootstrapping_size': 500,\n",
    "        ######## INPUT \n",
    "        'global_taxonomy_results': '/workspaces/code-rationales/data/global_taxonomy_results/gpt',\n",
    "        'grouping_results': '/workspaces/code-rationales/data/experiments/grouping_results', \n",
    "        ######## OUTPUT\n",
    "        'quantitative_results' : '/workspaces/code-rationales/data/experiments/quantitative_results',\n",
    "    }\n",
    "    \n",
    "params = param_default()"
   ]
  },
  {
   "cell_type": "markdown",
   "metadata": {},
   "source": [
    "## Source Code"
   ]
  },
  {
   "cell_type": "code",
   "execution_count": 2,
   "metadata": {},
   "outputs": [],
   "source": [
    "import json\n",
    "import pandas as pd\n",
    "import numpy as np\n",
    "import math\n",
    "from statistics import NormalDist\n",
    "\n",
    "import seaborn as sns; sns.set_theme()\n",
    "import matplotlib.pyplot as plt\n",
    "from matplotlib.colors import LinearSegmentedColormap\n",
    "\n",
    "pd.options.display.float_format = '{:.2f}'.format"
   ]
  },
  {
   "cell_type": "code",
   "execution_count": 3,
   "metadata": {},
   "outputs": [],
   "source": [
    "from code_rationales.taxonomies import *\n",
    "import os.path"
   ]
  },
  {
   "cell_type": "markdown",
   "metadata": {},
   "source": [
    "### Frequency Dataframes"
   ]
  },
  {
   "cell_type": "code",
   "execution_count": 4,
   "metadata": {},
   "outputs": [],
   "source": [
    "def flat_global_results(experiment_global_result: dict):\n",
    "    flatten_results = { key: [] for key in experiment_global_result.keys() } ## There are 31 fixed categories\n",
    "    for target_key, rationales in experiment_global_result.items():\n",
    "        for rational_key, rational_values in rationales.items():\n",
    "            flatten_results[rational_key] += rational_values\n",
    "    return flatten_results"
   ]
  },
  {
   "cell_type": "code",
   "execution_count": 5,
   "metadata": {},
   "outputs": [],
   "source": [
    "def create_frequencies_dataframe(experients_global_results: list):\n",
    "    frequencies_df = pd.DataFrame(columns=experients_global_results[0].keys())\n",
    "    for experiment_global_result in experients_global_results:\n",
    "        rationales_results = flat_global_results(experiment_global_result)\n",
    "        frequencies_df = frequencies_df.append({key: len(value) for key, value in rationales_results.items()}, ignore_index=True)\n",
    "    frequencies_df = frequencies_df.fillna(0)   \n",
    "    return frequencies_df\n"
   ]
  },
  {
   "cell_type": "markdown",
   "metadata": {},
   "source": [
    "### Groupings"
   ]
  },
  {
   "cell_type": "code",
   "execution_count": 6,
   "metadata": {},
   "outputs": [],
   "source": [
    "get_experiment_path =  lambda results_folder, dataset, exp: results_folder + '/' + dataset + '_exp_' + str(exp) +'.txt'"
   ]
  },
  {
   "cell_type": "code",
   "execution_count": 7,
   "metadata": {},
   "outputs": [],
   "source": [
    "def store_groupings(global_results: list, path:str):\n",
    "    with open(path, 'w') as output_file: \n",
    "        json.dump(global_results, output_file)"
   ]
  },
  {
   "cell_type": "code",
   "execution_count": 8,
   "metadata": {},
   "outputs": [],
   "source": [
    "def open_groupings(path:str):\n",
    "    with open(path, 'r') as output_file:\n",
    "        data = json.load(output_file)\n",
    "    return data"
   ]
  },
  {
   "cell_type": "code",
   "execution_count": 9,
   "metadata": {},
   "outputs": [],
   "source": [
    "def get_experiments_results(dataset_id:str , name:str):\n",
    "    file_path = params['grouping_results'] + '/' + params['model'] + '/' + params['modality'] + '/' + params['datasets'][params['dataset']] + '_' + name + '.json'\n",
    "    if os.path.isfile(file_path):\n",
    "        return open_groupings(file_path)\n",
    "    experiment_paths = [get_experiment_path(params['global_taxonomy_results'], params['datasets'][dataset_id], exp) for exp in range(params['num_experiments'])]\n",
    "    experiment_global_results = []\n",
    "    for experiment_path in experiment_paths:\n",
    "        with open(experiment_path, 'r') as file:\n",
    "            experiment_global_results.append(json.loads(file.read()))\n",
    "    store_groupings(experiment_global_results, file_path)\n",
    "    return experiment_global_results"
   ]
  },
  {
   "cell_type": "markdown",
   "metadata": {},
   "source": [
    "### Statistics "
   ]
  },
  {
   "cell_type": "code",
   "execution_count": 10,
   "metadata": {},
   "outputs": [],
   "source": [
    "def bootstrapping( np_data, np_func, size ):\n",
    "    \"\"\"Create a bootstrap sample given data and a function\n",
    "    For instance, a bootstrap sample of means, or mediands. \n",
    "    The bootstrap replicates are a long as the original size\n",
    "    we can choose any observation more than once (resampling with replacement:np.random.choice)\n",
    "    \"\"\"\n",
    "    \n",
    "    #Cleaning NaNs\n",
    "    #np_data_clean = np_data[ np.logical_not( np.isnan(np_data) ) ] \n",
    "    \n",
    "    #The size of the bootstrap replicate is as big as size\n",
    "    #Creating the boostrap replicates as long as the orignal data size\n",
    "    #This strategy might work as imputation \n",
    "    bootstrap_repl = [ np_func( np.random.choice( np_data, size=len(np_data) ) ) for i in range( size ) ]\n",
    "    \n",
    "    #logging.info(\"Covariate: \" + cov) #Empirical Mean\n",
    "    #logging.info(\"Empirical Mean: \" + str(np.mean(np_data_clean))) #Empirical Mean\n",
    "    #logging.info(\"Bootstrapped Mean: \" + str( np.mean(bootstrap_repl) ) ) #Bootstrapped Mean\n",
    "    \n",
    "    return np.array( bootstrap_repl )"
   ]
  },
  {
   "cell_type": "code",
   "execution_count": 11,
   "metadata": {},
   "outputs": [],
   "source": [
    "def confidence_intervals_large_samples(data, confidence=0.95):\n",
    "    \"\"\"\n",
    "    @confidence: confidence interval \n",
    "    @return: tuple (lowerbound, uperbound, h-value)\n",
    "    \"\"\"\n",
    "    dist = NormalDist.from_samples( data )\n",
    "    z = NormalDist().inv_cdf((1 + confidence) / 2.)\n",
    "    h = dist.stdev * z / ((len(data) - 1) ** .5)\n",
    "    return dist.mean - h, dist.mean + h, h"
   ]
  },
  {
   "cell_type": "code",
   "execution_count": 12,
   "metadata": {},
   "outputs": [],
   "source": [
    "def boostrap_dictionary(dictionary: dict, size):\n",
    "    boostrapped_dict = {}\n",
    "    for key, values in dictionary.items():\n",
    "        if values:\n",
    "            boostrapped_dict[key] = bootstrapping(values, np.mean, size)\n",
    "    return boostrapped_dict"
   ]
  },
  {
   "cell_type": "markdown",
   "metadata": {},
   "source": [
    "### Calculate statistics and get results DF"
   ]
  },
  {
   "cell_type": "code",
   "execution_count": 13,
   "metadata": {},
   "outputs": [],
   "source": [
    "### CREATE GROUP FREQUENCY RESULTS\n",
    "def calculate_results(global_dataframe):\n",
    "    results_df = pd.DataFrame(columns=['type', 'group', 'category', 'mean', 'median', 'std', 'ci', 'total'])\n",
    "    for category in global_dataframe.columns:\n",
    "        experiments_values = global_dataframe[category].tolist()\n",
    "        try:\n",
    "            group = [key for key, value in global_groups().items() if category in value][0] ## Mapping from taxonomy groups\n",
    "        except Exception as e:\n",
    "            print(e)\n",
    "        results_df = results_df.append({\n",
    "            'type': group.split('_')[0], \n",
    "            'group': group, \n",
    "            'category': category, \n",
    "            'median' : np.median(experiments_values),\n",
    "            'mean' : np.mean(experiments_values), \n",
    "            'std' : np.std(experiments_values),\n",
    "            'ci' : confidence_intervals_large_samples(experiments_values),\n",
    "            'total' : global_dataframe[category].sum()\n",
    "        }, ignore_index=True)\n",
    "    return results_df.sort_values(by='median', ascending=False).reset_index(drop=True)"
   ]
  },
  {
   "cell_type": "code",
   "execution_count": null,
   "metadata": {},
   "outputs": [],
   "source": [
    "def get_freqcuencies_df():\n",
    "    frequencies_df = pd.DataFrame(columns=['category', 'total', 'dataset_id'])\n",
    "    for dataset_id in params['datasets'].keys():\n",
    "        dataset_global_results = get_experiments_results('SC', 'level_1')\n",
    "        global_frequencies_dataframe_results = calculate_results(create_frequencies_dataframe(dataset_global_results)).sort_values(by=['group','mean'],ascending=[True, False])\n",
    "        global_frequencies_dataframe_results.to_csv(params['quantitative_results'] + '/' + params['model'] + '/' + params['modality']  + '/' + params['datasets'][params['dataset']] + '_frequencies' + '.csv', index=False)\n",
    "        dataset_frequency_df = global_frequencies_dataframe_results[['category', 'total']].copy()\n",
    "        dataset_frequency_df['dataset_id'] = [dataset_id]*dataset_frequency_df.shape[0]\n",
    "        frequencies_df = pd.concat([frequencies_df,dataset_frequency_df], ignore_index=True)\n",
    "    return frequencies_df"
   ]
  },
  {
   "cell_type": "markdown",
   "metadata": {},
   "source": [
    "## Experiment 1.1.1\n",
    "Top 20 most frequent level_1 concepts"
   ]
  },
  {
   "cell_type": "code",
   "execution_count": 16,
   "metadata": {},
   "outputs": [
    {
     "data": {
      "text/html": [
       "<div>\n",
       "<style scoped>\n",
       "    .dataframe tbody tr th:only-of-type {\n",
       "        vertical-align: middle;\n",
       "    }\n",
       "\n",
       "    .dataframe tbody tr th {\n",
       "        vertical-align: top;\n",
       "    }\n",
       "\n",
       "    .dataframe thead th {\n",
       "        text-align: right;\n",
       "    }\n",
       "</style>\n",
       "<table border=\"1\" class=\"dataframe\">\n",
       "  <thead>\n",
       "    <tr style=\"text-align: right;\">\n",
       "      <th></th>\n",
       "      <th>category</th>\n",
       "      <th>total</th>\n",
       "      <th>dataset_id</th>\n",
       "    </tr>\n",
       "  </thead>\n",
       "  <tbody>\n",
       "    <tr>\n",
       "      <th>0</th>\n",
       "      <td>excluded</td>\n",
       "      <td>20568908</td>\n",
       "      <td>SG_BD</td>\n",
       "    </tr>\n",
       "    <tr>\n",
       "      <th>1</th>\n",
       "      <td>nl_preposition</td>\n",
       "      <td>1544956</td>\n",
       "      <td>SG_BD</td>\n",
       "    </tr>\n",
       "    <tr>\n",
       "      <th>2</th>\n",
       "      <td>nl_determiner</td>\n",
       "      <td>1382492</td>\n",
       "      <td>SG_BD</td>\n",
       "    </tr>\n",
       "    <tr>\n",
       "      <th>3</th>\n",
       "      <td>nl_conjunction</td>\n",
       "      <td>499685</td>\n",
       "      <td>SG_BD</td>\n",
       "    </tr>\n",
       "    <tr>\n",
       "      <th>4</th>\n",
       "      <td>nl_adverb</td>\n",
       "      <td>297293</td>\n",
       "      <td>SG_BD</td>\n",
       "    </tr>\n",
       "    <tr>\n",
       "      <th>...</th>\n",
       "      <td>...</td>\n",
       "      <td>...</td>\n",
       "      <td>...</td>\n",
       "    </tr>\n",
       "    <tr>\n",
       "      <th>131</th>\n",
       "      <td>loops</td>\n",
       "      <td>60457</td>\n",
       "      <td>DC</td>\n",
       "    </tr>\n",
       "    <tr>\n",
       "      <th>132</th>\n",
       "      <td>bool</td>\n",
       "      <td>57461</td>\n",
       "      <td>DC</td>\n",
       "    </tr>\n",
       "    <tr>\n",
       "      <th>133</th>\n",
       "      <td>asserts</td>\n",
       "      <td>34443</td>\n",
       "      <td>DC</td>\n",
       "    </tr>\n",
       "    <tr>\n",
       "      <th>134</th>\n",
       "      <td>unknown</td>\n",
       "      <td>8608041</td>\n",
       "      <td>DC</td>\n",
       "    </tr>\n",
       "    <tr>\n",
       "      <th>135</th>\n",
       "      <td>nl_other</td>\n",
       "      <td>1167870</td>\n",
       "      <td>DC</td>\n",
       "    </tr>\n",
       "  </tbody>\n",
       "</table>\n",
       "<p>136 rows × 3 columns</p>\n",
       "</div>"
      ],
      "text/plain": [
       "           category     total dataset_id\n",
       "0          excluded  20568908      SG_BD\n",
       "1    nl_preposition   1544956      SG_BD\n",
       "2     nl_determiner   1382492      SG_BD\n",
       "3    nl_conjunction    499685      SG_BD\n",
       "4         nl_adverb    297293      SG_BD\n",
       "..              ...       ...        ...\n",
       "131           loops     60457         DC\n",
       "132            bool     57461         DC\n",
       "133         asserts     34443         DC\n",
       "134         unknown   8608041         DC\n",
       "135        nl_other   1167870         DC\n",
       "\n",
       "[136 rows x 3 columns]"
      ]
     },
     "execution_count": 16,
     "metadata": {},
     "output_type": "execute_result"
    }
   ],
   "source": [
    "frequencies_df = get_freqcuencies_df()\n",
    "frequencies_df"
   ]
  },
  {
   "cell_type": "code",
   "execution_count": null,
   "metadata": {},
   "outputs": [],
   "source": [
    "top_20_categories = frequencies_df[frequencies_df['dataset_id'] == 'DC_SG_BD'].sort_values(by='total')"
   ]
  },
  {
   "cell_type": "code",
   "execution_count": 20,
   "metadata": {},
   "outputs": [
    {
     "data": {
      "image/png": "[encoded data removed]",
      "text/plain": [
       "<Figure size 636.5x500 with 1 Axes>"
      ]
     },
     "metadata": {},
     "output_type": "display_data"
    }
   ],
   "source": [
    "g = sns.catplot(x='category', y='total', hue='dataset_id', data=frequencies_df, kind='bar', height=5, aspect=1)"
   ]
  }
 ],
 "metadata": {
  "kernelspec": {
   "display_name": "Python 3",
   "language": "python",
   "name": "python3"
  },
  "language_info": {
   "codemirror_mode": {
    "name": "ipython",
    "version": 3
   },
   "file_extension": ".py",
   "mimetype": "text/x-python",
   "name": "python",
   "nbconvert_exporter": "python",
   "pygments_lexer": "ipython3",
   "version": "3.8.10"
  }
 },
 "nbformat": 4,
 "nbformat_minor": 2
}
