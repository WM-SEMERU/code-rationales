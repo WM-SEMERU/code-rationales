{
 "cells": [
  {
   "cell_type": "markdown",
   "metadata": {},
   "source": [
    "# Exploratory Data Analysis - Proportionality of NL and SC\n",
    "> Prototyping D: Code Completion\n",
    "\n",
    "This notebook focuses on showcasing the proportion of natural language elements and source code elements in both the prompts and the generated code across the four datasets.\n",
    "\n",
    "*Notebook Structure*\n",
    "- Notebook parameters\n",
    "- Source Code\n",
    "    - Imports\n",
    "    - Data Loading\n",
    "    - Data Processing\n",
    "- Experiment [1.4.0.2]\n",
    "\n",
    "*General Instructions*\n",
    "* Collapse cells by tittle to improve the navigation\n",
    "* Before running the experiments, it is required to have tagged_rationales and sampling_results of each dataset.\n",
    "* Read description on each experiment for further instructions"
   ]
  },
  {
   "cell_type": "code",
   "execution_count": 1,
   "metadata": {},
   "outputs": [],
   "source": [
    "def param_default():\n",
    "    return {\n",
    "        'model': 'codeparrot',\n",
    "        'modality' : 'nl_sc',\n",
    "        'datasets' : {\n",
    "            'SG_BD' : 'code_completion_random_cut_5k_30_512_tokens', \n",
    "            'DC_SG_BD' : 'code_completion_docstring_random_cut_3.8k_30_150_tokens', \n",
    "            'DC_SG' : 'code_completion_docstring_signature_3.8k_30_150_tokens', \n",
    "            'DC': 'code_completion_docstring_5k_30_150_tokens'\n",
    "        },\n",
    "        'sampling_results': '/workspaces/code-rationales/data/sampling',\n",
    "        'tagged_rationales': '/workspaces/code-rationales/data/tagged_rationales',\n",
    "        'num_experiments': 30,\n",
    "        'num_samples': 100,\n",
    "    }\n",
    "    \n",
    "params = param_default()"
   ]
  },
  {
   "cell_type": "markdown",
   "metadata": {},
   "source": [
    "## Source Code"
   ]
  },
  {
   "cell_type": "markdown",
   "metadata": {},
   "source": [
    "### Imports"
   ]
  },
  {
   "cell_type": "code",
   "execution_count": 2,
   "metadata": {},
   "outputs": [],
   "source": [
    "from pathlib import Path\n",
    "import csv\n",
    "import seaborn as sns; sns.set_theme()\n",
    "import matplotlib.pyplot as plt\n",
    "import pandas as pd\n",
    "import numpy as np\n",
    "import functools\n",
    "import json\n",
    "import os.path\n",
    "from sklearn.preprocessing import StandardScaler\n",
    "\n",
    "pd.options.display.float_format = '{:.2f}'.format"
   ]
  },
  {
   "cell_type": "markdown",
   "metadata": {},
   "source": [
    "### Data Loading"
   ]
  },
  {
   "cell_type": "code",
   "execution_count": 3,
   "metadata": {},
   "outputs": [],
   "source": [
    "### Retrieve experiments\n",
    "def retrieve_df_tagged_rationales(dataset_name):\n",
    "    get_experiment_path =  lambda exp: params['tagged_rationales'] + '/' + params['modality'] + '/' + dataset_name +'_exp_' + str(exp) +'.csv'\n",
    "    experiment_paths = [get_experiment_path(exp) for exp in range(params['num_experiments'])]\n",
    "    df_tagged_exp_rationales = []\n",
    "    for experiment_path in experiment_paths:\n",
    "        df_tagged_exp_rationales.append(pd.read_csv(experiment_path, index_col=0))\n",
    "    return df_tagged_exp_rationales"
   ]
  },
  {
   "cell_type": "markdown",
   "metadata": {},
   "source": [
    "### Data Processing"
   ]
  },
  {
   "cell_type": "code",
   "execution_count": 4,
   "metadata": {},
   "outputs": [],
   "source": [
    "### token types by sample\n",
    "def get_sample_types_distribution(df_tagged_tokens):\n",
    "    nl_tokens_count = 0 \n",
    "    sc_tokens_count = 0\n",
    "    for token_tags in df_tagged_tokens['tags']:\n",
    "        nl_tokens_count += sum(1 for tag in eval(token_tags) if tag[0] == 'nl')\n",
    "        sc_tokens_count+= sum(1 for tag in eval(token_tags) if tag[0] == 'sc')\n",
    "    return nl_tokens_count, sc_tokens_count"
   ]
  },
  {
   "cell_type": "code",
   "execution_count": 5,
   "metadata": {},
   "outputs": [],
   "source": [
    "## token type distributions by experiment\n",
    "def get_experiment_token_type_counts(df_exp, df_sampled_inputs):\n",
    "    exp_prompt_nl_tokens_count = []\n",
    "    exp_prompt_sc_tokens_count = []\n",
    "    exp_generated_nl_tokens_count = []\n",
    "    exp_generated_sc_tokens_count = []\n",
    "    for sample_id in range(0, params['num_samples']):\n",
    "        df_prompt_rationales = df_exp.loc[df_exp['from_seq_id']==sample_id].head(len(eval(df_sampled_inputs['input_ids'][sample_id])))\n",
    "        df_generated_rationales = df_exp.loc[df_exp['from_seq_id']==sample_id].iloc[len(eval(df_sampled_inputs['input_ids'][sample_id])):]\n",
    "        prompt_nl_tokens_count, prompt_sc_tokens_count = get_sample_types_distribution(df_prompt_rationales)\n",
    "        generated_nl_tokens_count, generated_sc_tokens_count = get_sample_types_distribution(df_generated_rationales)\n",
    "        exp_prompt_nl_tokens_count.append(prompt_nl_tokens_count)\n",
    "        exp_prompt_sc_tokens_count.append(prompt_sc_tokens_count)\n",
    "        exp_generated_nl_tokens_count.append(generated_nl_tokens_count)\n",
    "        exp_generated_sc_tokens_count.append(generated_sc_tokens_count)\n",
    "    return np.median(exp_prompt_nl_tokens_count), np.median(exp_prompt_sc_tokens_count), np.median(exp_generated_nl_tokens_count), np.median(exp_generated_sc_tokens_count)"
   ]
  },
  {
   "cell_type": "code",
   "execution_count": 6,
   "metadata": {},
   "outputs": [],
   "source": [
    "def get_token_type_counts(df_exp_tagged_rationales, df_sampled_inputs):\n",
    "    prompt_nl_tokens_count = []\n",
    "    prompt_sc_tokens_count = []\n",
    "    generated_nl_tokens_count = []\n",
    "    generated_sc_tokens_count = []\n",
    "    for experiment in df_exp_tagged_rationales:\n",
    "        exp_prompt_nl_tokens, exp_prompt_sc_tokens, exp_generated_nl_tokens, exp_generated_sc_tokens = get_experiment_token_type_counts(experiment, df_sampled_inputs)\n",
    "        prompt_nl_tokens_count.append(exp_prompt_nl_tokens), prompt_sc_tokens_count.append(exp_prompt_sc_tokens), generated_nl_tokens_count.append(exp_generated_nl_tokens), generated_sc_tokens_count.append(exp_generated_sc_tokens)\n",
    "    return np.median(prompt_nl_tokens_count), np.median(prompt_sc_tokens_count), np.median(generated_nl_tokens_count), np.median(generated_sc_tokens_count)"
   ]
  },
  {
   "cell_type": "code",
   "execution_count": 7,
   "metadata": {},
   "outputs": [],
   "source": [
    "def create_token_types_counting_df():\n",
    "    df_token_types = pd.DataFrame(columns=['dataset', 'token_type', 'count'])\n",
    "    for dataset_id, dataset in params['datasets'].items():\n",
    "        df_sampled_inputs = pd.read_csv( param_default()['sampling_results'] + '/' + params['model'] + '/' + dataset +'.csv', index_col=0)\n",
    "        df_exp_tagged_rationales = retrieve_df_tagged_rationales(dataset)\n",
    "        prompt_nl_tokens_count, prompt_sc_tokens_count, generated_nl_tokens_count, generated_sc_tokens_count = get_token_type_counts(df_exp_tagged_rationales, df_sampled_inputs)\n",
    "        df_token_types = df_token_types.append({'dataset': dataset_id, 'token_type': 'PMT_NL', 'count': prompt_nl_tokens_count}, ignore_index=True)\n",
    "        df_token_types = df_token_types.append({'dataset': dataset_id, 'token_type': 'PMT_SC', 'count': prompt_sc_tokens_count}, ignore_index=True)\n",
    "        df_token_types = df_token_types.append({'dataset': dataset_id, 'token_type': 'GEN_NL', 'count': generated_nl_tokens_count}, ignore_index=True)\n",
    "        df_token_types = df_token_types.append({'dataset': dataset_id, 'token_type': 'GEN_SC', 'count': generated_sc_tokens_count}, ignore_index=True)\n",
    "    return df_token_types"
   ]
  },
  {
   "cell_type": "markdown",
   "metadata": {},
   "source": [
    "## Experiment [1.4.0.2]\n",
    "**Frequencies of token types in prompts and generated code**\n",
    "\n",
    "*Research Question: What is the proportion of NL and SC elements in the prompts and generated code?*\n",
    "\n",
    "General Instructions: Execute this experiment per dataset separately\n",
    "- Change ```model``` in ```param_default```, indicating the name of the model used for inference\n",
    "- Change ```modality``` in ```param_default```, indicating the id of the modality in the prompt"
   ]
  },
  {
   "cell_type": "markdown",
   "metadata": {},
   "source": [
    "### Prototyping Methodology\n",
    "Here we expose the step by step to run this experiment."
   ]
  },
  {
   "cell_type": "markdown",
   "metadata": {},
   "source": [
    "#### Step 1: create dataframe of frequencies of NL and SC tokens\n",
    "- Iterates over all sampling results for each dataset.\n",
    "- Retrieves the tagged rationales for each set of sampling results.\n",
    "- Counts the number of natural language (NL) and source code (SC) tokens in both the prompts and the generated code for each result.\n",
    "- Since for each sample 30 different generations are executed, calculates the median of these counts.\n",
    "- Returns a dataframe containing information about the datasets, token types, and their counts. "
   ]
  },
  {
   "cell_type": "code",
   "execution_count": 8,
   "metadata": {},
   "outputs": [],
   "source": [
    "df_token_types = create_token_types_counting_df()"
   ]
  },
  {
   "cell_type": "markdown",
   "metadata": {},
   "source": [
    "#### Step 2: prints the summary of countings"
   ]
  },
  {
   "cell_type": "code",
   "execution_count": 9,
   "metadata": {},
   "outputs": [
    {
     "data": {
      "text/html": [
       "<div>\n",
       "<style scoped>\n",
       "    .dataframe tbody tr th:only-of-type {\n",
       "        vertical-align: middle;\n",
       "    }\n",
       "\n",
       "    .dataframe tbody tr th {\n",
       "        vertical-align: top;\n",
       "    }\n",
       "\n",
       "    .dataframe thead th {\n",
       "        text-align: right;\n",
       "    }\n",
       "</style>\n",
       "<table border=\"1\" class=\"dataframe\">\n",
       "  <thead>\n",
       "    <tr style=\"text-align: right;\">\n",
       "      <th></th>\n",
       "      <th>dataset</th>\n",
       "      <th>token_type</th>\n",
       "      <th>count</th>\n",
       "    </tr>\n",
       "  </thead>\n",
       "  <tbody>\n",
       "    <tr>\n",
       "      <th>0</th>\n",
       "      <td>SG_BD</td>\n",
       "      <td>PMT_NL</td>\n",
       "      <td>9.50</td>\n",
       "    </tr>\n",
       "    <tr>\n",
       "      <th>1</th>\n",
       "      <td>SG_BD</td>\n",
       "      <td>PMT_SC</td>\n",
       "      <td>92.50</td>\n",
       "    </tr>\n",
       "    <tr>\n",
       "      <th>2</th>\n",
       "      <td>SG_BD</td>\n",
       "      <td>GEN_NL</td>\n",
       "      <td>12.00</td>\n",
       "    </tr>\n",
       "    <tr>\n",
       "      <th>3</th>\n",
       "      <td>SG_BD</td>\n",
       "      <td>GEN_SC</td>\n",
       "      <td>125.25</td>\n",
       "    </tr>\n",
       "    <tr>\n",
       "      <th>4</th>\n",
       "      <td>DC_SG_BD</td>\n",
       "      <td>PMT_NL</td>\n",
       "      <td>39.00</td>\n",
       "    </tr>\n",
       "    <tr>\n",
       "      <th>5</th>\n",
       "      <td>DC_SG_BD</td>\n",
       "      <td>PMT_SC</td>\n",
       "      <td>182.50</td>\n",
       "    </tr>\n",
       "    <tr>\n",
       "      <th>6</th>\n",
       "      <td>DC_SG_BD</td>\n",
       "      <td>GEN_NL</td>\n",
       "      <td>41.50</td>\n",
       "    </tr>\n",
       "    <tr>\n",
       "      <th>7</th>\n",
       "      <td>DC_SG_BD</td>\n",
       "      <td>GEN_SC</td>\n",
       "      <td>476.25</td>\n",
       "    </tr>\n",
       "    <tr>\n",
       "      <th>8</th>\n",
       "      <td>DC_SG</td>\n",
       "      <td>PMT_NL</td>\n",
       "      <td>28.50</td>\n",
       "    </tr>\n",
       "    <tr>\n",
       "      <th>9</th>\n",
       "      <td>DC_SG</td>\n",
       "      <td>PMT_SC</td>\n",
       "      <td>39.00</td>\n",
       "    </tr>\n",
       "    <tr>\n",
       "      <th>10</th>\n",
       "      <td>DC_SG</td>\n",
       "      <td>GEN_NL</td>\n",
       "      <td>58.00</td>\n",
       "    </tr>\n",
       "    <tr>\n",
       "      <th>11</th>\n",
       "      <td>DC_SG</td>\n",
       "      <td>GEN_SC</td>\n",
       "      <td>630.25</td>\n",
       "    </tr>\n",
       "    <tr>\n",
       "      <th>12</th>\n",
       "      <td>DC</td>\n",
       "      <td>PMT_NL</td>\n",
       "      <td>20.00</td>\n",
       "    </tr>\n",
       "    <tr>\n",
       "      <th>13</th>\n",
       "      <td>DC</td>\n",
       "      <td>PMT_SC</td>\n",
       "      <td>0.00</td>\n",
       "    </tr>\n",
       "    <tr>\n",
       "      <th>14</th>\n",
       "      <td>DC</td>\n",
       "      <td>GEN_NL</td>\n",
       "      <td>78.00</td>\n",
       "    </tr>\n",
       "    <tr>\n",
       "      <th>15</th>\n",
       "      <td>DC</td>\n",
       "      <td>GEN_SC</td>\n",
       "      <td>449.50</td>\n",
       "    </tr>\n",
       "  </tbody>\n",
       "</table>\n",
       "</div>"
      ],
      "text/plain": [
       "     dataset token_type  count\n",
       "0      SG_BD     PMT_NL   9.50\n",
       "1      SG_BD     PMT_SC  92.50\n",
       "2      SG_BD     GEN_NL  12.00\n",
       "3      SG_BD     GEN_SC 125.25\n",
       "4   DC_SG_BD     PMT_NL  39.00\n",
       "5   DC_SG_BD     PMT_SC 182.50\n",
       "6   DC_SG_BD     GEN_NL  41.50\n",
       "7   DC_SG_BD     GEN_SC 476.25\n",
       "8      DC_SG     PMT_NL  28.50\n",
       "9      DC_SG     PMT_SC  39.00\n",
       "10     DC_SG     GEN_NL  58.00\n",
       "11     DC_SG     GEN_SC 630.25\n",
       "12        DC     PMT_NL  20.00\n",
       "13        DC     PMT_SC   0.00\n",
       "14        DC     GEN_NL  78.00\n",
       "15        DC     GEN_SC 449.50"
      ]
     },
     "execution_count": 9,
     "metadata": {},
     "output_type": "execute_result"
    }
   ],
   "source": [
    "df_token_types"
   ]
  },
  {
   "cell_type": "markdown",
   "metadata": {},
   "source": [
    "#### Step 3: prints the countings in a bar plot"
   ]
  },
  {
   "cell_type": "code",
   "execution_count": 10,
   "metadata": {},
   "outputs": [
    {
     "data": {
      "image/png": "[encoded data removed]",
      "text/plain": [
       "<Figure size 636.5x500 with 1 Axes>"
      ]
     },
     "metadata": {},
     "output_type": "display_data"
    }
   ],
   "source": [
    "g = sns.catplot(x='token_type', y='count', hue='dataset', data=df_token_types, kind='bar', height=5, aspect=1)"
   ]
  },
  {
   "cell_type": "markdown",
   "metadata": {},
   "source": [
    "### Prototyping results\n",
    "The following subsections show the generated bar plots for all the four datasets, in the two modalitites. \n",
    "To generate the plots from scrach, please modify the following parameters in ```param_default``` at the beginning of the notebook and run the notebook until this point. \n",
    "- ```'model'```\n",
    "- ```'modality'```\n",
    "\n",
    "### Results\n",
    "- The proportionality of the generated code is bigger than natural language. \n",
    "- The same proportionality is preserved for the prompts. Code > NL\n",
    "- Just documentation as a prompt activates the generation of more natural language and source code tokens. \n",
    "- The prompt combination of DC_SG seems to have a greater proportionality of source code tokens (GEN-SC) in the generated output. This uneven proportionality can be explained since this setting in the prompt (ie., DC_SG and DC_SG_BD) would contain more information than the prompt combination SG_BD and DC. DC_SG exhibits a larger number of GEN_SC tokens in comparison to DC_SG_BD since by adding BD to DC_SG the prompt is more contextualized. Therefore, BD is now conditioning the generation to trigger more code tokens.\n",
    "- There are some generation scenarios where GEN_SC does not correspond with the definition of a method, for instance a variable benign defined right after the docstring, not containing in a method. Since M1 learnt how to complete functions from the training set, this observation is reflected by the results observed in DC, where GEN_SC do not start by defining a function, hence their number would be smaller than the other cases. \n",
    "- Since the model was training on source code only, we argue that DC_SG and DC_SG_BD will have more room to create source code related tokens, encapsulated within a function. \n",
    "\n"
   ]
  },
  {
   "cell_type": "markdown",
   "metadata": {},
   "source": [
    "![token_types_frequencies.jpg](captures/frequencies/token_types_frequencies.jpg)"
   ]
  }
 ],
 "metadata": {
  "kernelspec": {
   "display_name": "Python 3",
   "language": "python",
   "name": "python3"
  },
  "language_info": {
   "codemirror_mode": {
    "name": "ipython",
    "version": 3
   },
   "file_extension": ".py",
   "mimetype": "text/x-python",
   "name": "python",
   "nbconvert_exporter": "python",
   "pygments_lexer": "ipython3",
   "version": "3.8.10"
  }
 },
 "nbformat": 4,
 "nbformat_minor": 2
}
